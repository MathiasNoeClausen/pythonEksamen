{
 "cells": [
  {
   "cell_type": "code",
   "execution_count": 1,
   "metadata": {},
   "outputs": [],
   "source": [
    "from selenium import webdriver\n",
    "from selenium.webdriver.common.by import By\n",
    "from selenium.webdriver.support.ui import WebDriverWait\n",
    "from selenium.webdriver.support import expected_conditions as EC\n",
    "from selenium.webdriver.firefox.options import Options\n",
    "import numpy as np\n",
    "import matplotlib.pyplot as plt\n",
    "import pandas as pd\n",
    "import csv\n",
    "import re\n",
    "import time\n",
    "import seaborn as sns"
   ]
  },
  {
   "cell_type": "code",
   "execution_count": 2,
   "metadata": {},
   "outputs": [],
   "source": [
    "def scroll(driver, timeout, loops):\n",
    "    scroll_pause_time = timeout\n",
    "\n",
    "    last_height = driver.execute_script(\"return document.body.scrollHeight\")\n",
    "    num = 0\n",
    "    \n",
    "    while True and num < loops:\n",
    "        driver.execute_script(\"window.scrollTo(0, document.body.scrollHeight);\")\n",
    "        num = num + 1\n",
    "        time.sleep(scroll_pause_time)\n",
    "        new_height = driver.execute_script(\"return document.body.scrollHeight\")\n",
    "        if new_height == last_height:\n",
    "            break\n",
    "        last_height = new_height"
   ]
  },
  {
   "cell_type": "code",
   "execution_count": 85,
   "metadata": {},
   "outputs": [],
   "source": [
    "url = 'https://www.vivino.com/explore?e=eJwdijsOgCAQBW_zaqDfzo4jGGPWFQmJgAH83V5iM1PMxEIaMSRSiPyQ0UpBXhospMPi6NlvdHEJrvGOvFDhFpKvs-QzNWRaXRXcbZz6-st8itQcHw%3D%3D'\n",
    "product_names = []\n",
    "profile = webdriver.FirefoxProfile()\n",
    "profile.set_preference(\"general.useragent.override\", \"Mozilla/5.0 (X11; Ubuntu; Linux x86_64; rv:81.0) Gecko/20100101 Firefox/81.0\")\n",
    "options = Options()\n",
    "options.headless = True\n",
    "browser = webdriver.Firefox(options=options)\n",
    "options.add_argument(\"start-maximized\")\n",
    "options.add_argument('disable-infobars')\n",
    "browser.get(url)\n",
    "\n",
    "loops = 1\n",
    "timeout = 5\n",
    "scroll(browser, timeout, loops)\n",
    "\n",
    "titles = browser.find_elements_by_class_name('vintageTitle__wine--U7t9G')\n",
    "prices = browser.find_elements_by_xpath(\"(//*[contains(@class, 'addToCartButton__price')])\")\n",
    "ratings = browser.find_elements_by_class_name('vivinoRating__averageValue--3Navj')\n",
    "reviews = browser.find_elements_by_class_name('vivinoRating__caption--3tZeS')\n",
    "countries = browser.find_elements_by_xpath('//a[contains(@href, \"/explore?country_code\")]')\n",
    "\n",
    "#for price in prices:\n",
    "#    print('price:',price.text)\n",
    "for title, price, rating, review, country in zip(titles, prices, ratings, reviews, countries):\n",
    "    with open('vinData.csv', 'a', encoding='UTF8') as f:\n",
    "        writer = csv.writer(f)\n",
    "        date = 9999\n",
    "        line = re.findall(r'\\d+', title.text)\n",
    "        \n",
    "        if(len(line)>0):\n",
    "            for l in line:\n",
    "                if(len(str(l)) == 4):\n",
    "                    date = l\n",
    "                    \n",
    "        data = [title.text, date, price.text.split(\"\\n\", 1)[0], rating.text, review.text.split(\" \", 1)[0], country.text]\n",
    "        writer.writerow(data)\n",
    "                                "
   ]
  },
  {
   "cell_type": "code",
   "execution_count": 83,
   "metadata": {
    "scrolled": true
   },
   "outputs": [
    {
     "data": {
      "text/html": [
       "<div>\n",
       "<style scoped>\n",
       "    .dataframe tbody tr th:only-of-type {\n",
       "        vertical-align: middle;\n",
       "    }\n",
       "\n",
       "    .dataframe tbody tr th {\n",
       "        vertical-align: top;\n",
       "    }\n",
       "\n",
       "    .dataframe thead th {\n",
       "        text-align: right;\n",
       "    }\n",
       "</style>\n",
       "<table border=\"1\" class=\"dataframe\">\n",
       "  <thead>\n",
       "    <tr style=\"text-align: right;\">\n",
       "      <th></th>\n",
       "      <th>Name</th>\n",
       "      <th>Year</th>\n",
       "      <th>Price</th>\n",
       "      <th>Rating</th>\n",
       "      <th>Reviews</th>\n",
       "      <th>Country</th>\n",
       "    </tr>\n",
       "  </thead>\n",
       "  <tbody>\n",
       "  </tbody>\n",
       "</table>\n",
       "</div>"
      ],
      "text/plain": [
       "Empty DataFrame\n",
       "Columns: [Name, Year, Price, Rating, Reviews, Country]\n",
       "Index: []"
      ]
     },
     "execution_count": 83,
     "metadata": {},
     "output_type": "execute_result"
    }
   ],
   "source": [
    "df = pd.read_csv('vinData.csv', names=[\"Name\", \"Year\", \"Price\", \"Rating\", \"Reviews\", \"Country\"])\n",
    "df.head()"
   ]
  },
  {
   "cell_type": "code",
   "execution_count": 79,
   "metadata": {},
   "outputs": [
    {
     "data": {
      "image/png": "[encoded data removed]",
      "text/plain": [
       "<Figure size 1080x720 with 1 Axes>"
      ]
     },
     "metadata": {
      "needs_background": "light"
     },
     "output_type": "display_data"
    }
   ],
   "source": [
    "def plot_rating(df):\n",
    "    #Extract Country & Rating columns\n",
    "    cols = ['Country', 'Rating']\n",
    "    mask = df[cols]\n",
    "    \n",
    "    #Group rows by Country\n",
    "    mask_by_country = mask.groupby('Country')\n",
    "    \n",
    "    #Get Min, Median & Max rating for each country\n",
    "    min_rating = mask_by_country.min()\n",
    "    median_rating = mask_by_country.mean()\n",
    "    max_rating = mask_by_country.max()\n",
    "    \n",
    "    df_stats = pd.DataFrame()\n",
    "    df_stats['Min'] = min_rating['Rating']\n",
    "    df_stats['Median'] = median_rating['Rating']\n",
    "    df_stats['Max'] = max_rating['Rating']\n",
    "    ax = df_stats.plot(kind='bar', figsize=(15,10), width=0.7)\n",
    "    plt.xticks(rotation=45)\n",
    "    plt.xlabel('Country')\n",
    "    plt.ylabel('Rating pr. country');\n",
    "    \n",
    "    #Data on each bar\n",
    "    #for p in ax.patches:\n",
    "    #    ax.annotate(str(p.get_height()), (p.get_x() * 1.005, (p.get_height()) * 1.005), rotation=90)\n",
    "    \n",
    "def describe(df):\n",
    "    return df.describe()\n",
    "\n",
    "plotbar = df.copy()\n",
    "plot_rating(plotbar)"
   ]
  },
  {
   "cell_type": "code",
   "execution_count": 66,
   "metadata": {
    "scrolled": false
   },
   "outputs": [
    {
     "name": "stdout",
     "output_type": "stream",
     "text": [
      "<class 'pandas.core.frame.DataFrame'>\n",
      "RangeIndex: 450 entries, 0 to 449\n",
      "Data columns (total 2 columns):\n",
      " #   Column   Non-Null Count  Dtype  \n",
      "---  ------   --------------  -----  \n",
      " 0   Country  450 non-null    object \n",
      " 1   Rating   450 non-null    float64\n",
      "dtypes: float64(1), object(1)\n",
      "memory usage: 7.2+ KB\n"
     ]
    },
    {
     "data": {
      "text/html": [
       "<div>\n",
       "<style scoped>\n",
       "    .dataframe tbody tr th:only-of-type {\n",
       "        vertical-align: middle;\n",
       "    }\n",
       "\n",
       "    .dataframe tbody tr th {\n",
       "        vertical-align: top;\n",
       "    }\n",
       "\n",
       "    .dataframe thead th {\n",
       "        text-align: right;\n",
       "    }\n",
       "</style>\n",
       "<table border=\"1\" class=\"dataframe\">\n",
       "  <thead>\n",
       "    <tr style=\"text-align: right;\">\n",
       "      <th></th>\n",
       "      <th>Country</th>\n",
       "      <th>Rating</th>\n",
       "    </tr>\n",
       "  </thead>\n",
       "  <tbody>\n",
       "    <tr>\n",
       "      <th>0</th>\n",
       "      <td>Italy</td>\n",
       "      <td>4.3</td>\n",
       "    </tr>\n",
       "    <tr>\n",
       "      <th>1</th>\n",
       "      <td>Argentina</td>\n",
       "      <td>3.8</td>\n",
       "    </tr>\n",
       "    <tr>\n",
       "      <th>2</th>\n",
       "      <td>Argentina</td>\n",
       "      <td>4.1</td>\n",
       "    </tr>\n",
       "    <tr>\n",
       "      <th>3</th>\n",
       "      <td>United States</td>\n",
       "      <td>4.6</td>\n",
       "    </tr>\n",
       "    <tr>\n",
       "      <th>4</th>\n",
       "      <td>Argentina</td>\n",
       "      <td>3.9</td>\n",
       "    </tr>\n",
       "    <tr>\n",
       "      <th>...</th>\n",
       "      <td>...</td>\n",
       "      <td>...</td>\n",
       "    </tr>\n",
       "    <tr>\n",
       "      <th>445</th>\n",
       "      <td>Argentina</td>\n",
       "      <td>3.9</td>\n",
       "    </tr>\n",
       "    <tr>\n",
       "      <th>446</th>\n",
       "      <td>United States</td>\n",
       "      <td>3.8</td>\n",
       "    </tr>\n",
       "    <tr>\n",
       "      <th>447</th>\n",
       "      <td>Spain</td>\n",
       "      <td>3.7</td>\n",
       "    </tr>\n",
       "    <tr>\n",
       "      <th>448</th>\n",
       "      <td>United States</td>\n",
       "      <td>4.3</td>\n",
       "    </tr>\n",
       "    <tr>\n",
       "      <th>449</th>\n",
       "      <td>Spain</td>\n",
       "      <td>4.2</td>\n",
       "    </tr>\n",
       "  </tbody>\n",
       "</table>\n",
       "<p>450 rows × 2 columns</p>\n",
       "</div>"
      ],
      "text/plain": [
       "           Country  Rating\n",
       "0            Italy     4.3\n",
       "1        Argentina     3.8\n",
       "2        Argentina     4.1\n",
       "3    United States     4.6\n",
       "4        Argentina     3.9\n",
       "..             ...     ...\n",
       "445      Argentina     3.9\n",
       "446  United States     3.8\n",
       "447          Spain     3.7\n",
       "448  United States     4.3\n",
       "449          Spain     4.2\n",
       "\n",
       "[450 rows x 2 columns]"
      ]
     },
     "execution_count": 66,
     "metadata": {},
     "output_type": "execute_result"
    }
   ],
   "source": [
    "cols = ['Country', 'Rating']\n",
    "mask = df[cols]\n",
    "mask.info()\n",
    "mask"
   ]
  },
  {
   "cell_type": "code",
   "execution_count": 67,
   "metadata": {
    "scrolled": false
   },
   "outputs": [
    {
     "data": {
      "text/html": [
       "<div>\n",
       "<style scoped>\n",
       "    .dataframe tbody tr th:only-of-type {\n",
       "        vertical-align: middle;\n",
       "    }\n",
       "\n",
       "    .dataframe tbody tr th {\n",
       "        vertical-align: top;\n",
       "    }\n",
       "\n",
       "    .dataframe thead tr th {\n",
       "        text-align: left;\n",
       "    }\n",
       "\n",
       "    .dataframe thead tr:last-of-type th {\n",
       "        text-align: right;\n",
       "    }\n",
       "</style>\n",
       "<table border=\"1\" class=\"dataframe\">\n",
       "  <thead>\n",
       "    <tr>\n",
       "      <th></th>\n",
       "      <th colspan=\"8\" halign=\"left\">Rating</th>\n",
       "    </tr>\n",
       "    <tr>\n",
       "      <th></th>\n",
       "      <th>count</th>\n",
       "      <th>mean</th>\n",
       "      <th>std</th>\n",
       "      <th>min</th>\n",
       "      <th>25%</th>\n",
       "      <th>50%</th>\n",
       "      <th>75%</th>\n",
       "      <th>max</th>\n",
       "    </tr>\n",
       "    <tr>\n",
       "      <th>Country</th>\n",
       "      <th></th>\n",
       "      <th></th>\n",
       "      <th></th>\n",
       "      <th></th>\n",
       "      <th></th>\n",
       "      <th></th>\n",
       "      <th></th>\n",
       "      <th></th>\n",
       "    </tr>\n",
       "  </thead>\n",
       "  <tbody>\n",
       "    <tr>\n",
       "      <th>Argentina</th>\n",
       "      <td>96.0</td>\n",
       "      <td>4.106250</td>\n",
       "      <td>0.316831</td>\n",
       "      <td>3.5</td>\n",
       "      <td>3.900</td>\n",
       "      <td>4.10</td>\n",
       "      <td>4.300</td>\n",
       "      <td>4.7</td>\n",
       "    </tr>\n",
       "    <tr>\n",
       "      <th>Australia</th>\n",
       "      <td>3.0</td>\n",
       "      <td>4.100000</td>\n",
       "      <td>0.000000</td>\n",
       "      <td>4.1</td>\n",
       "      <td>4.100</td>\n",
       "      <td>4.10</td>\n",
       "      <td>4.100</td>\n",
       "      <td>4.1</td>\n",
       "    </tr>\n",
       "    <tr>\n",
       "      <th>Chile</th>\n",
       "      <td>9.0</td>\n",
       "      <td>3.866667</td>\n",
       "      <td>0.100000</td>\n",
       "      <td>3.8</td>\n",
       "      <td>3.800</td>\n",
       "      <td>3.80</td>\n",
       "      <td>4.000</td>\n",
       "      <td>4.0</td>\n",
       "    </tr>\n",
       "    <tr>\n",
       "      <th>France</th>\n",
       "      <td>24.0</td>\n",
       "      <td>4.050000</td>\n",
       "      <td>0.350155</td>\n",
       "      <td>3.6</td>\n",
       "      <td>3.775</td>\n",
       "      <td>4.05</td>\n",
       "      <td>4.225</td>\n",
       "      <td>4.7</td>\n",
       "    </tr>\n",
       "    <tr>\n",
       "      <th>Italy</th>\n",
       "      <td>112.0</td>\n",
       "      <td>3.970536</td>\n",
       "      <td>0.178400</td>\n",
       "      <td>3.6</td>\n",
       "      <td>3.800</td>\n",
       "      <td>3.90</td>\n",
       "      <td>4.100</td>\n",
       "      <td>4.4</td>\n",
       "    </tr>\n",
       "    <tr>\n",
       "      <th>Lebanon</th>\n",
       "      <td>3.0</td>\n",
       "      <td>4.200000</td>\n",
       "      <td>0.000000</td>\n",
       "      <td>4.2</td>\n",
       "      <td>4.200</td>\n",
       "      <td>4.20</td>\n",
       "      <td>4.200</td>\n",
       "      <td>4.2</td>\n",
       "    </tr>\n",
       "    <tr>\n",
       "      <th>New Zealand</th>\n",
       "      <td>6.0</td>\n",
       "      <td>4.200000</td>\n",
       "      <td>0.000000</td>\n",
       "      <td>4.2</td>\n",
       "      <td>4.200</td>\n",
       "      <td>4.20</td>\n",
       "      <td>4.200</td>\n",
       "      <td>4.2</td>\n",
       "    </tr>\n",
       "    <tr>\n",
       "      <th>Portugal</th>\n",
       "      <td>3.0</td>\n",
       "      <td>4.100000</td>\n",
       "      <td>0.000000</td>\n",
       "      <td>4.1</td>\n",
       "      <td>4.100</td>\n",
       "      <td>4.10</td>\n",
       "      <td>4.100</td>\n",
       "      <td>4.1</td>\n",
       "    </tr>\n",
       "    <tr>\n",
       "      <th>South Africa</th>\n",
       "      <td>18.0</td>\n",
       "      <td>3.916667</td>\n",
       "      <td>0.274933</td>\n",
       "      <td>3.5</td>\n",
       "      <td>3.700</td>\n",
       "      <td>3.95</td>\n",
       "      <td>4.200</td>\n",
       "      <td>4.2</td>\n",
       "    </tr>\n",
       "    <tr>\n",
       "      <th>Spain</th>\n",
       "      <td>66.0</td>\n",
       "      <td>4.040909</td>\n",
       "      <td>0.209745</td>\n",
       "      <td>3.6</td>\n",
       "      <td>3.900</td>\n",
       "      <td>4.10</td>\n",
       "      <td>4.200</td>\n",
       "      <td>4.3</td>\n",
       "    </tr>\n",
       "    <tr>\n",
       "      <th>United States</th>\n",
       "      <td>107.0</td>\n",
       "      <td>4.078505</td>\n",
       "      <td>0.251797</td>\n",
       "      <td>3.7</td>\n",
       "      <td>3.900</td>\n",
       "      <td>4.10</td>\n",
       "      <td>4.300</td>\n",
       "      <td>4.6</td>\n",
       "    </tr>\n",
       "    <tr>\n",
       "      <th>Uruguay</th>\n",
       "      <td>3.0</td>\n",
       "      <td>4.000000</td>\n",
       "      <td>0.000000</td>\n",
       "      <td>4.0</td>\n",
       "      <td>4.000</td>\n",
       "      <td>4.00</td>\n",
       "      <td>4.000</td>\n",
       "      <td>4.0</td>\n",
       "    </tr>\n",
       "  </tbody>\n",
       "</table>\n",
       "</div>"
      ],
      "text/plain": [
       "              Rating                                                  \n",
       "               count      mean       std  min    25%   50%    75%  max\n",
       "Country                                                               \n",
       "Argentina       96.0  4.106250  0.316831  3.5  3.900  4.10  4.300  4.7\n",
       "Australia        3.0  4.100000  0.000000  4.1  4.100  4.10  4.100  4.1\n",
       "Chile            9.0  3.866667  0.100000  3.8  3.800  3.80  4.000  4.0\n",
       "France          24.0  4.050000  0.350155  3.6  3.775  4.05  4.225  4.7\n",
       "Italy          112.0  3.970536  0.178400  3.6  3.800  3.90  4.100  4.4\n",
       "Lebanon          3.0  4.200000  0.000000  4.2  4.200  4.20  4.200  4.2\n",
       "New Zealand      6.0  4.200000  0.000000  4.2  4.200  4.20  4.200  4.2\n",
       "Portugal         3.0  4.100000  0.000000  4.1  4.100  4.10  4.100  4.1\n",
       "South Africa    18.0  3.916667  0.274933  3.5  3.700  3.95  4.200  4.2\n",
       "Spain           66.0  4.040909  0.209745  3.6  3.900  4.10  4.200  4.3\n",
       "United States  107.0  4.078505  0.251797  3.7  3.900  4.10  4.300  4.6\n",
       "Uruguay          3.0  4.000000  0.000000  4.0  4.000  4.00  4.000  4.0"
      ]
     },
     "execution_count": 67,
     "metadata": {},
     "output_type": "execute_result"
    }
   ],
   "source": [
    "mask_by_country = mask.groupby('Country')\n",
    "type(mask_by_country)\n",
    "mask_by_country.describe()"
   ]
  },
  {
   "cell_type": "code",
   "execution_count": 68,
   "metadata": {
    "scrolled": true
   },
   "outputs": [
    {
     "data": {
      "text/html": [
       "<div>\n",
       "<style scoped>\n",
       "    .dataframe tbody tr th:only-of-type {\n",
       "        vertical-align: middle;\n",
       "    }\n",
       "\n",
       "    .dataframe tbody tr th {\n",
       "        vertical-align: top;\n",
       "    }\n",
       "\n",
       "    .dataframe thead th {\n",
       "        text-align: right;\n",
       "    }\n",
       "</style>\n",
       "<table border=\"1\" class=\"dataframe\">\n",
       "  <thead>\n",
       "    <tr style=\"text-align: right;\">\n",
       "      <th></th>\n",
       "      <th>Rating</th>\n",
       "    </tr>\n",
       "    <tr>\n",
       "      <th>Country</th>\n",
       "      <th></th>\n",
       "    </tr>\n",
       "  </thead>\n",
       "  <tbody>\n",
       "    <tr>\n",
       "      <th>Argentina</th>\n",
       "      <td>4.106250</td>\n",
       "    </tr>\n",
       "    <tr>\n",
       "      <th>Australia</th>\n",
       "      <td>4.100000</td>\n",
       "    </tr>\n",
       "    <tr>\n",
       "      <th>Chile</th>\n",
       "      <td>3.866667</td>\n",
       "    </tr>\n",
       "    <tr>\n",
       "      <th>France</th>\n",
       "      <td>4.050000</td>\n",
       "    </tr>\n",
       "    <tr>\n",
       "      <th>Italy</th>\n",
       "      <td>3.970536</td>\n",
       "    </tr>\n",
       "    <tr>\n",
       "      <th>Lebanon</th>\n",
       "      <td>4.200000</td>\n",
       "    </tr>\n",
       "    <tr>\n",
       "      <th>New Zealand</th>\n",
       "      <td>4.200000</td>\n",
       "    </tr>\n",
       "    <tr>\n",
       "      <th>Portugal</th>\n",
       "      <td>4.100000</td>\n",
       "    </tr>\n",
       "    <tr>\n",
       "      <th>South Africa</th>\n",
       "      <td>3.916667</td>\n",
       "    </tr>\n",
       "    <tr>\n",
       "      <th>Spain</th>\n",
       "      <td>4.040909</td>\n",
       "    </tr>\n",
       "    <tr>\n",
       "      <th>United States</th>\n",
       "      <td>4.078505</td>\n",
       "    </tr>\n",
       "    <tr>\n",
       "      <th>Uruguay</th>\n",
       "      <td>4.000000</td>\n",
       "    </tr>\n",
       "  </tbody>\n",
       "</table>\n",
       "</div>"
      ],
      "text/plain": [
       "                 Rating\n",
       "Country                \n",
       "Argentina      4.106250\n",
       "Australia      4.100000\n",
       "Chile          3.866667\n",
       "France         4.050000\n",
       "Italy          3.970536\n",
       "Lebanon        4.200000\n",
       "New Zealand    4.200000\n",
       "Portugal       4.100000\n",
       "South Africa   3.916667\n",
       "Spain          4.040909\n",
       "United States  4.078505\n",
       "Uruguay        4.000000"
      ]
     },
     "execution_count": 68,
     "metadata": {},
     "output_type": "execute_result"
    }
   ],
   "source": [
    "min_rating = mask_by_country.min()\n",
    "median_rating = mask_by_country.mean()\n",
    "max_rating = mask_by_country.max()\n",
    "median_rating"
   ]
  },
  {
   "cell_type": "code",
   "execution_count": 74,
   "metadata": {},
   "outputs": [
    {
     "data": {
      "text/plain": [
       "<matplotlib.axes._subplots.AxesSubplot at 0x7fdf38ed7dd0>"
      ]
     },
     "execution_count": 74,
     "metadata": {},
     "output_type": "execute_result"
    },
    {
     "data": {
      "image/png": "[encoded data removed]",
      "text/plain": [
       "<Figure size 720x360 with 1 Axes>"
      ]
     },
     "metadata": {
      "needs_background": "light"
     },
     "output_type": "display_data"
    }
   ],
   "source": [
    "newdf = pd.DataFrame()\n",
    "newdf['Min'] = min_rating['Rating']\n",
    "newdf['Median'] = median_rating['Rating']\n",
    "newdf['Max'] = max_rating['Rating']\n",
    "newdf.plot(kind='bar', figsize=(10,5))"
   ]
  },
  {
   "cell_type": "code",
   "execution_count": 75,
   "metadata": {},
   "outputs": [
    {
     "data": {
      "text/plain": [
       "<matplotlib.axes._subplots.AxesSubplot at 0x7fdf38fc90d0>"
      ]
     },
     "execution_count": 75,
     "metadata": {},
     "output_type": "execute_result"
    },
    {
     "data": {
      "image/png": "[encoded data removed]",
      "text/plain": [
       "<Figure size 720x360 with 1 Axes>"
      ]
     },
     "metadata": {
      "needs_background": "light"
     },
     "output_type": "display_data"
    }
   ],
   "source": [
    "mydata = [min_rating['Rating'], median_rating['Rating'], max_rating['Rating']]\n",
    "headers = ['Min', ['Median'], ['Max']]\n",
    "newdf = pd.DataFrame(mydata, headers)\n",
    "newdf.plot(kind='bar', figsize=(10,5))"
   ]
  },
  {
   "cell_type": "code",
   "execution_count": 77,
   "metadata": {},
   "outputs": [
    {
     "data": {
      "text/plain": [
       "Rating    Lebanon\n",
       "dtype: object"
      ]
     },
     "execution_count": 77,
     "metadata": {},
     "output_type": "execute_result"
    }
   ],
   "source": [
    "median_rating.idxmax()"
   ]
  },
  {
   "cell_type": "code",
   "execution_count": 78,
   "metadata": {
    "scrolled": true
   },
   "outputs": [
    {
     "data": {
      "image/png": "[encoded data removed]",
      "text/plain": [
       "<Figure size 432x288 with 1 Axes>"
      ]
     },
     "metadata": {
      "needs_background": "light"
     },
     "output_type": "display_data"
    }
   ],
   "source": [
    "plt.plot(median_rating.index, median_rating)\n",
    "plt.xlabel('Country')\n",
    "plt.ylabel('Average rating pr. country');"
   ]
  }
 ],
 "metadata": {
  "kernelspec": {
   "display_name": "Python 3",
   "language": "python",
   "name": "python3"
  },
  "language_info": {
   "codemirror_mode": {
    "name": "ipython",
    "version": 3
   },
   "file_extension": ".py",
   "mimetype": "text/x-python",
   "name": "python",
   "nbconvert_exporter": "python",
   "pygments_lexer": "ipython3",
   "version": "3.7.6"
  }
 },
 "nbformat": 4,
 "nbformat_minor": 4
}
