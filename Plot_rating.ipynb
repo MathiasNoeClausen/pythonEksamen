{
 "cells": [
  {
   "cell_type": "code",
   "execution_count": 2,
   "metadata": {},
   "outputs": [],
   "source": [
    "from selenium import webdriver\n",
    "from selenium.webdriver.common.by import By\n",
    "from selenium.webdriver.support.ui import WebDriverWait\n",
    "from selenium.webdriver.support import expected_conditions as EC\n",
    "from selenium.webdriver.firefox.options import Options\n",
    "import numpy as np\n",
    "import matplotlib.pyplot as plt\n",
    "import pandas as pd\n",
    "import csv\n",
    "import re\n",
    "import time\n",
    "import seaborn as sns"
   ]
  },
  {
   "cell_type": "code",
   "execution_count": 6,
   "metadata": {},
   "outputs": [],
   "source": [
    "def scroll(driver, timeout, loops):\n",
    "    scroll_pause_time = timeout\n",
    "\n",
    "    last_height = driver.execute_script(\"return document.body.scrollHeight\")\n",
    "    num = 0\n",
    "    \n",
    "    while True and num < loops:\n",
    "        driver.execute_script(\"window.scrollTo(0, document.body.scrollHeight);\")\n",
    "        num = num + 1\n",
    "        time.sleep(scroll_pause_time)\n",
    "        new_height = driver.execute_script(\"return document.body.scrollHeight\")\n",
    "        if new_height == last_height:\n",
    "            break\n",
    "        last_height = new_height"
   ]
  },
  {
   "cell_type": "code",
   "execution_count": 7,
   "metadata": {},
   "outputs": [],
   "source": [
    "url = 'https://www.vivino.com/explore?e=eJwdijsOgCAQBW_zaqDfzo4jGGPWFQmJgAH83V5iM1PMxEIaMSRSiPyQ0UpBXhospMPi6NlvdHEJrvGOvFDhFpKvs-QzNWRaXRXcbZz6-st8itQcHw%3D%3D'\n",
    "product_names = []\n",
    "profile = webdriver.FirefoxProfile()\n",
    "profile.set_preference(\"general.useragent.override\", \"Mozilla/5.0 (X11; Ubuntu; Linux x86_64; rv:81.0) Gecko/20100101 Firefox/81.0\")\n",
    "options = Options()\n",
    "options.headless = True\n",
    "browser = webdriver.Firefox(options=options)\n",
    "options.add_argument(\"start-maximized\")\n",
    "options.add_argument('disable-infobars')\n",
    "browser.get(url)\n",
    "\n",
    "loops = 150\n",
    "timeout = 3\n",
    "scroll(browser, timeout, loops)\n",
    "\n",
    "titles = browser.find_elements_by_class_name('vintageTitle__wine--U7t9G')\n",
    "prices = browser.find_elements_by_xpath(\"(//*[contains(@class, 'addToCartButton__price')])\")\n",
    "ratings = browser.find_elements_by_class_name('vivinoRating__averageValue--3Navj')\n",
    "reviews = browser.find_elements_by_class_name('vivinoRating__caption--3tZeS')\n",
    "countries = browser.find_elements_by_xpath('//a[contains(@href, \"/explore?country_code\")]')\n",
    "#for price in prices:\n",
    "#    print('price:',price.text)\n",
    "for title, price, rating, review, country in zip(titles, prices, ratings, reviews, countries):\n",
    "    with open('vinData.csv', 'a', encoding='UTF8') as f:\n",
    "        writer = csv.writer(f)\n",
    "        date = 9999\n",
    "        line = re.findall(r'\\d+', title.text)\n",
    "        \n",
    "        if(len(line)>0):\n",
    "            for l in line:\n",
    "                if(len(str(l)) == 4):\n",
    "                    date = l\n",
    "                    \n",
    "        data = [title.text, date, price.text.split(\"\\n\", 1)[0], rating.text, review.text.split(\" \", 1)[0], country.text]\n",
    "        writer.writerow(data)\n",
    "                                "
   ]
  },
  {
   "cell_type": "code",
   "execution_count": 3,
   "metadata": {
    "scrolled": true
   },
   "outputs": [
    {
     "data": {
      "text/html": [
       "<div>\n",
       "<style scoped>\n",
       "    .dataframe tbody tr th:only-of-type {\n",
       "        vertical-align: middle;\n",
       "    }\n",
       "\n",
       "    .dataframe tbody tr th {\n",
       "        vertical-align: top;\n",
       "    }\n",
       "\n",
       "    .dataframe thead th {\n",
       "        text-align: right;\n",
       "    }\n",
       "</style>\n",
       "<table border=\"1\" class=\"dataframe\">\n",
       "  <thead>\n",
       "    <tr style=\"text-align: right;\">\n",
       "      <th></th>\n",
       "      <th>Name</th>\n",
       "      <th>Year</th>\n",
       "      <th>Price</th>\n",
       "      <th>Rating</th>\n",
       "      <th>Review</th>\n",
       "      <th>Country</th>\n",
       "    </tr>\n",
       "  </thead>\n",
       "  <tbody>\n",
       "    <tr>\n",
       "      <th>0</th>\n",
       "      <td>Edizione Cinque Autoctoni</td>\n",
       "      <td>9999</td>\n",
       "      <td>149.00</td>\n",
       "      <td>4.3</td>\n",
       "      <td>57745</td>\n",
       "      <td>Italy</td>\n",
       "    </tr>\n",
       "    <tr>\n",
       "      <th>1</th>\n",
       "      <td>Malbec 2018</td>\n",
       "      <td>2018</td>\n",
       "      <td>59.95</td>\n",
       "      <td>3.8</td>\n",
       "      <td>16764</td>\n",
       "      <td>Argentina</td>\n",
       "    </tr>\n",
       "    <tr>\n",
       "      <th>2</th>\n",
       "      <td>Malbec 2016</td>\n",
       "      <td>2016</td>\n",
       "      <td>129.95</td>\n",
       "      <td>4.1</td>\n",
       "      <td>16137</td>\n",
       "      <td>Argentina</td>\n",
       "    </tr>\n",
       "    <tr>\n",
       "      <th>3</th>\n",
       "      <td>Cabernet Sauvignon 2016</td>\n",
       "      <td>2016</td>\n",
       "      <td>1245.00</td>\n",
       "      <td>4.6</td>\n",
       "      <td>13942</td>\n",
       "      <td>United States</td>\n",
       "    </tr>\n",
       "    <tr>\n",
       "      <th>4</th>\n",
       "      <td>Malbec 2013</td>\n",
       "      <td>2013</td>\n",
       "      <td>99.95</td>\n",
       "      <td>3.9</td>\n",
       "      <td>13271</td>\n",
       "      <td>Argentina</td>\n",
       "    </tr>\n",
       "  </tbody>\n",
       "</table>\n",
       "</div>"
      ],
      "text/plain": [
       "                        Name  Year    Price  Rating  Review        Country\n",
       "0  Edizione Cinque Autoctoni  9999   149.00     4.3   57745          Italy\n",
       "1                Malbec 2018  2018    59.95     3.8   16764      Argentina\n",
       "2                Malbec 2016  2016   129.95     4.1   16137      Argentina\n",
       "3    Cabernet Sauvignon 2016  2016  1245.00     4.6   13942  United States\n",
       "4                Malbec 2013  2013    99.95     3.9   13271      Argentina"
      ]
     },
     "execution_count": 3,
     "metadata": {},
     "output_type": "execute_result"
    }
   ],
   "source": [
    "df = pd.read_csv('vinData.csv', names=[\"Name\", \"Year\", \"Price\", \"Rating\", \"Review\", \"Country\"])\n",
    "df.head()"
   ]
  },
  {
   "cell_type": "code",
   "execution_count": 4,
   "metadata": {
    "scrolled": true
   },
   "outputs": [
    {
     "data": {
      "text/html": [
       "<div>\n",
       "<style scoped>\n",
       "    .dataframe tbody tr th:only-of-type {\n",
       "        vertical-align: middle;\n",
       "    }\n",
       "\n",
       "    .dataframe tbody tr th {\n",
       "        vertical-align: top;\n",
       "    }\n",
       "\n",
       "    .dataframe thead th {\n",
       "        text-align: right;\n",
       "    }\n",
       "</style>\n",
       "<table border=\"1\" class=\"dataframe\">\n",
       "  <thead>\n",
       "    <tr style=\"text-align: right;\">\n",
       "      <th></th>\n",
       "      <th>Year</th>\n",
       "      <th>Price</th>\n",
       "      <th>Rating</th>\n",
       "      <th>Review</th>\n",
       "    </tr>\n",
       "  </thead>\n",
       "  <tbody>\n",
       "    <tr>\n",
       "      <th>count</th>\n",
       "      <td>450.000000</td>\n",
       "      <td>450.000000</td>\n",
       "      <td>450.000000</td>\n",
       "      <td>450.000000</td>\n",
       "    </tr>\n",
       "    <tr>\n",
       "      <th>mean</th>\n",
       "      <td>2104.351111</td>\n",
       "      <td>286.519067</td>\n",
       "      <td>4.023111</td>\n",
       "      <td>3169.573333</td>\n",
       "    </tr>\n",
       "    <tr>\n",
       "      <th>std</th>\n",
       "      <td>837.767652</td>\n",
       "      <td>287.901398</td>\n",
       "      <td>0.264026</td>\n",
       "      <td>4447.897243</td>\n",
       "    </tr>\n",
       "    <tr>\n",
       "      <th>min</th>\n",
       "      <td>1986.000000</td>\n",
       "      <td>39.950000</td>\n",
       "      <td>3.300000</td>\n",
       "      <td>1109.000000</td>\n",
       "    </tr>\n",
       "    <tr>\n",
       "      <th>25%</th>\n",
       "      <td>2015.000000</td>\n",
       "      <td>129.950000</td>\n",
       "      <td>3.800000</td>\n",
       "      <td>1425.500000</td>\n",
       "    </tr>\n",
       "    <tr>\n",
       "      <th>50%</th>\n",
       "      <td>2016.000000</td>\n",
       "      <td>181.500000</td>\n",
       "      <td>4.000000</td>\n",
       "      <td>1980.500000</td>\n",
       "    </tr>\n",
       "    <tr>\n",
       "      <th>75%</th>\n",
       "      <td>2018.000000</td>\n",
       "      <td>305.000000</td>\n",
       "      <td>4.200000</td>\n",
       "      <td>3365.250000</td>\n",
       "    </tr>\n",
       "    <tr>\n",
       "      <th>max</th>\n",
       "      <td>9999.000000</td>\n",
       "      <td>1995.000000</td>\n",
       "      <td>4.700000</td>\n",
       "      <td>57754.000000</td>\n",
       "    </tr>\n",
       "  </tbody>\n",
       "</table>\n",
       "</div>"
      ],
      "text/plain": [
       "              Year        Price      Rating        Review\n",
       "count   450.000000   450.000000  450.000000    450.000000\n",
       "mean   2104.351111   286.519067    4.023111   3169.573333\n",
       "std     837.767652   287.901398    0.264026   4447.897243\n",
       "min    1986.000000    39.950000    3.300000   1109.000000\n",
       "25%    2015.000000   129.950000    3.800000   1425.500000\n",
       "50%    2016.000000   181.500000    4.000000   1980.500000\n",
       "75%    2018.000000   305.000000    4.200000   3365.250000\n",
       "max    9999.000000  1995.000000    4.700000  57754.000000"
      ]
     },
     "execution_count": 4,
     "metadata": {},
     "output_type": "execute_result"
    }
   ],
   "source": [
    "df.describe()"
   ]
  },
  {
   "cell_type": "code",
   "execution_count": 5,
   "metadata": {},
   "outputs": [
    {
     "name": "stdout",
     "output_type": "stream",
     "text": [
      "                            Name  Year    Price  Rating  Review        Country\n",
      "0      Edizione Cinque Autoctoni  9999   149.00     4.3   57745          Italy\n",
      "1                    Malbec 2018  2018    59.95     3.8   16764      Argentina\n",
      "2                    Malbec 2016  2016   129.95     4.1   16137      Argentina\n",
      "3        Cabernet Sauvignon 2016  2016  1245.00     4.6   13942  United States\n",
      "4                    Malbec 2013  2013    99.95     3.9   13271      Argentina\n",
      "..                           ...   ...      ...     ...     ...            ...\n",
      "445              Pinot Noir 2019  2019    99.00     4.0    4070  United States\n",
      "446   Scaia Rosso (Corvina) 2015  2015   112.50     3.8    4022          Italy\n",
      "447  Pinot Grigio Valdadige 2016  2016   135.00     3.8    3981          Italy\n",
      "448        Les Darons Rouge 2017  2017   250.00     3.8    3940         France\n",
      "449      Cabernet Sauvignon 2015  2015   129.95     4.0    3939      Argentina\n",
      "\n",
      "[316 rows x 6 columns]\n"
     ]
    }
   ],
   "source": [
    "sorted_df = df.copy()\n",
    "sorted_df.drop(sorted_df[df.Review < 1500].index, inplace=True)\n",
    "print(sorted_df)"
   ]
  },
  {
   "cell_type": "code",
   "execution_count": 54,
   "metadata": {
    "scrolled": false
   },
   "outputs": [
    {
     "name": "stdout",
     "output_type": "stream",
     "text": [
      "Lowest rated:                Name  Year   Price  Rating  Review Country\n",
      "314      Tinto N.V.  9999   39.95     3.3    1326   Spain\n",
      "345  7 Fuentes 2017  2017  150.00     3.3    1237   Spain \n",
      "\n",
      "Highest rated:                                                  Name  Year   Price  Rating  \\\n",
      "20  Gran Enemigo Single Vineyard Gualtallary Caber...  2015  599.95     4.7   \n",
      "35                              Malbec Argentino 2017  2017  625.00     4.7   \n",
      "76  Gran Enemigo Single Vineyard Gualtallary Caber...  2016  599.95     4.7   \n",
      "\n",
      "    Review    Country  \n",
      "20    5610  Argentina  \n",
      "35    4562  Argentina  \n",
      "76    3067  Argentina  \n"
     ]
    },
    {
     "data": {
      "image/png": "[encoded data removed]",
      "text/plain": [
       "<Figure size 1080x720 with 1 Axes>"
      ]
     },
     "metadata": {
      "needs_background": "light"
     },
     "output_type": "display_data"
    }
   ],
   "source": [
    "def plot_rating(df):\n",
    "    \n",
    "    all_lowest = df.loc[df['Rating'] == df['Rating'].min()]\n",
    "    print('Lowest rated:',all_lowest[:3],'\\n')\n",
    "    #print('Median rating',df.mean(),'\\n')\n",
    "    \n",
    "    all_highest = df.loc[df['Rating'] == df['Rating'].max()]\n",
    "    print('Highest rated:',all_highest[:3])\n",
    "    \n",
    "    #Delete all with low review numbers\n",
    "    sorted_df = df.copy()\n",
    "    #sorted_df.drop(sorted_df[df.Review < 1500].index, inplace=True)\n",
    "    \n",
    "    #Extract Country & Rating columns\n",
    "    cols = ['Country', 'Rating']\n",
    "    mask = sorted_df[cols]\n",
    "    \n",
    "    #Group rows by Country\n",
    "    mask_by_country = mask.groupby('Country')\n",
    "    \n",
    "    #Get Min, Median & Max rating for each country\n",
    "    min_rating = mask_by_country.min()\n",
    "    median_rating = mask_by_country.mean()\n",
    "    max_rating = mask_by_country.max()\n",
    "    \n",
    "    df_stats = pd.DataFrame()\n",
    "    df_stats['Min'] = min_rating['Rating']\n",
    "    df_stats['Median'] = median_rating['Rating']\n",
    "    df_stats['Max'] = max_rating['Rating']\n",
    "    ax = df_stats.plot(kind='bar', figsize=(15,10), width=0.7)\n",
    "    plt.xticks(rotation=45)\n",
    "    plt.xlabel('Country')\n",
    "    plt.ylabel('Rating pr. country');\n",
    "    plt.legend(loc='upper center', bbox_to_anchor=(0.5, 1.05), ncol=3)\n",
    "    \n",
    "    #Data on each bar\n",
    "    for p in ax.patches:\n",
    "        ax.annotate(str(p.get_height()), (p.get_x() * 1.005, (p.get_height()) * 1.005), rotation=90)\n",
    "    \n",
    "def describe(df):\n",
    "    return df.describe()\n",
    "\n",
    "plotbar = df.copy()\n",
    "plot_rating(plotbar)"
   ]
  },
  {
   "cell_type": "code",
   "execution_count": 41,
   "metadata": {
    "scrolled": false
   },
   "outputs": [
    {
     "name": "stdout",
     "output_type": "stream",
     "text": [
      "<class 'pandas.core.frame.DataFrame'>\n",
      "RangeIndex: 450 entries, 0 to 449\n",
      "Data columns (total 2 columns):\n",
      " #   Column   Non-Null Count  Dtype  \n",
      "---  ------   --------------  -----  \n",
      " 0   Country  450 non-null    object \n",
      " 1   Rating   450 non-null    float64\n",
      "dtypes: float64(1), object(1)\n",
      "memory usage: 7.2+ KB\n"
     ]
    },
    {
     "data": {
      "text/html": [
       "<div>\n",
       "<style scoped>\n",
       "    .dataframe tbody tr th:only-of-type {\n",
       "        vertical-align: middle;\n",
       "    }\n",
       "\n",
       "    .dataframe tbody tr th {\n",
       "        vertical-align: top;\n",
       "    }\n",
       "\n",
       "    .dataframe thead th {\n",
       "        text-align: right;\n",
       "    }\n",
       "</style>\n",
       "<table border=\"1\" class=\"dataframe\">\n",
       "  <thead>\n",
       "    <tr style=\"text-align: right;\">\n",
       "      <th></th>\n",
       "      <th>Country</th>\n",
       "      <th>Rating</th>\n",
       "    </tr>\n",
       "  </thead>\n",
       "  <tbody>\n",
       "    <tr>\n",
       "      <th>0</th>\n",
       "      <td>Italy</td>\n",
       "      <td>4.3</td>\n",
       "    </tr>\n",
       "    <tr>\n",
       "      <th>1</th>\n",
       "      <td>Argentina</td>\n",
       "      <td>3.8</td>\n",
       "    </tr>\n",
       "    <tr>\n",
       "      <th>2</th>\n",
       "      <td>Argentina</td>\n",
       "      <td>4.1</td>\n",
       "    </tr>\n",
       "    <tr>\n",
       "      <th>3</th>\n",
       "      <td>United States</td>\n",
       "      <td>4.6</td>\n",
       "    </tr>\n",
       "    <tr>\n",
       "      <th>4</th>\n",
       "      <td>Argentina</td>\n",
       "      <td>3.9</td>\n",
       "    </tr>\n",
       "    <tr>\n",
       "      <th>...</th>\n",
       "      <td>...</td>\n",
       "      <td>...</td>\n",
       "    </tr>\n",
       "    <tr>\n",
       "      <th>445</th>\n",
       "      <td>United States</td>\n",
       "      <td>4.0</td>\n",
       "    </tr>\n",
       "    <tr>\n",
       "      <th>446</th>\n",
       "      <td>Italy</td>\n",
       "      <td>3.8</td>\n",
       "    </tr>\n",
       "    <tr>\n",
       "      <th>447</th>\n",
       "      <td>Italy</td>\n",
       "      <td>3.8</td>\n",
       "    </tr>\n",
       "    <tr>\n",
       "      <th>448</th>\n",
       "      <td>France</td>\n",
       "      <td>3.8</td>\n",
       "    </tr>\n",
       "    <tr>\n",
       "      <th>449</th>\n",
       "      <td>Argentina</td>\n",
       "      <td>4.0</td>\n",
       "    </tr>\n",
       "  </tbody>\n",
       "</table>\n",
       "<p>450 rows × 2 columns</p>\n",
       "</div>"
      ],
      "text/plain": [
       "           Country  Rating\n",
       "0            Italy     4.3\n",
       "1        Argentina     3.8\n",
       "2        Argentina     4.1\n",
       "3    United States     4.6\n",
       "4        Argentina     3.9\n",
       "..             ...     ...\n",
       "445  United States     4.0\n",
       "446          Italy     3.8\n",
       "447          Italy     3.8\n",
       "448         France     3.8\n",
       "449      Argentina     4.0\n",
       "\n",
       "[450 rows x 2 columns]"
      ]
     },
     "execution_count": 41,
     "metadata": {},
     "output_type": "execute_result"
    }
   ],
   "source": [
    "cols = ['Country', 'Rating']\n",
    "mask = df[cols]\n",
    "mask.info()\n",
    "mask"
   ]
  },
  {
   "cell_type": "code",
   "execution_count": 57,
   "metadata": {
    "scrolled": false
   },
   "outputs": [
    {
     "name": "stdout",
     "output_type": "stream",
     "text": [
      "<class 'pandas.core.groupby.generic.DataFrameGroupBy'>\n"
     ]
    },
    {
     "data": {
      "text/html": [
       "<div>\n",
       "<style scoped>\n",
       "    .dataframe tbody tr th:only-of-type {\n",
       "        vertical-align: middle;\n",
       "    }\n",
       "\n",
       "    .dataframe tbody tr th {\n",
       "        vertical-align: top;\n",
       "    }\n",
       "\n",
       "    .dataframe thead tr th {\n",
       "        text-align: left;\n",
       "    }\n",
       "\n",
       "    .dataframe thead tr:last-of-type th {\n",
       "        text-align: right;\n",
       "    }\n",
       "</style>\n",
       "<table border=\"1\" class=\"dataframe\">\n",
       "  <thead>\n",
       "    <tr>\n",
       "      <th></th>\n",
       "      <th colspan=\"8\" halign=\"left\">Rating</th>\n",
       "    </tr>\n",
       "    <tr>\n",
       "      <th></th>\n",
       "      <th>count</th>\n",
       "      <th>mean</th>\n",
       "      <th>std</th>\n",
       "      <th>min</th>\n",
       "      <th>25%</th>\n",
       "      <th>50%</th>\n",
       "      <th>75%</th>\n",
       "      <th>max</th>\n",
       "    </tr>\n",
       "    <tr>\n",
       "      <th>Country</th>\n",
       "      <th></th>\n",
       "      <th></th>\n",
       "      <th></th>\n",
       "      <th></th>\n",
       "      <th></th>\n",
       "      <th></th>\n",
       "      <th></th>\n",
       "      <th></th>\n",
       "    </tr>\n",
       "  </thead>\n",
       "  <tbody>\n",
       "    <tr>\n",
       "      <th>Argentina</th>\n",
       "      <td>70.0</td>\n",
       "      <td>4.078571</td>\n",
       "      <td>0.317551</td>\n",
       "      <td>3.5</td>\n",
       "      <td>3.800</td>\n",
       "      <td>4.05</td>\n",
       "      <td>4.200</td>\n",
       "      <td>4.7</td>\n",
       "    </tr>\n",
       "    <tr>\n",
       "      <th>Australia</th>\n",
       "      <td>6.0</td>\n",
       "      <td>4.033333</td>\n",
       "      <td>0.225093</td>\n",
       "      <td>3.7</td>\n",
       "      <td>4.000</td>\n",
       "      <td>4.00</td>\n",
       "      <td>4.075</td>\n",
       "      <td>4.4</td>\n",
       "    </tr>\n",
       "    <tr>\n",
       "      <th>Austria</th>\n",
       "      <td>1.0</td>\n",
       "      <td>3.800000</td>\n",
       "      <td>NaN</td>\n",
       "      <td>3.8</td>\n",
       "      <td>3.800</td>\n",
       "      <td>3.80</td>\n",
       "      <td>3.800</td>\n",
       "      <td>3.8</td>\n",
       "    </tr>\n",
       "    <tr>\n",
       "      <th>Chile</th>\n",
       "      <td>10.0</td>\n",
       "      <td>3.870000</td>\n",
       "      <td>0.125167</td>\n",
       "      <td>3.7</td>\n",
       "      <td>3.800</td>\n",
       "      <td>3.80</td>\n",
       "      <td>3.975</td>\n",
       "      <td>4.1</td>\n",
       "    </tr>\n",
       "    <tr>\n",
       "      <th>France</th>\n",
       "      <td>55.0</td>\n",
       "      <td>3.978182</td>\n",
       "      <td>0.299191</td>\n",
       "      <td>3.5</td>\n",
       "      <td>3.700</td>\n",
       "      <td>4.00</td>\n",
       "      <td>4.200</td>\n",
       "      <td>4.7</td>\n",
       "    </tr>\n",
       "    <tr>\n",
       "      <th>Hungary</th>\n",
       "      <td>1.0</td>\n",
       "      <td>3.900000</td>\n",
       "      <td>NaN</td>\n",
       "      <td>3.9</td>\n",
       "      <td>3.900</td>\n",
       "      <td>3.90</td>\n",
       "      <td>3.900</td>\n",
       "      <td>3.9</td>\n",
       "    </tr>\n",
       "    <tr>\n",
       "      <th>Israel</th>\n",
       "      <td>1.0</td>\n",
       "      <td>3.800000</td>\n",
       "      <td>NaN</td>\n",
       "      <td>3.8</td>\n",
       "      <td>3.800</td>\n",
       "      <td>3.80</td>\n",
       "      <td>3.800</td>\n",
       "      <td>3.8</td>\n",
       "    </tr>\n",
       "    <tr>\n",
       "      <th>Italy</th>\n",
       "      <td>108.0</td>\n",
       "      <td>4.020370</td>\n",
       "      <td>0.213454</td>\n",
       "      <td>3.5</td>\n",
       "      <td>3.900</td>\n",
       "      <td>4.00</td>\n",
       "      <td>4.200</td>\n",
       "      <td>4.5</td>\n",
       "    </tr>\n",
       "    <tr>\n",
       "      <th>Lebanon</th>\n",
       "      <td>2.0</td>\n",
       "      <td>4.050000</td>\n",
       "      <td>0.212132</td>\n",
       "      <td>3.9</td>\n",
       "      <td>3.975</td>\n",
       "      <td>4.05</td>\n",
       "      <td>4.125</td>\n",
       "      <td>4.2</td>\n",
       "    </tr>\n",
       "    <tr>\n",
       "      <th>New Zealand</th>\n",
       "      <td>6.0</td>\n",
       "      <td>4.066667</td>\n",
       "      <td>0.233809</td>\n",
       "      <td>3.6</td>\n",
       "      <td>4.100</td>\n",
       "      <td>4.15</td>\n",
       "      <td>4.200</td>\n",
       "      <td>4.2</td>\n",
       "    </tr>\n",
       "    <tr>\n",
       "      <th>Portugal</th>\n",
       "      <td>12.0</td>\n",
       "      <td>3.966667</td>\n",
       "      <td>0.214617</td>\n",
       "      <td>3.7</td>\n",
       "      <td>3.875</td>\n",
       "      <td>3.95</td>\n",
       "      <td>4.025</td>\n",
       "      <td>4.5</td>\n",
       "    </tr>\n",
       "    <tr>\n",
       "      <th>South Africa</th>\n",
       "      <td>11.0</td>\n",
       "      <td>3.954545</td>\n",
       "      <td>0.258316</td>\n",
       "      <td>3.5</td>\n",
       "      <td>3.750</td>\n",
       "      <td>4.10</td>\n",
       "      <td>4.200</td>\n",
       "      <td>4.2</td>\n",
       "    </tr>\n",
       "    <tr>\n",
       "      <th>Spain</th>\n",
       "      <td>72.0</td>\n",
       "      <td>4.048611</td>\n",
       "      <td>0.280840</td>\n",
       "      <td>3.3</td>\n",
       "      <td>3.875</td>\n",
       "      <td>4.10</td>\n",
       "      <td>4.200</td>\n",
       "      <td>4.7</td>\n",
       "    </tr>\n",
       "    <tr>\n",
       "      <th>United States</th>\n",
       "      <td>90.0</td>\n",
       "      <td>4.023333</td>\n",
       "      <td>0.264809</td>\n",
       "      <td>3.5</td>\n",
       "      <td>3.800</td>\n",
       "      <td>4.00</td>\n",
       "      <td>4.175</td>\n",
       "      <td>4.7</td>\n",
       "    </tr>\n",
       "    <tr>\n",
       "      <th>Uruguay</th>\n",
       "      <td>5.0</td>\n",
       "      <td>4.060000</td>\n",
       "      <td>0.134164</td>\n",
       "      <td>3.9</td>\n",
       "      <td>4.000</td>\n",
       "      <td>4.00</td>\n",
       "      <td>4.200</td>\n",
       "      <td>4.2</td>\n",
       "    </tr>\n",
       "  </tbody>\n",
       "</table>\n",
       "</div>"
      ],
      "text/plain": [
       "              Rating                                                  \n",
       "               count      mean       std  min    25%   50%    75%  max\n",
       "Country                                                               \n",
       "Argentina       70.0  4.078571  0.317551  3.5  3.800  4.05  4.200  4.7\n",
       "Australia        6.0  4.033333  0.225093  3.7  4.000  4.00  4.075  4.4\n",
       "Austria          1.0  3.800000       NaN  3.8  3.800  3.80  3.800  3.8\n",
       "Chile           10.0  3.870000  0.125167  3.7  3.800  3.80  3.975  4.1\n",
       "France          55.0  3.978182  0.299191  3.5  3.700  4.00  4.200  4.7\n",
       "Hungary          1.0  3.900000       NaN  3.9  3.900  3.90  3.900  3.9\n",
       "Israel           1.0  3.800000       NaN  3.8  3.800  3.80  3.800  3.8\n",
       "Italy          108.0  4.020370  0.213454  3.5  3.900  4.00  4.200  4.5\n",
       "Lebanon          2.0  4.050000  0.212132  3.9  3.975  4.05  4.125  4.2\n",
       "New Zealand      6.0  4.066667  0.233809  3.6  4.100  4.15  4.200  4.2\n",
       "Portugal        12.0  3.966667  0.214617  3.7  3.875  3.95  4.025  4.5\n",
       "South Africa    11.0  3.954545  0.258316  3.5  3.750  4.10  4.200  4.2\n",
       "Spain           72.0  4.048611  0.280840  3.3  3.875  4.10  4.200  4.7\n",
       "United States   90.0  4.023333  0.264809  3.5  3.800  4.00  4.175  4.7\n",
       "Uruguay          5.0  4.060000  0.134164  3.9  4.000  4.00  4.200  4.2"
      ]
     },
     "execution_count": 57,
     "metadata": {},
     "output_type": "execute_result"
    }
   ],
   "source": [
    "def describe_df(mask):\n",
    "    mask_by_country = mask.groupby('Country')\n",
    "    print(type(mask_by_country))\n",
    "    return mask_by_country.describe()\n",
    "describe_df(mask)"
   ]
  },
  {
   "cell_type": "code",
   "execution_count": 85,
   "metadata": {
    "scrolled": true
   },
   "outputs": [
    {
     "data": {
      "text/html": [
       "<div>\n",
       "<style scoped>\n",
       "    .dataframe tbody tr th:only-of-type {\n",
       "        vertical-align: middle;\n",
       "    }\n",
       "\n",
       "    .dataframe tbody tr th {\n",
       "        vertical-align: top;\n",
       "    }\n",
       "\n",
       "    .dataframe thead th {\n",
       "        text-align: right;\n",
       "    }\n",
       "</style>\n",
       "<table border=\"1\" class=\"dataframe\">\n",
       "  <thead>\n",
       "    <tr style=\"text-align: right;\">\n",
       "      <th></th>\n",
       "      <th>Rating</th>\n",
       "    </tr>\n",
       "    <tr>\n",
       "      <th>Country</th>\n",
       "      <th></th>\n",
       "    </tr>\n",
       "  </thead>\n",
       "  <tbody>\n",
       "    <tr>\n",
       "      <th>Argentina</th>\n",
       "      <td>4.078571</td>\n",
       "    </tr>\n",
       "    <tr>\n",
       "      <th>Australia</th>\n",
       "      <td>4.033333</td>\n",
       "    </tr>\n",
       "    <tr>\n",
       "      <th>Austria</th>\n",
       "      <td>3.800000</td>\n",
       "    </tr>\n",
       "    <tr>\n",
       "      <th>Chile</th>\n",
       "      <td>3.870000</td>\n",
       "    </tr>\n",
       "    <tr>\n",
       "      <th>France</th>\n",
       "      <td>3.978182</td>\n",
       "    </tr>\n",
       "    <tr>\n",
       "      <th>Hungary</th>\n",
       "      <td>3.900000</td>\n",
       "    </tr>\n",
       "    <tr>\n",
       "      <th>Israel</th>\n",
       "      <td>3.800000</td>\n",
       "    </tr>\n",
       "    <tr>\n",
       "      <th>Italy</th>\n",
       "      <td>4.020370</td>\n",
       "    </tr>\n",
       "    <tr>\n",
       "      <th>Lebanon</th>\n",
       "      <td>4.050000</td>\n",
       "    </tr>\n",
       "    <tr>\n",
       "      <th>New Zealand</th>\n",
       "      <td>4.066667</td>\n",
       "    </tr>\n",
       "    <tr>\n",
       "      <th>Portugal</th>\n",
       "      <td>3.966667</td>\n",
       "    </tr>\n",
       "    <tr>\n",
       "      <th>South Africa</th>\n",
       "      <td>3.954545</td>\n",
       "    </tr>\n",
       "    <tr>\n",
       "      <th>Spain</th>\n",
       "      <td>4.048611</td>\n",
       "    </tr>\n",
       "    <tr>\n",
       "      <th>United States</th>\n",
       "      <td>4.023333</td>\n",
       "    </tr>\n",
       "    <tr>\n",
       "      <th>Uruguay</th>\n",
       "      <td>4.060000</td>\n",
       "    </tr>\n",
       "  </tbody>\n",
       "</table>\n",
       "</div>"
      ],
      "text/plain": [
       "                 Rating\n",
       "Country                \n",
       "Argentina      4.078571\n",
       "Australia      4.033333\n",
       "Austria        3.800000\n",
       "Chile          3.870000\n",
       "France         3.978182\n",
       "Hungary        3.900000\n",
       "Israel         3.800000\n",
       "Italy          4.020370\n",
       "Lebanon        4.050000\n",
       "New Zealand    4.066667\n",
       "Portugal       3.966667\n",
       "South Africa   3.954545\n",
       "Spain          4.048611\n",
       "United States  4.023333\n",
       "Uruguay        4.060000"
      ]
     },
     "execution_count": 85,
     "metadata": {},
     "output_type": "execute_result"
    }
   ],
   "source": [
    "mask_by_country = mask.groupby('Country')\n",
    "min_rating = mask_by_country.min()\n",
    "median_rating = mask_by_country.mean()\n",
    "max_rating = mask_by_country.max()\n",
    "median_rating"
   ]
  },
  {
   "cell_type": "code",
   "execution_count": 44,
   "metadata": {
    "scrolled": true
   },
   "outputs": [
    {
     "data": {
      "text/plain": [
       "<matplotlib.legend.Legend at 0x7f341aa2cb90>"
      ]
     },
     "execution_count": 44,
     "metadata": {},
     "output_type": "execute_result"
    },
    {
     "data": {
      "image/png": "[encoded data removed]",
      "text/plain": [
       "<Figure size 720x360 with 1 Axes>"
      ]
     },
     "metadata": {
      "needs_background": "light"
     },
     "output_type": "display_data"
    }
   ],
   "source": [
    "newdf = pd.DataFrame()\n",
    "\n",
    "newdf['Min'] = min_rating['Rating']\n",
    "newdf['Median'] = median_rating['Rating']\n",
    "newdf['Max'] = max_rating['Rating']\n",
    "newdf.plot(kind='bar', figsize=(10,5))\n",
    "plt.legend(loc='upper center', bbox_to_anchor=(1.1, 1), ncol=1)"
   ]
  },
  {
   "cell_type": "code",
   "execution_count": 86,
   "metadata": {},
   "outputs": [
    {
     "data": {
      "text/plain": [
       "<matplotlib.legend.Legend at 0x7f3418642390>"
      ]
     },
     "execution_count": 86,
     "metadata": {},
     "output_type": "execute_result"
    },
    {
     "data": {
      "image/png": "[encoded data removed]",
      "text/plain": [
       "<Figure size 720x360 with 1 Axes>"
      ]
     },
     "metadata": {
      "needs_background": "light"
     },
     "output_type": "display_data"
    }
   ],
   "source": [
    "mydata = [min_rating['Rating'], median_rating['Rating'], max_rating['Rating']]\n",
    "headers = ['Min', ['Median'], ['Max']]\n",
    "newdf = pd.DataFrame(mydata, headers)\n",
    "newdf.plot(kind='bar', figsize=(10,5))\n",
    "plt.legend(loc='upper center', bbox_to_anchor=(1.1, 1), ncol=1)"
   ]
  },
  {
   "cell_type": "code",
   "execution_count": 46,
   "metadata": {
    "scrolled": true
   },
   "outputs": [
    {
     "data": {
      "text/plain": [
       "Rating    Argentina\n",
       "dtype: object"
      ]
     },
     "execution_count": 46,
     "metadata": {},
     "output_type": "execute_result"
    }
   ],
   "source": [
    "median_rating.idxmax()"
   ]
  },
  {
   "cell_type": "code",
   "execution_count": 77,
   "metadata": {
    "scrolled": false
   },
   "outputs": [
    {
     "data": {
      "image/png": "[encoded data removed]",
      "text/plain": [
       "<Figure size 432x288 with 1 Axes>"
      ]
     },
     "metadata": {
      "needs_background": "light"
     },
     "output_type": "display_data"
    }
   ],
   "source": [
    "plt.plot(median_rating.index, median_rating)\n",
    "plt.xticks(rotation=45)\n",
    "plt.xlabel('Country')\n",
    "plt.ylabel('Average rating pr. country');"
   ]
  },
  {
   "cell_type": "code",
   "execution_count": 13,
   "metadata": {},
   "outputs": [
    {
     "ename": "NameError",
     "evalue": "name 'pd' is not defined",
     "output_type": "error",
     "traceback": [
      "\u001b[0;31m---------------------------------------------------------------------------\u001b[0m",
      "\u001b[0;31mNameError\u001b[0m                                 Traceback (most recent call last)",
      "\u001b[0;32m<ipython-input-13-273ffb02336f>\u001b[0m in \u001b[0;36m<module>\u001b[0;34m\u001b[0m\n\u001b[1;32m      3\u001b[0m     \u001b[0mred_df\u001b[0m\u001b[0;34m.\u001b[0m\u001b[0mdrop\u001b[0m\u001b[0;34m(\u001b[0m\u001b[0mred_df\u001b[0m\u001b[0;34m[\u001b[0m\u001b[0mred_df\u001b[0m\u001b[0;34m.\u001b[0m\u001b[0mReview\u001b[0m \u001b[0;34m<\u001b[0m \u001b[0;36m112\u001b[0m\u001b[0;34m]\u001b[0m\u001b[0;34m.\u001b[0m\u001b[0mindex\u001b[0m\u001b[0;34m,\u001b[0m \u001b[0minplace\u001b[0m\u001b[0;34m=\u001b[0m\u001b[0;32mFalse\u001b[0m\u001b[0;34m)\u001b[0m\u001b[0;34m\u001b[0m\u001b[0;34m\u001b[0m\u001b[0m\n\u001b[1;32m      4\u001b[0m     \u001b[0;32mreturn\u001b[0m \u001b[0mplot_rating\u001b[0m\u001b[0;34m(\u001b[0m\u001b[0mred_df\u001b[0m\u001b[0;34m)\u001b[0m\u001b[0;34m\u001b[0m\u001b[0;34m\u001b[0m\u001b[0m\n\u001b[0;32m----> 5\u001b[0;31m \u001b[0mred_df\u001b[0m \u001b[0;34m=\u001b[0m \u001b[0mpd\u001b[0m\u001b[0;34m.\u001b[0m\u001b[0mread_csv\u001b[0m\u001b[0;34m(\u001b[0m\u001b[0;34m'redwinedata.csv'\u001b[0m\u001b[0;34m,\u001b[0m \u001b[0mnames\u001b[0m\u001b[0;34m=\u001b[0m\u001b[0;34m[\u001b[0m\u001b[0;34m\"Name\"\u001b[0m\u001b[0;34m,\u001b[0m \u001b[0;34m\"Year\"\u001b[0m\u001b[0;34m,\u001b[0m \u001b[0;34m\"Price\"\u001b[0m\u001b[0;34m,\u001b[0m \u001b[0;34m\"Rating\"\u001b[0m\u001b[0;34m,\u001b[0m \u001b[0;34m\"Review\"\u001b[0m\u001b[0;34m,\u001b[0m \u001b[0;34m\"Country\"\u001b[0m\u001b[0;34m]\u001b[0m\u001b[0;34m)\u001b[0m\u001b[0;34m\u001b[0m\u001b[0;34m\u001b[0m\u001b[0m\n\u001b[0m\u001b[1;32m      6\u001b[0m \u001b[0mplot_red\u001b[0m\u001b[0;34m(\u001b[0m\u001b[0mred_df\u001b[0m\u001b[0;34m)\u001b[0m\u001b[0;34m\u001b[0m\u001b[0;34m\u001b[0m\u001b[0m\n",
      "\u001b[0;31mNameError\u001b[0m: name 'pd' is not defined"
     ]
    }
   ],
   "source": [
    "def plot_red(red_df):\n",
    "    #red_df = pd.read_csv('redwinedata.csv', names=[\"Name\", \"Year\", \"Price\", \"Rating\", \"Review\", \"Country\"])\n",
    "    red_df.drop(red_df[red_df.Review < 112].index, inplace=False)\n",
    "    return plot_rating(red_df)\n",
    "red_df = pd.read_csv('redwinedata.csv', names=[\"Name\", \"Year\", \"Price\", \"Rating\", \"Review\", \"Country\"])\n",
    "plot_red(red_df)"
   ]
  },
  {
   "cell_type": "code",
   "execution_count": 10,
   "metadata": {
    "scrolled": true
   },
   "outputs": [],
   "source": [
    "def plot_white(white_df):\n",
    "    #white_df = pd.read_csv('whitewinedata.csv', names=[\"Name\", \"Year\", \"Price\", \"Rating\", \"Review\", \"Country\"])\n",
    "    white_df.drop(white_df[white_df.Review < 65].index, inplace=False)\n",
    "    return plot_rating(white_df)\n",
    "#white_df = pd.read_csv('whitewinedata.csv', names=[\"Name\", \"Year\", \"Price\", \"Rating\", \"Review\", \"Country\"])\n",
    "#plot_white(white_df)"
   ]
  },
  {
   "cell_type": "code",
   "execution_count": 11,
   "metadata": {},
   "outputs": [],
   "source": [
    "def plot_sparkling(sparkling_df):\n",
    "    #sparkling_df = pd.read_csv('sparklingwinedata.csv', names=[\"Name\", \"Year\", \"Price\", \"Rating\", \"Review\", \"Country\"])\n",
    "    sparkling_df.drop(sparkling_df[sparkling_df.Review < 95].index, inplace=False)\n",
    "    return plot_rating(sparkling_df)\n",
    "#sparkling_df = pd.read_csv('sparklingwinedata.csv', names=[\"Name\", \"Year\", \"Price\", \"Rating\", \"Review\", \"Country\"])\n",
    "#plot_sparkling(sparkling_df)"
   ]
  }
 ],
 "metadata": {
  "kernelspec": {
   "display_name": "Python 3",
   "language": "python",
   "name": "python3"
  },
  "language_info": {
   "codemirror_mode": {
    "name": "ipython",
    "version": 3
   },
   "file_extension": ".py",
   "mimetype": "text/x-python",
   "name": "python",
   "nbconvert_exporter": "python",
   "pygments_lexer": "ipython3",
   "version": "3.7.6"
  }
 },
 "nbformat": 4,
 "nbformat_minor": 4
}
