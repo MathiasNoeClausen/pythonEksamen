{
 "cells": [
  {
   "cell_type": "code",
   "execution_count": 1,
   "metadata": {},
   "outputs": [],
   "source": [
    "from selenium import webdriver\n",
    "from selenium.webdriver.common.by import By\n",
    "from selenium.webdriver.support.ui import WebDriverWait\n",
    "from selenium.webdriver.support import expected_conditions as EC\n",
    "from selenium.webdriver.firefox.options import Options\n",
    "import numpy as np\n",
    "import matplotlib.pyplot as plt\n",
    "import pandas as pd\n",
    "import csv\n",
    "import re\n",
    "import time"
   ]
  },
  {
   "cell_type": "code",
   "execution_count": 2,
   "metadata": {},
   "outputs": [],
   "source": [
    "def scroll(driver, timeout, loops):\n",
    "    scroll_pause_time = timeout\n",
    "\n",
    "    last_height = driver.execute_script(\"return document.body.scrollHeight\")\n",
    "    num = 0\n",
    "    \n",
    "    while True and num < loops:\n",
    "        driver.execute_script(\"window.scrollTo(0, document.body.scrollHeight);\")\n",
    "        num = num + 1\n",
    "        time.sleep(scroll_pause_time)\n",
    "        new_height = driver.execute_script(\"return document.body.scrollHeight\")\n",
    "        if new_height == last_height:\n",
    "            break\n",
    "        last_height = new_height"
   ]
  },
  {
   "cell_type": "code",
   "execution_count": 3,
   "metadata": {},
   "outputs": [],
   "source": [
    "url = 'https://www.vivino.com/explore?e=eJwdijsOgCAQBW_zaqDfzo4jGGPWFQmJgAH83V5iM1PMxEIaMSRSiPyQ0UpBXhospMPi6NlvdHEJrvGOvFDhFpKvs-QzNWRaXRXcbZz6-st8itQcHw%3D%3D'\n",
    "product_names = []\n",
    "profile = webdriver.FirefoxProfile()\n",
    "profile.set_preference(\"general.useragent.override\", \"Mozilla/5.0 (X11; Ubuntu; Linux x86_64; rv:81.0) Gecko/20100101 Firefox/81.0\")\n",
    "options = Options()\n",
    "options.headless = True\n",
    "browser = webdriver.Firefox(options=options)\n",
    "options.add_argument(\"start-maximized\")\n",
    "options.add_argument('disable-infobars')\n",
    "\n",
    "def scrape():\n",
    "    browser.get(url)\n",
    "    loops = 1\n",
    "    timeout = 5\n",
    "    scroll(browser, timeout, loops)\n",
    "\n",
    "    titles = browser.find_elements_by_class_name('vintageTitle__wine--U7t9G')\n",
    "    prices = browser.find_elements_by_xpath(\"(//*[contains(@class, 'addToCartButton__price')])\")\n",
    "    ratings = browser.find_elements_by_class_name('vivinoRating__averageValue--3Navj')\n",
    "    countries = browser.find_elements_by_xpath('//a[contains(@href, \"/explore?country_code\")]')\n",
    "    \n",
    "    for title, price, rating, country in zip(titles, prices, ratings, countries):\n",
    "        with open('vinDataLarge.csv', 'a', encoding='UTF8') as f:\n",
    "            writer = csv.writer(f)\n",
    "            date = 9999\n",
    "            line = re.findall(r'\\d+', title.text)\n",
    "        \n",
    "            if(len(line)>0):\n",
    "                for l in line:\n",
    "                    if(len(str(l)) == 4):\n",
    "                        date = l\n",
    "                    \n",
    "            data = [title.text, date, price.text.split(\"\\n\", 1)[0], rating.text, country.text]\n",
    "            writer.writerow(data)\n",
    "                                "
   ]
  },
  {
   "cell_type": "code",
   "execution_count": 4,
   "metadata": {},
   "outputs": [],
   "source": [
    "#scrape()"
   ]
  },
  {
   "cell_type": "code",
   "execution_count": 5,
   "metadata": {},
   "outputs": [
    {
     "data": {
      "text/html": [
       "<div>\n",
       "<style scoped>\n",
       "    .dataframe tbody tr th:only-of-type {\n",
       "        vertical-align: middle;\n",
       "    }\n",
       "\n",
       "    .dataframe tbody tr th {\n",
       "        vertical-align: top;\n",
       "    }\n",
       "\n",
       "    .dataframe thead th {\n",
       "        text-align: right;\n",
       "    }\n",
       "</style>\n",
       "<table border=\"1\" class=\"dataframe\">\n",
       "  <thead>\n",
       "    <tr style=\"text-align: right;\">\n",
       "      <th></th>\n",
       "      <th>Name</th>\n",
       "      <th>Year</th>\n",
       "      <th>Price</th>\n",
       "      <th>Rating</th>\n",
       "      <th>Country</th>\n",
       "    </tr>\n",
       "  </thead>\n",
       "  <tbody>\n",
       "    <tr>\n",
       "      <th>0</th>\n",
       "      <td>Edizione Cinque Autoctoni</td>\n",
       "      <td>9999</td>\n",
       "      <td>149.00</td>\n",
       "      <td>4.3</td>\n",
       "      <td>Italy</td>\n",
       "    </tr>\n",
       "    <tr>\n",
       "      <th>1</th>\n",
       "      <td>Malbec 2018</td>\n",
       "      <td>2018</td>\n",
       "      <td>59.95</td>\n",
       "      <td>3.8</td>\n",
       "      <td>Argentina</td>\n",
       "    </tr>\n",
       "    <tr>\n",
       "      <th>2</th>\n",
       "      <td>Malbec 2016</td>\n",
       "      <td>2016</td>\n",
       "      <td>129.95</td>\n",
       "      <td>4.1</td>\n",
       "      <td>Argentina</td>\n",
       "    </tr>\n",
       "    <tr>\n",
       "      <th>3</th>\n",
       "      <td>Malbec 2013</td>\n",
       "      <td>2013</td>\n",
       "      <td>99.95</td>\n",
       "      <td>3.9</td>\n",
       "      <td>Argentina</td>\n",
       "    </tr>\n",
       "    <tr>\n",
       "      <th>4</th>\n",
       "      <td>Red Blend 2017</td>\n",
       "      <td>2017</td>\n",
       "      <td>549.00</td>\n",
       "      <td>4.3</td>\n",
       "      <td>United States</td>\n",
       "    </tr>\n",
       "  </tbody>\n",
       "</table>\n",
       "</div>"
      ],
      "text/plain": [
       "                        Name  Year   Price  Rating        Country\n",
       "0  Edizione Cinque Autoctoni  9999  149.00     4.3          Italy\n",
       "1                Malbec 2018  2018   59.95     3.8      Argentina\n",
       "2                Malbec 2016  2016  129.95     4.1      Argentina\n",
       "3                Malbec 2013  2013   99.95     3.9      Argentina\n",
       "4             Red Blend 2017  2017  549.00     4.3  United States"
      ]
     },
     "execution_count": 5,
     "metadata": {},
     "output_type": "execute_result"
    }
   ],
   "source": [
    "df = pd.read_csv('vinData.csv')\n",
    "df.head()"
   ]
  },
  {
   "cell_type": "code",
   "execution_count": 6,
   "metadata": {},
   "outputs": [
    {
     "data": {
      "text/html": [
       "<div>\n",
       "<style scoped>\n",
       "    .dataframe tbody tr th:only-of-type {\n",
       "        vertical-align: middle;\n",
       "    }\n",
       "\n",
       "    .dataframe tbody tr th {\n",
       "        vertical-align: top;\n",
       "    }\n",
       "\n",
       "    .dataframe thead th {\n",
       "        text-align: right;\n",
       "    }\n",
       "</style>\n",
       "<table border=\"1\" class=\"dataframe\">\n",
       "  <thead>\n",
       "    <tr style=\"text-align: right;\">\n",
       "      <th></th>\n",
       "      <th>Name</th>\n",
       "      <th>Year</th>\n",
       "      <th>Price</th>\n",
       "      <th>Rating</th>\n",
       "      <th>Country</th>\n",
       "    </tr>\n",
       "  </thead>\n",
       "  <tbody>\n",
       "    <tr>\n",
       "      <th>1</th>\n",
       "      <td>Malbec 2018</td>\n",
       "      <td>2018</td>\n",
       "      <td>59.95</td>\n",
       "      <td>3.8</td>\n",
       "      <td>Argentina</td>\n",
       "    </tr>\n",
       "    <tr>\n",
       "      <th>2</th>\n",
       "      <td>Malbec 2016</td>\n",
       "      <td>2016</td>\n",
       "      <td>129.95</td>\n",
       "      <td>4.1</td>\n",
       "      <td>Argentina</td>\n",
       "    </tr>\n",
       "    <tr>\n",
       "      <th>3</th>\n",
       "      <td>Malbec 2013</td>\n",
       "      <td>2013</td>\n",
       "      <td>99.95</td>\n",
       "      <td>3.9</td>\n",
       "      <td>Argentina</td>\n",
       "    </tr>\n",
       "    <tr>\n",
       "      <th>4</th>\n",
       "      <td>Red Blend 2017</td>\n",
       "      <td>2017</td>\n",
       "      <td>549.00</td>\n",
       "      <td>4.3</td>\n",
       "      <td>United States</td>\n",
       "    </tr>\n",
       "    <tr>\n",
       "      <th>5</th>\n",
       "      <td>Ripassa Valpolicella Ripasso Superiore 2016</td>\n",
       "      <td>2016</td>\n",
       "      <td>169.00</td>\n",
       "      <td>4.1</td>\n",
       "      <td>Italy</td>\n",
       "    </tr>\n",
       "  </tbody>\n",
       "</table>\n",
       "</div>"
      ],
      "text/plain": [
       "                                          Name  Year   Price  Rating  \\\n",
       "1                                  Malbec 2018  2018   59.95     3.8   \n",
       "2                                  Malbec 2016  2016  129.95     4.1   \n",
       "3                                  Malbec 2013  2013   99.95     3.9   \n",
       "4                               Red Blend 2017  2017  549.00     4.3   \n",
       "5  Ripassa Valpolicella Ripasso Superiore 2016  2016  169.00     4.1   \n",
       "\n",
       "         Country  \n",
       "1      Argentina  \n",
       "2      Argentina  \n",
       "3      Argentina  \n",
       "4  United States  \n",
       "5          Italy  "
      ]
     },
     "execution_count": 6,
     "metadata": {},
     "output_type": "execute_result"
    }
   ],
   "source": [
    "yearMask = df['Year'] < 2022\n",
    "dfClean = df[yearMask]\n",
    "dfClean.head()"
   ]
  },
  {
   "cell_type": "markdown",
   "metadata": {},
   "source": [
    "\n",
    "\n",
    "## SAMMENHÆNG I DATAENS COLUMNS\n",
    "Vi ville undersøge om der er en correlation mellem f.eks. år og pris, pris og rating, og så videre."
   ]
  },
  {
   "cell_type": "code",
   "execution_count": 7,
   "metadata": {},
   "outputs": [
    {
     "data": {
      "text/plain": [
       "<seaborn.axisgrid.PairGrid at 0x7f7f753c7c50>"
      ]
     },
     "execution_count": 7,
     "metadata": {},
     "output_type": "execute_result"
    },
    {
     "data": {
      "image/png": "[encoded data removed]",
      "text/plain": [
       "<Figure size 540x540 with 12 Axes>"
      ]
     },
     "metadata": {
      "needs_background": "light"
     },
     "output_type": "display_data"
    }
   ],
   "source": [
    "import seaborn as sb\n",
    "\n",
    "sb.pairplot(dfClean)"
   ]
  },
  {
   "cell_type": "code",
   "execution_count": 8,
   "metadata": {},
   "outputs": [
    {
     "data": {
      "text/html": [
       "<div>\n",
       "<style scoped>\n",
       "    .dataframe tbody tr th:only-of-type {\n",
       "        vertical-align: middle;\n",
       "    }\n",
       "\n",
       "    .dataframe tbody tr th {\n",
       "        vertical-align: top;\n",
       "    }\n",
       "\n",
       "    .dataframe thead th {\n",
       "        text-align: right;\n",
       "    }\n",
       "</style>\n",
       "<table border=\"1\" class=\"dataframe\">\n",
       "  <thead>\n",
       "    <tr style=\"text-align: right;\">\n",
       "      <th></th>\n",
       "      <th>Year</th>\n",
       "      <th>Price</th>\n",
       "      <th>Rating</th>\n",
       "    </tr>\n",
       "  </thead>\n",
       "  <tbody>\n",
       "    <tr>\n",
       "      <th>Year</th>\n",
       "      <td>1.000000</td>\n",
       "      <td>-0.424948</td>\n",
       "      <td>-0.206095</td>\n",
       "    </tr>\n",
       "    <tr>\n",
       "      <th>Price</th>\n",
       "      <td>-0.424948</td>\n",
       "      <td>1.000000</td>\n",
       "      <td>0.539901</td>\n",
       "    </tr>\n",
       "    <tr>\n",
       "      <th>Rating</th>\n",
       "      <td>-0.206095</td>\n",
       "      <td>0.539901</td>\n",
       "      <td>1.000000</td>\n",
       "    </tr>\n",
       "  </tbody>\n",
       "</table>\n",
       "</div>"
      ],
      "text/plain": [
       "            Year     Price    Rating\n",
       "Year    1.000000 -0.424948 -0.206095\n",
       "Price  -0.424948  1.000000  0.539901\n",
       "Rating -0.206095  0.539901  1.000000"
      ]
     },
     "execution_count": 8,
     "metadata": {},
     "output_type": "execute_result"
    }
   ],
   "source": [
    "dfClean.corr()"
   ]
  },
  {
   "cell_type": "code",
   "execution_count": 9,
   "metadata": {},
   "outputs": [
    {
     "data": {
      "text/html": [
       "<div>\n",
       "<style scoped>\n",
       "    .dataframe tbody tr th:only-of-type {\n",
       "        vertical-align: middle;\n",
       "    }\n",
       "\n",
       "    .dataframe tbody tr th {\n",
       "        vertical-align: top;\n",
       "    }\n",
       "\n",
       "    .dataframe thead th {\n",
       "        text-align: right;\n",
       "    }\n",
       "</style>\n",
       "<table border=\"1\" class=\"dataframe\">\n",
       "  <thead>\n",
       "    <tr style=\"text-align: right;\">\n",
       "      <th></th>\n",
       "      <th>Year</th>\n",
       "      <th>Price</th>\n",
       "      <th>Rating</th>\n",
       "    </tr>\n",
       "  </thead>\n",
       "  <tbody>\n",
       "    <tr>\n",
       "      <th>Year</th>\n",
       "      <td>1.000000</td>\n",
       "      <td>-0.486648</td>\n",
       "      <td>-0.278772</td>\n",
       "    </tr>\n",
       "    <tr>\n",
       "      <th>Price</th>\n",
       "      <td>-0.486648</td>\n",
       "      <td>1.000000</td>\n",
       "      <td>0.597095</td>\n",
       "    </tr>\n",
       "    <tr>\n",
       "      <th>Rating</th>\n",
       "      <td>-0.278772</td>\n",
       "      <td>0.597095</td>\n",
       "      <td>1.000000</td>\n",
       "    </tr>\n",
       "  </tbody>\n",
       "</table>\n",
       "</div>"
      ],
      "text/plain": [
       "            Year     Price    Rating\n",
       "Year    1.000000 -0.486648 -0.278772\n",
       "Price  -0.486648  1.000000  0.597095\n",
       "Rating -0.278772  0.597095  1.000000"
      ]
     },
     "execution_count": 9,
     "metadata": {},
     "output_type": "execute_result"
    }
   ],
   "source": [
    "dfLarge = pd.read_csv('vinDataLarge.csv')\n",
    "yearMask = dfLarge['Year'] < 2022\n",
    "dfLargeClean = dfLarge[yearMask]\n",
    "\n",
    "dfLargeClean.corr()"
   ]
  },
  {
   "cell_type": "code",
   "execution_count": 10,
   "metadata": {},
   "outputs": [
    {
     "name": "stdout",
     "output_type": "stream",
     "text": [
      "0.5399014967304493\n"
     ]
    },
    {
     "data": {
      "image/png": "[encoded data removed]",
      "text/plain": [
       "<Figure size 432x288 with 1 Axes>"
      ]
     },
     "metadata": {
      "needs_background": "light"
     },
     "output_type": "display_data"
    }
   ],
   "source": [
    "x = dfClean['Price']\n",
    "y = dfClean['Rating']\n",
    "plt.scatter(x, y)\n",
    "\n",
    "plt.plot(np.unique(x), np.poly1d(np.polyfit(x, y, 1))(np.unique(x)), color='red')\n",
    "correlation = x.corr(y)\n",
    "print(correlation)"
   ]
  },
  {
   "cell_type": "code",
   "execution_count": 11,
   "metadata": {},
   "outputs": [
    {
     "name": "stdout",
     "output_type": "stream",
     "text": [
      "0.5970954630350238\n"
     ]
    },
    {
     "data": {
      "image/png": "[encoded data removed]",
      "text/plain": [
       "<Figure size 432x288 with 1 Axes>"
      ]
     },
     "metadata": {
      "needs_background": "light"
     },
     "output_type": "display_data"
    }
   ],
   "source": [
    "xL = dfLargeClean['Price']\n",
    "yL = dfLargeClean['Rating']\n",
    "plt.scatter(xL, yL)\n",
    "\n",
    "plt.plot(np.unique(xL), np.poly1d(np.polyfit(xL, yL, 1))(np.unique(xL)), color='red')\n",
    "correlation = xL.corr(yL)\n",
    "print(correlation)"
   ]
  },
  {
   "cell_type": "code",
   "execution_count": 12,
   "metadata": {},
   "outputs": [
    {
     "data": {
      "text/plain": [
       "[<matplotlib.lines.Line2D at 0x7f7f70a22250>]"
      ]
     },
     "execution_count": 12,
     "metadata": {},
     "output_type": "execute_result"
    },
    {
     "data": {
      "image/png": "[encoded data removed]",
      "text/plain": [
       "<Figure size 432x288 with 1 Axes>"
      ]
     },
     "metadata": {
      "needs_background": "light"
     },
     "output_type": "display_data"
    }
   ],
   "source": [
    "x = dfClean['Year']\n",
    "y = dfClean['Rating']\n",
    "plt.scatter(x, y)\n",
    "\n",
    "plt.plot(np.unique(x), np.poly1d(np.polyfit(x, y, 1))(np.unique(x)), color='red')"
   ]
  },
  {
   "cell_type": "markdown",
   "metadata": {},
   "source": [
    "Vi kan se at desto større databasen er, desto stærkere er correlationen mellem pris og rating. Ville der være årsag til at scrape endnu mere?"
   ]
  },
  {
   "cell_type": "code",
   "execution_count": 13,
   "metadata": {},
   "outputs": [
    {
     "name": "stdout",
     "output_type": "stream",
     "text": [
      "Correlation ved størrelse 300: -0.23401218516643876\n",
      "Correlation ved størrelse 500: -0.23796757546493885\n",
      "Correlation ved størrelse 700: -0.2173319349920702\n",
      "Correlation ved størrelse 900: -0.25137713489329505\n",
      "Correlation ved størrelse 1100: -0.2596959905033134\n",
      "Correlation ved størrelse 1300: -0.2735288825678517\n"
     ]
    }
   ],
   "source": [
    "for size in range(300, 1500, 200):\n",
    "    print(\"Correlation ved størrelse \" + str(size) + \": \" + str(dfLargeClean['Year'][0:size].corr(dfLargeClean['Rating'][0:size])))"
   ]
  },
  {
   "cell_type": "markdown",
   "metadata": {},
   "source": [
    "Videre undersøgning af hvor stærk correlationen er:"
   ]
  },
  {
   "cell_type": "code",
   "execution_count": 14,
   "metadata": {},
   "outputs": [
    {
     "name": "stdout",
     "output_type": "stream",
     "text": [
      "0.3565229919770093\n",
      "[0.00056345]\n",
      "3.810086328166339\n",
      "[4.79612752]\n",
      "Vi kan forvente at en vin til prisen 1750kr. har en rating på:\n",
      "4.7960375\n"
     ]
    }
   ],
   "source": [
    "from sklearn.linear_model import LinearRegression\n",
    "x = (dfLargeClean['Price'].values).reshape(-1,1)\n",
    "y = (dfLargeClean['Rating'].values)\n",
    "reg = LinearRegression().fit(x, y)\n",
    "\n",
    "print(reg.score(x, y)); print(reg.coef_); print(reg.intercept_)\n",
    "\n",
    "print(reg.predict([[1750]]))\n",
    "print(\"Vi kan forvente at en vin til prisen 1750kr. har en rating på:\"); print(0.00056345 * 1750 + 3.81)\n"
   ]
  },
  {
   "cell_type": "code",
   "execution_count": 15,
   "metadata": {},
   "outputs": [
    {
     "name": "stdout",
     "output_type": "stream",
     "text": [
      "    Actual  Predicted\n",
      "60     3.7   3.841952\n",
      "61     4.2   3.920889\n",
      "62     3.6   3.848069\n",
      "63     4.4   4.298499\n",
      "64     4.5   4.919090\n",
      "65     4.2   4.031578\n",
      "66     3.9   3.864752\n",
      "67     3.9   4.014895\n",
      "68     3.8   3.851406\n",
      "69     4.5   3.920361\n",
      "70     3.7   3.903678\n",
      "71     4.2   3.920889\n",
      "72     4.3   4.087186\n",
      "73     3.7   3.881435\n",
      "74     4.3   3.934819\n"
     ]
    },
    {
     "data": {
      "text/plain": [
       "0.42309585785509307"
      ]
     },
     "execution_count": 15,
     "metadata": {},
     "output_type": "execute_result"
    }
   ],
   "source": [
    "from sklearn.model_selection import train_test_split\n",
    "from sklearn.metrics import r2_score\n",
    "X_train, X_test, y_train, y_test = train_test_split(x, y, test_size=0.2, random_state=0)\n",
    "\n",
    "reg = LinearRegression()\n",
    "reg.fit(X_train, y_train)\n",
    "\n",
    "y_pred = reg.predict(X_test)\n",
    "\n",
    "dfTrain = pd.DataFrame({'Actual': y_test, 'Predicted': y_pred})\n",
    "dfTrain\n",
    "\n",
    "print(dfTrain[60:75])\n",
    "r2_score(dfTrain['Actual'], dfTrain['Predicted'])"
   ]
  },
  {
   "cell_type": "markdown",
   "metadata": {},
   "source": [
    "## Hvilken type vin var mest populær det givne år?"
   ]
  },
  {
   "cell_type": "code",
   "execution_count": 55,
   "metadata": {},
   "outputs": [
    {
     "data": {
      "text/html": [
       "<div>\n",
       "<style scoped>\n",
       "    .dataframe tbody tr th:only-of-type {\n",
       "        vertical-align: middle;\n",
       "    }\n",
       "\n",
       "    .dataframe tbody tr th {\n",
       "        vertical-align: top;\n",
       "    }\n",
       "\n",
       "    .dataframe thead th {\n",
       "        text-align: right;\n",
       "    }\n",
       "</style>\n",
       "<table border=\"1\" class=\"dataframe\">\n",
       "  <thead>\n",
       "    <tr style=\"text-align: right;\">\n",
       "      <th></th>\n",
       "      <th>Name</th>\n",
       "      <th>Year</th>\n",
       "      <th>Price</th>\n",
       "      <th>Rating</th>\n",
       "      <th>Country</th>\n",
       "    </tr>\n",
       "  </thead>\n",
       "  <tbody>\n",
       "    <tr>\n",
       "      <th>1</th>\n",
       "      <td>Malbec 2018</td>\n",
       "      <td>2018</td>\n",
       "      <td>59.95</td>\n",
       "      <td>3.8</td>\n",
       "      <td>Argentina</td>\n",
       "    </tr>\n",
       "    <tr>\n",
       "      <th>2</th>\n",
       "      <td>Malbec 2016</td>\n",
       "      <td>2016</td>\n",
       "      <td>129.95</td>\n",
       "      <td>4.1</td>\n",
       "      <td>Argentina</td>\n",
       "    </tr>\n",
       "    <tr>\n",
       "      <th>3</th>\n",
       "      <td>Cabernet Sauvignon 2016</td>\n",
       "      <td>2016</td>\n",
       "      <td>750.00</td>\n",
       "      <td>4.6</td>\n",
       "      <td>United States</td>\n",
       "    </tr>\n",
       "    <tr>\n",
       "      <th>4</th>\n",
       "      <td>Malbec 2013</td>\n",
       "      <td>2013</td>\n",
       "      <td>99.95</td>\n",
       "      <td>3.9</td>\n",
       "      <td>Argentina</td>\n",
       "    </tr>\n",
       "    <tr>\n",
       "      <th>5</th>\n",
       "      <td>Red Blend 2017</td>\n",
       "      <td>2017</td>\n",
       "      <td>549.00</td>\n",
       "      <td>4.3</td>\n",
       "      <td>United States</td>\n",
       "    </tr>\n",
       "  </tbody>\n",
       "</table>\n",
       "</div>"
      ],
      "text/plain": [
       "                      Name  Year   Price  Rating        Country\n",
       "1              Malbec 2018  2018   59.95     3.8      Argentina\n",
       "2              Malbec 2016  2016  129.95     4.1      Argentina\n",
       "3  Cabernet Sauvignon 2016  2016  750.00     4.6  United States\n",
       "4              Malbec 2013  2013   99.95     3.9      Argentina\n",
       "5           Red Blend 2017  2017  549.00     4.3  United States"
      ]
     },
     "execution_count": 55,
     "metadata": {},
     "output_type": "execute_result"
    }
   ],
   "source": [
    "dfLargeClean.head()"
   ]
  },
  {
   "cell_type": "code",
   "execution_count": 56,
   "metadata": {},
   "outputs": [
    {
     "data": {
      "text/html": [
       "<div>\n",
       "<style scoped>\n",
       "    .dataframe tbody tr th:only-of-type {\n",
       "        vertical-align: middle;\n",
       "    }\n",
       "\n",
       "    .dataframe tbody tr th {\n",
       "        vertical-align: top;\n",
       "    }\n",
       "\n",
       "    .dataframe thead th {\n",
       "        text-align: right;\n",
       "    }\n",
       "</style>\n",
       "<table border=\"1\" class=\"dataframe\">\n",
       "  <thead>\n",
       "    <tr style=\"text-align: right;\">\n",
       "      <th></th>\n",
       "      <th>Name</th>\n",
       "      <th>Year</th>\n",
       "      <th>Rating</th>\n",
       "      <th>Country</th>\n",
       "    </tr>\n",
       "  </thead>\n",
       "  <tbody>\n",
       "    <tr>\n",
       "      <th>1</th>\n",
       "      <td>Malbec 2018</td>\n",
       "      <td>2018</td>\n",
       "      <td>3.8</td>\n",
       "      <td>Argentina</td>\n",
       "    </tr>\n",
       "    <tr>\n",
       "      <th>2</th>\n",
       "      <td>Malbec 2016</td>\n",
       "      <td>2016</td>\n",
       "      <td>4.1</td>\n",
       "      <td>Argentina</td>\n",
       "    </tr>\n",
       "    <tr>\n",
       "      <th>3</th>\n",
       "      <td>Cabernet Sauvignon 2016</td>\n",
       "      <td>2016</td>\n",
       "      <td>4.6</td>\n",
       "      <td>United States</td>\n",
       "    </tr>\n",
       "    <tr>\n",
       "      <th>4</th>\n",
       "      <td>Malbec 2013</td>\n",
       "      <td>2013</td>\n",
       "      <td>3.9</td>\n",
       "      <td>Argentina</td>\n",
       "    </tr>\n",
       "    <tr>\n",
       "      <th>5</th>\n",
       "      <td>Red Blend 2017</td>\n",
       "      <td>2017</td>\n",
       "      <td>4.3</td>\n",
       "      <td>United States</td>\n",
       "    </tr>\n",
       "  </tbody>\n",
       "</table>\n",
       "</div>"
      ],
      "text/plain": [
       "                      Name  Year  Rating        Country\n",
       "1              Malbec 2018  2018     3.8      Argentina\n",
       "2              Malbec 2016  2016     4.1      Argentina\n",
       "3  Cabernet Sauvignon 2016  2016     4.6  United States\n",
       "4              Malbec 2013  2013     3.9      Argentina\n",
       "5           Red Blend 2017  2017     4.3  United States"
      ]
     },
     "execution_count": 56,
     "metadata": {},
     "output_type": "execute_result"
    }
   ],
   "source": [
    "data_chart = dfLargeClean.drop(columns='Price')\n",
    "data_chart.head()"
   ]
  },
  {
   "cell_type": "code",
   "execution_count": 57,
   "metadata": {
    "scrolled": true
   },
   "outputs": [
    {
     "data": {
      "text/html": [
       "<div>\n",
       "<style scoped>\n",
       "    .dataframe tbody tr th:only-of-type {\n",
       "        vertical-align: middle;\n",
       "    }\n",
       "\n",
       "    .dataframe tbody tr th {\n",
       "        vertical-align: top;\n",
       "    }\n",
       "\n",
       "    .dataframe thead th {\n",
       "        text-align: right;\n",
       "    }\n",
       "</style>\n",
       "<table border=\"1\" class=\"dataframe\">\n",
       "  <thead>\n",
       "    <tr style=\"text-align: right;\">\n",
       "      <th></th>\n",
       "      <th>Name</th>\n",
       "      <th>Rating</th>\n",
       "      <th>Country</th>\n",
       "    </tr>\n",
       "    <tr>\n",
       "      <th>Year</th>\n",
       "      <th></th>\n",
       "      <th></th>\n",
       "      <th></th>\n",
       "    </tr>\n",
       "  </thead>\n",
       "  <tbody>\n",
       "    <tr>\n",
       "      <th>1982</th>\n",
       "      <td>Barolo Riserva 1982</td>\n",
       "      <td>4.6</td>\n",
       "      <td>Italy</td>\n",
       "    </tr>\n",
       "    <tr>\n",
       "      <th>1986</th>\n",
       "      <td>Cos d'Estournel 1986</td>\n",
       "      <td>4.4</td>\n",
       "      <td>France</td>\n",
       "    </tr>\n",
       "    <tr>\n",
       "      <th>1995</th>\n",
       "      <td>Saint-Julien (Grand Cru Classé) 1995</td>\n",
       "      <td>4.3</td>\n",
       "      <td>France</td>\n",
       "    </tr>\n",
       "    <tr>\n",
       "      <th>2003</th>\n",
       "      <td>Dominus (Christian Moueix) 2003</td>\n",
       "      <td>4.5</td>\n",
       "      <td>United States</td>\n",
       "    </tr>\n",
       "    <tr>\n",
       "      <th>2004</th>\n",
       "      <td>Saint-Julien (Grand Cru Classé) 2004</td>\n",
       "      <td>4.4</td>\n",
       "      <td>Lebanon</td>\n",
       "    </tr>\n",
       "    <tr>\n",
       "      <th>2005</th>\n",
       "      <td>Château d'Ampuis Côte-Rôtie 2005</td>\n",
       "      <td>4.4</td>\n",
       "      <td>France</td>\n",
       "    </tr>\n",
       "    <tr>\n",
       "      <th>2006</th>\n",
       "      <td>Martha's Vineyard Cabernet Sauvignon 2006</td>\n",
       "      <td>4.6</td>\n",
       "      <td>United States</td>\n",
       "    </tr>\n",
       "    <tr>\n",
       "      <th>2007</th>\n",
       "      <td>Viña Tondonia Reserva Blanco 2007</td>\n",
       "      <td>4.4</td>\n",
       "      <td>Spain</td>\n",
       "    </tr>\n",
       "    <tr>\n",
       "      <th>2008</th>\n",
       "      <td>Viña Tondonia Reserva 2008</td>\n",
       "      <td>4.3</td>\n",
       "      <td>Spain</td>\n",
       "    </tr>\n",
       "    <tr>\n",
       "      <th>2009</th>\n",
       "      <td>Viña Cubillo 2009</td>\n",
       "      <td>4.7</td>\n",
       "      <td>United States</td>\n",
       "    </tr>\n",
       "    <tr>\n",
       "      <th>2010</th>\n",
       "      <td>Toscana Le Cupole Rosso 2010</td>\n",
       "      <td>4.6</td>\n",
       "      <td>United States</td>\n",
       "    </tr>\n",
       "    <tr>\n",
       "      <th>2011</th>\n",
       "      <td>Vigneto di Popoli Montepulciano d'Abruzzo 2011</td>\n",
       "      <td>4.6</td>\n",
       "      <td>Spain</td>\n",
       "    </tr>\n",
       "    <tr>\n",
       "      <th>2012</th>\n",
       "      <td>Vürsù Barolo Campè 2012</td>\n",
       "      <td>4.5</td>\n",
       "      <td>United States</td>\n",
       "    </tr>\n",
       "    <tr>\n",
       "      <th>2013</th>\n",
       "      <td>Wild Sauvignon 2013</td>\n",
       "      <td>4.5</td>\n",
       "      <td>United States</td>\n",
       "    </tr>\n",
       "    <tr>\n",
       "      <th>2014</th>\n",
       "      <td>Zinfandel 2014</td>\n",
       "      <td>4.6</td>\n",
       "      <td>United States</td>\n",
       "    </tr>\n",
       "    <tr>\n",
       "      <th>2015</th>\n",
       "      <td>Zinfandel 2015</td>\n",
       "      <td>4.8</td>\n",
       "      <td>Uruguay</td>\n",
       "    </tr>\n",
       "    <tr>\n",
       "      <th>2016</th>\n",
       "      <td>Zinfandel 2016</td>\n",
       "      <td>4.7</td>\n",
       "      <td>Uruguay</td>\n",
       "    </tr>\n",
       "    <tr>\n",
       "      <th>2017</th>\n",
       "      <td>d'Arry's Original Shiraz - Grenache 2017</td>\n",
       "      <td>4.7</td>\n",
       "      <td>Uruguay</td>\n",
       "    </tr>\n",
       "    <tr>\n",
       "      <th>2018</th>\n",
       "      <td>de La Tierra 2018</td>\n",
       "      <td>4.6</td>\n",
       "      <td>Uruguay</td>\n",
       "    </tr>\n",
       "    <tr>\n",
       "      <th>2019</th>\n",
       "      <td>Zinfandel 2019</td>\n",
       "      <td>4.3</td>\n",
       "      <td>Uruguay</td>\n",
       "    </tr>\n",
       "    <tr>\n",
       "      <th>2020</th>\n",
       "      <td>Watervale Riesling 2020</td>\n",
       "      <td>4.3</td>\n",
       "      <td>Spain</td>\n",
       "    </tr>\n",
       "  </tbody>\n",
       "</table>\n",
       "</div>"
      ],
      "text/plain": [
       "                                                Name  Rating        Country\n",
       "Year                                                                       \n",
       "1982                             Barolo Riserva 1982     4.6          Italy\n",
       "1986                            Cos d'Estournel 1986     4.4         France\n",
       "1995            Saint-Julien (Grand Cru Classé) 1995     4.3         France\n",
       "2003                 Dominus (Christian Moueix) 2003     4.5  United States\n",
       "2004            Saint-Julien (Grand Cru Classé) 2004     4.4        Lebanon\n",
       "2005                Château d'Ampuis Côte-Rôtie 2005     4.4         France\n",
       "2006       Martha's Vineyard Cabernet Sauvignon 2006     4.6  United States\n",
       "2007               Viña Tondonia Reserva Blanco 2007     4.4          Spain\n",
       "2008                      Viña Tondonia Reserva 2008     4.3          Spain\n",
       "2009                               Viña Cubillo 2009     4.7  United States\n",
       "2010                    Toscana Le Cupole Rosso 2010     4.6  United States\n",
       "2011  Vigneto di Popoli Montepulciano d'Abruzzo 2011     4.6          Spain\n",
       "2012                         Vürsù Barolo Campè 2012     4.5  United States\n",
       "2013                             Wild Sauvignon 2013     4.5  United States\n",
       "2014                                  Zinfandel 2014     4.6  United States\n",
       "2015                                  Zinfandel 2015     4.8        Uruguay\n",
       "2016                                  Zinfandel 2016     4.7        Uruguay\n",
       "2017        d'Arry's Original Shiraz - Grenache 2017     4.7        Uruguay\n",
       "2018                               de La Tierra 2018     4.6        Uruguay\n",
       "2019                                  Zinfandel 2019     4.3        Uruguay\n",
       "2020                         Watervale Riesling 2020     4.3          Spain"
      ]
     },
     "execution_count": 57,
     "metadata": {},
     "output_type": "execute_result"
    }
   ],
   "source": [
    "#Viser hvilken vin der var bedst for hvert år, samt hvilket land den kom fra. \n",
    "max_rating = data_chart.groupby('Year').max()\n",
    "max = max_rating['Rating'].max()\n",
    "min_rating = data_chart.groupby('Year').min()\n",
    "#min_rating\n",
    "max_rating\n",
    "#max\n"
   ]
  },
  {
   "cell_type": "code",
   "execution_count": 58,
   "metadata": {
    "scrolled": false
   },
   "outputs": [
    {
     "data": {
      "text/html": [
       "<div>\n",
       "<style scoped>\n",
       "    .dataframe tbody tr th:only-of-type {\n",
       "        vertical-align: middle;\n",
       "    }\n",
       "\n",
       "    .dataframe tbody tr th {\n",
       "        vertical-align: top;\n",
       "    }\n",
       "\n",
       "    .dataframe thead th {\n",
       "        text-align: right;\n",
       "    }\n",
       "</style>\n",
       "<table border=\"1\" class=\"dataframe\">\n",
       "  <thead>\n",
       "    <tr style=\"text-align: right;\">\n",
       "      <th></th>\n",
       "      <th>Rating</th>\n",
       "      <th>Country</th>\n",
       "    </tr>\n",
       "    <tr>\n",
       "      <th>Name</th>\n",
       "      <th></th>\n",
       "      <th></th>\n",
       "    </tr>\n",
       "  </thead>\n",
       "  <tbody>\n",
       "    <tr>\n",
       "      <th>Barolo Riserva 1982</th>\n",
       "      <td>4.6</td>\n",
       "      <td>Italy</td>\n",
       "    </tr>\n",
       "    <tr>\n",
       "      <th>Château d'Ampuis Côte-Rôtie 2005</th>\n",
       "      <td>4.4</td>\n",
       "      <td>France</td>\n",
       "    </tr>\n",
       "    <tr>\n",
       "      <th>Cos d'Estournel 1986</th>\n",
       "      <td>4.4</td>\n",
       "      <td>France</td>\n",
       "    </tr>\n",
       "    <tr>\n",
       "      <th>Dominus (Christian Moueix) 2003</th>\n",
       "      <td>4.5</td>\n",
       "      <td>United States</td>\n",
       "    </tr>\n",
       "    <tr>\n",
       "      <th>Martha's Vineyard Cabernet Sauvignon 2006</th>\n",
       "      <td>4.6</td>\n",
       "      <td>United States</td>\n",
       "    </tr>\n",
       "    <tr>\n",
       "      <th>Saint-Julien (Grand Cru Classé) 1995</th>\n",
       "      <td>4.3</td>\n",
       "      <td>France</td>\n",
       "    </tr>\n",
       "    <tr>\n",
       "      <th>Saint-Julien (Grand Cru Classé) 2004</th>\n",
       "      <td>4.4</td>\n",
       "      <td>Lebanon</td>\n",
       "    </tr>\n",
       "    <tr>\n",
       "      <th>Toscana Le Cupole Rosso 2010</th>\n",
       "      <td>4.6</td>\n",
       "      <td>United States</td>\n",
       "    </tr>\n",
       "    <tr>\n",
       "      <th>Vigneto di Popoli Montepulciano d'Abruzzo 2011</th>\n",
       "      <td>4.6</td>\n",
       "      <td>Spain</td>\n",
       "    </tr>\n",
       "    <tr>\n",
       "      <th>Viña Cubillo 2009</th>\n",
       "      <td>4.7</td>\n",
       "      <td>United States</td>\n",
       "    </tr>\n",
       "    <tr>\n",
       "      <th>Viña Tondonia Reserva 2008</th>\n",
       "      <td>4.3</td>\n",
       "      <td>Spain</td>\n",
       "    </tr>\n",
       "    <tr>\n",
       "      <th>Viña Tondonia Reserva Blanco 2007</th>\n",
       "      <td>4.4</td>\n",
       "      <td>Spain</td>\n",
       "    </tr>\n",
       "    <tr>\n",
       "      <th>Vürsù Barolo Campè 2012</th>\n",
       "      <td>4.5</td>\n",
       "      <td>United States</td>\n",
       "    </tr>\n",
       "    <tr>\n",
       "      <th>Watervale Riesling 2020</th>\n",
       "      <td>4.3</td>\n",
       "      <td>Spain</td>\n",
       "    </tr>\n",
       "    <tr>\n",
       "      <th>Wild Sauvignon 2013</th>\n",
       "      <td>4.5</td>\n",
       "      <td>United States</td>\n",
       "    </tr>\n",
       "    <tr>\n",
       "      <th>Zinfandel 2014</th>\n",
       "      <td>4.6</td>\n",
       "      <td>United States</td>\n",
       "    </tr>\n",
       "    <tr>\n",
       "      <th>Zinfandel 2015</th>\n",
       "      <td>4.8</td>\n",
       "      <td>Uruguay</td>\n",
       "    </tr>\n",
       "    <tr>\n",
       "      <th>Zinfandel 2016</th>\n",
       "      <td>4.7</td>\n",
       "      <td>Uruguay</td>\n",
       "    </tr>\n",
       "    <tr>\n",
       "      <th>Zinfandel 2019</th>\n",
       "      <td>4.3</td>\n",
       "      <td>Uruguay</td>\n",
       "    </tr>\n",
       "    <tr>\n",
       "      <th>d'Arry's Original Shiraz - Grenache 2017</th>\n",
       "      <td>4.7</td>\n",
       "      <td>Uruguay</td>\n",
       "    </tr>\n",
       "    <tr>\n",
       "      <th>de La Tierra 2018</th>\n",
       "      <td>4.6</td>\n",
       "      <td>Uruguay</td>\n",
       "    </tr>\n",
       "  </tbody>\n",
       "</table>\n",
       "</div>"
      ],
      "text/plain": [
       "                                                Rating        Country\n",
       "Name                                                                 \n",
       "Barolo Riserva 1982                                4.6          Italy\n",
       "Château d'Ampuis Côte-Rôtie 2005                   4.4         France\n",
       "Cos d'Estournel 1986                               4.4         France\n",
       "Dominus (Christian Moueix) 2003                    4.5  United States\n",
       "Martha's Vineyard Cabernet Sauvignon 2006          4.6  United States\n",
       "Saint-Julien (Grand Cru Classé) 1995               4.3         France\n",
       "Saint-Julien (Grand Cru Classé) 2004               4.4        Lebanon\n",
       "Toscana Le Cupole Rosso 2010                       4.6  United States\n",
       "Vigneto di Popoli Montepulciano d'Abruzzo 2011     4.6          Spain\n",
       "Viña Cubillo 2009                                  4.7  United States\n",
       "Viña Tondonia Reserva 2008                         4.3          Spain\n",
       "Viña Tondonia Reserva Blanco 2007                  4.4          Spain\n",
       "Vürsù Barolo Campè 2012                            4.5  United States\n",
       "Watervale Riesling 2020                            4.3          Spain\n",
       "Wild Sauvignon 2013                                4.5  United States\n",
       "Zinfandel 2014                                     4.6  United States\n",
       "Zinfandel 2015                                     4.8        Uruguay\n",
       "Zinfandel 2016                                     4.7        Uruguay\n",
       "Zinfandel 2019                                     4.3        Uruguay\n",
       "d'Arry's Original Shiraz - Grenache 2017           4.7        Uruguay\n",
       "de La Tierra 2018                                  4.6        Uruguay"
      ]
     },
     "execution_count": 58,
     "metadata": {},
     "output_type": "execute_result"
    }
   ],
   "source": [
    "\n",
    "\n",
    "newdf = max_rating.groupby('Name').max()\n",
    "newdf"
   ]
  },
  {
   "cell_type": "code",
   "execution_count": null,
   "metadata": {},
   "outputs": [],
   "source": []
  },
  {
   "cell_type": "code",
   "execution_count": 48,
   "metadata": {
    "scrolled": false
   },
   "outputs": [
    {
     "data": {
      "text/plain": [
       "<matplotlib.axes._subplots.AxesSubplot at 0x7f7f6fea1750>"
      ]
     },
     "execution_count": 48,
     "metadata": {},
     "output_type": "execute_result"
    },
    {
     "data": {
      "image/png": "[encoded data removed]",
      "text/plain": [
       "<Figure size 432x288 with 1 Axes>"
      ]
     },
     "metadata": {
      "needs_background": "light"
     },
     "output_type": "display_data"
    }
   ],
   "source": [
    "ax = newdf.plot.bar()\n",
    "ax.set_ylim([3.99,5])\n",
    "ax.set_ylabel('Rating')\n",
    "ax"
   ]
  },
  {
   "cell_type": "code",
   "execution_count": 49,
   "metadata": {},
   "outputs": [
    {
     "data": {
      "text/plain": [
       "<matplotlib.axes._subplots.AxesSubplot at 0x7f7f6fdd90d0>"
      ]
     },
     "execution_count": 49,
     "metadata": {},
     "output_type": "execute_result"
    },
    {
     "data": {
      "image/png": "[encoded data removed]",
      "text/plain": [
       "<Figure size 432x288 with 1 Axes>"
      ]
     },
     "metadata": {
      "needs_background": "light"
     },
     "output_type": "display_data"
    }
   ],
   "source": [
    "ax = max_rating.plot.bar()\n",
    "ax.set_ylim([3.99,5])\n",
    "ax.set_ylabel('Rating')\n",
    "ax"
   ]
  },
  {
   "cell_type": "code",
   "execution_count": 59,
   "metadata": {},
   "outputs": [
    {
     "data": {
      "text/plain": [
       "United States    7\n",
       "Uruguay          5\n",
       "Spain            4\n",
       "France           3\n",
       "Lebanon          1\n",
       "Italy            1\n",
       "Name: Country, dtype: int64"
      ]
     },
     "execution_count": 59,
     "metadata": {},
     "output_type": "execute_result"
    }
   ],
   "source": [
    "#Hvilket land har haft den bedste vin flest gange.\n",
    "no_of_occur_max = max_rating['Country'].value_counts()\n",
    "no_of_occur_max\n",
    "\n",
    "#Hvilket land har haft den dårligste vin flest gange.\n",
    "#no_of_occur_min = min_rating['Country'].value_counts()\n",
    "#no_of_occur_min\n"
   ]
  },
  {
   "cell_type": "code",
   "execution_count": null,
   "metadata": {},
   "outputs": [],
   "source": []
  }
 ],
 "metadata": {
  "kernelspec": {
   "display_name": "Python 3",
   "language": "python",
   "name": "python3"
  },
  "language_info": {
   "codemirror_mode": {
    "name": "ipython",
    "version": 3
   },
   "file_extension": ".py",
   "mimetype": "text/x-python",
   "name": "python",
   "nbconvert_exporter": "python",
   "pygments_lexer": "ipython3",
   "version": "3.7.6"
  }
 },
 "nbformat": 4,
 "nbformat_minor": 4
}
