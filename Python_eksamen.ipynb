{
 "cells": [
  {
   "cell_type": "code",
   "execution_count": 28,
   "metadata": {},
   "outputs": [],
   "source": [
    "from selenium import webdriver\n",
    "from selenium.webdriver.common.by import By\n",
    "from selenium.webdriver.support.ui import WebDriverWait\n",
    "from selenium.webdriver.support import expected_conditions as EC\n",
    "from selenium.webdriver.firefox.options import Options\n",
    "import numpy as np\n",
    "import matplotlib.pyplot as plt\n",
    "import pandas as pd\n",
    "import csv\n",
    "import re\n",
    "import time"
   ]
  },
  {
   "cell_type": "code",
   "execution_count": 2,
   "metadata": {},
   "outputs": [],
   "source": [
    "def scroll(driver, timeout, loops):\n",
    "    scroll_pause_time = timeout\n",
    "\n",
    "    last_height = driver.execute_script(\"return document.body.scrollHeight\")\n",
    "    num = 0\n",
    "    \n",
    "    while True and num < loops:\n",
    "        driver.execute_script(\"window.scrollTo(0, document.body.scrollHeight);\")\n",
    "        num = num + 1\n",
    "        time.sleep(scroll_pause_time)\n",
    "        new_height = driver.execute_script(\"return document.body.scrollHeight\")\n",
    "        if new_height == last_height:\n",
    "            break\n",
    "        last_height = new_height"
   ]
  },
  {
   "cell_type": "code",
   "execution_count": 3,
   "metadata": {},
   "outputs": [],
   "source": [
    "url = 'https://www.vivino.com/explore?e=eJwdijsOgCAQBW_zaqDfzo4jGGPWFQmJgAH83V5iM1PMxEIaMSRSiPyQ0UpBXhospMPi6NlvdHEJrvGOvFDhFpKvs-QzNWRaXRXcbZz6-st8itQcHw%3D%3D'\n",
    "product_names = []\n",
    "profile = webdriver.FirefoxProfile()\n",
    "profile.set_preference(\"general.useragent.override\", \"Mozilla/5.0 (X11; Ubuntu; Linux x86_64; rv:81.0) Gecko/20100101 Firefox/81.0\")\n",
    "options = Options()\n",
    "options.headless = True\n",
    "browser = webdriver.Firefox(options=options)\n",
    "options.add_argument(\"start-maximized\")\n",
    "options.add_argument('disable-infobars')\n",
    "\n",
    "def scrape():\n",
    "    browser.get(url)\n",
    "    loops = 1\n",
    "    timeout = 5\n",
    "    scroll(browser, timeout, loops)\n",
    "\n",
    "    titles = browser.find_elements_by_class_name('vintageTitle__wine--U7t9G')\n",
    "    prices = browser.find_elements_by_xpath(\"(//*[contains(@class, 'addToCartButton__price')])\")\n",
    "    ratings = browser.find_elements_by_class_name('vivinoRating__averageValue--3Navj')\n",
    "    countries = browser.find_elements_by_xpath('//a[contains(@href, \"/explore?country_code\")]')\n",
    "    \n",
    "    for title, price, rating, country in zip(titles, prices, ratings, countries):\n",
    "        with open('vinDataLarge.csv', 'a', encoding='UTF8') as f:\n",
    "            writer = csv.writer(f)\n",
    "            date = 9999\n",
    "            line = re.findall(r'\\d+', title.text)\n",
    "        \n",
    "            if(len(line)>0):\n",
    "                for l in line:\n",
    "                    if(len(str(l)) == 4):\n",
    "                        date = l\n",
    "                    \n",
    "            data = [title.text, date, price.text.split(\"\\n\", 1)[0], rating.text, country.text]\n",
    "            writer.writerow(data)\n",
    "                                "
   ]
  },
  {
   "cell_type": "code",
   "execution_count": 4,
   "metadata": {},
   "outputs": [],
   "source": [
    "#scrape()"
   ]
  },
  {
   "cell_type": "code",
   "execution_count": 51,
   "metadata": {},
   "outputs": [
    {
     "name": "stdout",
     "output_type": "stream",
     "text": [
      "3279\n"
     ]
    },
    {
     "data": {
      "text/html": [
       "<div>\n",
       "<style scoped>\n",
       "    .dataframe tbody tr th:only-of-type {\n",
       "        vertical-align: middle;\n",
       "    }\n",
       "\n",
       "    .dataframe tbody tr th {\n",
       "        vertical-align: top;\n",
       "    }\n",
       "\n",
       "    .dataframe thead th {\n",
       "        text-align: right;\n",
       "    }\n",
       "</style>\n",
       "<table border=\"1\" class=\"dataframe\">\n",
       "  <thead>\n",
       "    <tr style=\"text-align: right;\">\n",
       "      <th></th>\n",
       "      <th>Name</th>\n",
       "      <th>Year</th>\n",
       "      <th>Price</th>\n",
       "      <th>Rating</th>\n",
       "      <th>Link</th>\n",
       "      <th>Country</th>\n",
       "    </tr>\n",
       "  </thead>\n",
       "  <tbody>\n",
       "    <tr>\n",
       "      <th>0</th>\n",
       "      <td>Edizione Cinque Autoctoni</td>\n",
       "      <td>9999.0</td>\n",
       "      <td>149.00</td>\n",
       "      <td>4.3</td>\n",
       "      <td>57775.0</td>\n",
       "      <td>Italy</td>\n",
       "    </tr>\n",
       "    <tr>\n",
       "      <th>1</th>\n",
       "      <td>Malbec 2016</td>\n",
       "      <td>2016.0</td>\n",
       "      <td>69.95</td>\n",
       "      <td>3.6</td>\n",
       "      <td>16818.0</td>\n",
       "      <td>Argentina</td>\n",
       "    </tr>\n",
       "    <tr>\n",
       "      <th>2</th>\n",
       "      <td>Malbec 2018</td>\n",
       "      <td>2018.0</td>\n",
       "      <td>59.95</td>\n",
       "      <td>3.8</td>\n",
       "      <td>16779.0</td>\n",
       "      <td>Argentina</td>\n",
       "    </tr>\n",
       "    <tr>\n",
       "      <th>3</th>\n",
       "      <td>Malbec 2016</td>\n",
       "      <td>2016.0</td>\n",
       "      <td>129.95</td>\n",
       "      <td>4.1</td>\n",
       "      <td>16138.0</td>\n",
       "      <td>Argentina</td>\n",
       "    </tr>\n",
       "    <tr>\n",
       "      <th>4</th>\n",
       "      <td>Cabernet Sauvignon 2016</td>\n",
       "      <td>2016.0</td>\n",
       "      <td>1245.00</td>\n",
       "      <td>4.6</td>\n",
       "      <td>13945.0</td>\n",
       "      <td>United States</td>\n",
       "    </tr>\n",
       "  </tbody>\n",
       "</table>\n",
       "</div>"
      ],
      "text/plain": [
       "                        Name    Year    Price  Rating     Link        Country\n",
       "0  Edizione Cinque Autoctoni  9999.0   149.00     4.3  57775.0          Italy\n",
       "1                Malbec 2016  2016.0    69.95     3.6  16818.0      Argentina\n",
       "2                Malbec 2018  2018.0    59.95     3.8  16779.0      Argentina\n",
       "3                Malbec 2016  2016.0   129.95     4.1  16138.0      Argentina\n",
       "4    Cabernet Sauvignon 2016  2016.0  1245.00     4.6  13945.0  United States"
      ]
     },
     "execution_count": 51,
     "metadata": {},
     "output_type": "execute_result"
    }
   ],
   "source": [
    "df = pd.read_csv('vinData.csv')\n",
    "print(len(df))\n",
    "df.head()"
   ]
  },
  {
   "cell_type": "code",
   "execution_count": 54,
   "metadata": {},
   "outputs": [
    {
     "data": {
      "text/html": [
       "<div>\n",
       "<style scoped>\n",
       "    .dataframe tbody tr th:only-of-type {\n",
       "        vertical-align: middle;\n",
       "    }\n",
       "\n",
       "    .dataframe tbody tr th {\n",
       "        vertical-align: top;\n",
       "    }\n",
       "\n",
       "    .dataframe thead th {\n",
       "        text-align: right;\n",
       "    }\n",
       "</style>\n",
       "<table border=\"1\" class=\"dataframe\">\n",
       "  <thead>\n",
       "    <tr style=\"text-align: right;\">\n",
       "      <th></th>\n",
       "      <th>Name</th>\n",
       "      <th>Year</th>\n",
       "      <th>Price</th>\n",
       "      <th>Rating</th>\n",
       "      <th>Link</th>\n",
       "      <th>Country</th>\n",
       "    </tr>\n",
       "  </thead>\n",
       "  <tbody>\n",
       "    <tr>\n",
       "      <th>1</th>\n",
       "      <td>Malbec 2016</td>\n",
       "      <td>2016.0</td>\n",
       "      <td>69.95</td>\n",
       "      <td>3.6</td>\n",
       "      <td>16818.0</td>\n",
       "      <td>Argentina</td>\n",
       "    </tr>\n",
       "    <tr>\n",
       "      <th>2</th>\n",
       "      <td>Malbec 2018</td>\n",
       "      <td>2018.0</td>\n",
       "      <td>59.95</td>\n",
       "      <td>3.8</td>\n",
       "      <td>16779.0</td>\n",
       "      <td>Argentina</td>\n",
       "    </tr>\n",
       "    <tr>\n",
       "      <th>3</th>\n",
       "      <td>Malbec 2016</td>\n",
       "      <td>2016.0</td>\n",
       "      <td>129.95</td>\n",
       "      <td>4.1</td>\n",
       "      <td>16138.0</td>\n",
       "      <td>Argentina</td>\n",
       "    </tr>\n",
       "    <tr>\n",
       "      <th>4</th>\n",
       "      <td>Cabernet Sauvignon 2016</td>\n",
       "      <td>2016.0</td>\n",
       "      <td>1245.00</td>\n",
       "      <td>4.6</td>\n",
       "      <td>13945.0</td>\n",
       "      <td>United States</td>\n",
       "    </tr>\n",
       "    <tr>\n",
       "      <th>5</th>\n",
       "      <td>Malbec 2013</td>\n",
       "      <td>2013.0</td>\n",
       "      <td>99.95</td>\n",
       "      <td>3.9</td>\n",
       "      <td>13271.0</td>\n",
       "      <td>Argentina</td>\n",
       "    </tr>\n",
       "  </tbody>\n",
       "</table>\n",
       "</div>"
      ],
      "text/plain": [
       "                      Name    Year    Price  Rating     Link        Country\n",
       "1              Malbec 2016  2016.0    69.95     3.6  16818.0      Argentina\n",
       "2              Malbec 2018  2018.0    59.95     3.8  16779.0      Argentina\n",
       "3              Malbec 2016  2016.0   129.95     4.1  16138.0      Argentina\n",
       "4  Cabernet Sauvignon 2016  2016.0  1245.00     4.6  13945.0  United States\n",
       "5              Malbec 2013  2013.0    99.95     3.9  13271.0      Argentina"
      ]
     },
     "execution_count": 54,
     "metadata": {},
     "output_type": "execute_result"
    }
   ],
   "source": [
    "yearMask = df['Year'] < 2022\n",
    "dfClean = df[yearMask]\n",
    "dfClean.head()"
   ]
  },
  {
   "cell_type": "markdown",
   "metadata": {},
   "source": [
    "\n",
    "\n",
    "## SAMMENHÆNG I DATAENS COLUMNS\n",
    "Vi ville undersøge om der er en correlation mellem f.eks. år og pris, pris og rating, og så videre."
   ]
  },
  {
   "cell_type": "code",
   "execution_count": 31,
   "metadata": {},
   "outputs": [
    {
     "data": {
      "text/plain": [
       "<seaborn.axisgrid.PairGrid at 0x7fc2bc93ce10>"
      ]
     },
     "execution_count": 31,
     "metadata": {},
     "output_type": "execute_result"
    },
    {
     "data": {
      "image/png": "[encoded data removed]",
      "text/plain": [
       "<Figure size 720x720 with 20 Axes>"
      ]
     },
     "metadata": {
      "needs_background": "light"
     },
     "output_type": "display_data"
    }
   ],
   "source": [
    "import seaborn as sb\n",
    "\n",
    "sb.pairplot(dfClean)"
   ]
  },
  {
   "cell_type": "code",
   "execution_count": 32,
   "metadata": {},
   "outputs": [
    {
     "data": {
      "text/html": [
       "<div>\n",
       "<style scoped>\n",
       "    .dataframe tbody tr th:only-of-type {\n",
       "        vertical-align: middle;\n",
       "    }\n",
       "\n",
       "    .dataframe tbody tr th {\n",
       "        vertical-align: top;\n",
       "    }\n",
       "\n",
       "    .dataframe thead th {\n",
       "        text-align: right;\n",
       "    }\n",
       "</style>\n",
       "<table border=\"1\" class=\"dataframe\">\n",
       "  <thead>\n",
       "    <tr style=\"text-align: right;\">\n",
       "      <th></th>\n",
       "      <th>Year</th>\n",
       "      <th>Price</th>\n",
       "      <th>Rating</th>\n",
       "      <th>Link</th>\n",
       "    </tr>\n",
       "  </thead>\n",
       "  <tbody>\n",
       "    <tr>\n",
       "      <th>Year</th>\n",
       "      <td>1.000000</td>\n",
       "      <td>-0.446571</td>\n",
       "      <td>-0.231731</td>\n",
       "      <td>0.018987</td>\n",
       "    </tr>\n",
       "    <tr>\n",
       "      <th>Price</th>\n",
       "      <td>-0.446571</td>\n",
       "      <td>1.000000</td>\n",
       "      <td>0.647058</td>\n",
       "      <td>-0.001214</td>\n",
       "    </tr>\n",
       "    <tr>\n",
       "      <th>Rating</th>\n",
       "      <td>-0.231731</td>\n",
       "      <td>0.647058</td>\n",
       "      <td>1.000000</td>\n",
       "      <td>0.123031</td>\n",
       "    </tr>\n",
       "    <tr>\n",
       "      <th>Link</th>\n",
       "      <td>0.018987</td>\n",
       "      <td>-0.001214</td>\n",
       "      <td>0.123031</td>\n",
       "      <td>1.000000</td>\n",
       "    </tr>\n",
       "  </tbody>\n",
       "</table>\n",
       "</div>"
      ],
      "text/plain": [
       "            Year     Price    Rating      Link\n",
       "Year    1.000000 -0.446571 -0.231731  0.018987\n",
       "Price  -0.446571  1.000000  0.647058 -0.001214\n",
       "Rating -0.231731  0.647058  1.000000  0.123031\n",
       "Link    0.018987 -0.001214  0.123031  1.000000"
      ]
     },
     "execution_count": 32,
     "metadata": {},
     "output_type": "execute_result"
    }
   ],
   "source": [
    "dfClean.corr()"
   ]
  },
  {
   "cell_type": "code",
   "execution_count": 52,
   "metadata": {},
   "outputs": [],
   "source": [
    "#dfLarge = pd.read_csv('vinDataLarge.csv')\n",
    "#yearMask = dfLarge['Year'] < 2022\n",
    "#dfLargeClean = dfLarge[yearMask]\n",
    "\n",
    "#dfLargeClean.corr()"
   ]
  },
  {
   "cell_type": "code",
   "execution_count": 53,
   "metadata": {},
   "outputs": [
    {
     "name": "stdout",
     "output_type": "stream",
     "text": [
      "0.6470579043387337\n"
     ]
    },
    {
     "data": {
      "image/png": "[encoded data removed]",
      "text/plain": [
       "<Figure size 432x288 with 1 Axes>"
      ]
     },
     "metadata": {
      "needs_background": "light"
     },
     "output_type": "display_data"
    }
   ],
   "source": [
    "x = dfClean['Price']\n",
    "y = dfClean['Rating']\n",
    "\n",
    "plt.scatter(x, y, color='g')\n",
    "\n",
    "\n",
    "plt.plot(np.unique(x), np.poly1d(np.polyfit(x, y, 1))(np.unique(x)), color='red')\n",
    "correlation = x.corr(y)\n",
    "print(correlation)"
   ]
  },
  {
   "cell_type": "code",
   "execution_count": 35,
   "metadata": {},
   "outputs": [
    {
     "data": {
      "text/plain": [
       "[<matplotlib.lines.Line2D at 0x7fc2bc630dd0>]"
      ]
     },
     "execution_count": 35,
     "metadata": {},
     "output_type": "execute_result"
    },
    {
     "data": {
      "image/png": "[encoded data removed]",
      "text/plain": [
       "<Figure size 432x288 with 1 Axes>"
      ]
     },
     "metadata": {
      "needs_background": "light"
     },
     "output_type": "display_data"
    }
   ],
   "source": [
    "x = dfClean['Year']\n",
    "y = dfClean['Rating']\n",
    "plt.scatter(x, y, color='g')\n",
    "\n",
    "plt.plot(np.unique(x), np.poly1d(np.polyfit(x, y, 1))(np.unique(x)), color='red')"
   ]
  },
  {
   "cell_type": "markdown",
   "metadata": {},
   "source": [
    "Vi kan se at desto større databasen er, desto stærkere er correlationen mellem pris og rating. Ville der være årsag til at scrape endnu mere?"
   ]
  },
  {
   "cell_type": "code",
   "execution_count": 41,
   "metadata": {},
   "outputs": [
    {
     "name": "stdout",
     "output_type": "stream",
     "text": [
      "3258\n",
      "Correlation ved størrelse 300: -0.2630798403260409\n",
      "Correlation ved størrelse 500: -0.20867129158030726\n",
      "Correlation ved størrelse 700: -0.15322350900882656\n",
      "Correlation ved størrelse 900: -0.18200931898088302\n",
      "Correlation ved størrelse 1100: -0.18544724161276194\n",
      "Correlation ved størrelse 1300: -0.2027121313452922\n",
      "Correlation ved størrelse 1500: -0.22509326086905834\n",
      "Correlation ved størrelse 1700: -0.2405081417006017\n",
      "Correlation ved størrelse 1900: -0.24218432265887038\n",
      "Correlation ved størrelse 2100: -0.25813968943259\n",
      "Correlation ved størrelse 2300: -0.25658840675289607\n",
      "Correlation ved størrelse 2500: -0.2494570038926643\n",
      "Correlation ved størrelse 2700: -0.24356665707937042\n",
      "Correlation ved størrelse 2900: -0.23862145172212637\n",
      "Correlation ved størrelse 3100: -0.23441250434903466\n"
     ]
    }
   ],
   "source": [
    "print(len(dfClean))\n",
    "for size in range(300, 3200, 200):\n",
    "    print(\"Correlation ved størrelse \" + str(size) + \": \" + str(dfClean['Year'][0:size].corr(dfClean['Rating'][0:size])))"
   ]
  },
  {
   "cell_type": "markdown",
   "metadata": {},
   "source": [
    "Videre undersøgning af hvor stærk correlationen er:"
   ]
  },
  {
   "cell_type": "code",
   "execution_count": 55,
   "metadata": {},
   "outputs": [
    {
     "name": "stdout",
     "output_type": "stream",
     "text": [
      "0.4186839315672338\n",
      "[0.00057644]\n",
      "3.793550510426051\n",
      "[4.51409698]\n",
      "Vi kan forvente at en vin til prisen 1250kr. har en rating på:\n",
      "4.5143125\n"
     ]
    }
   ],
   "source": [
    "from sklearn.linear_model import LinearRegression\n",
    "x = (dfClean['Price'].values).reshape(-1,1)\n",
    "y = (dfClean['Rating'].values)\n",
    "reg = LinearRegression().fit(x, y)\n",
    "\n",
    "print(reg.score(x, y)); print(reg.coef_); print(reg.intercept_)\n",
    "\n",
    "print(reg.predict([[1250]]))\n",
    "print(\"Vi kan forvente at en vin til prisen 1250kr. har en rating på:\"); print(0.00056345 * 1250 + 3.81)\n"
   ]
  },
  {
   "cell_type": "code",
   "execution_count": 56,
   "metadata": {},
   "outputs": [
    {
     "name": "stdout",
     "output_type": "stream",
     "text": [
      "    Actual  Predicted\n",
      "60     3.6   3.885155\n",
      "61     4.1   3.966226\n",
      "62     4.0   3.862694\n",
      "63     3.8   3.897205\n",
      "64     3.8   3.846428\n",
      "65     4.1   3.835114\n",
      "66     3.8   3.867899\n",
      "67     3.9   3.911613\n",
      "68     4.0   3.936921\n",
      "69     3.9   3.867899\n",
      "70     4.1   3.868446\n",
      "71     4.1   3.965680\n",
      "72     4.2   3.879949\n",
      "73     4.7   4.138779\n",
      "74     4.0   3.951875\n"
     ]
    },
    {
     "data": {
      "text/plain": [
       "0.4287458895854984"
      ]
     },
     "execution_count": 56,
     "metadata": {},
     "output_type": "execute_result"
    }
   ],
   "source": [
    "from sklearn.model_selection import train_test_split\n",
    "from sklearn.metrics import r2_score\n",
    "X_train, X_test, y_train, y_test = train_test_split(x, y, test_size=0.2, random_state=0)\n",
    "\n",
    "reg = LinearRegression()\n",
    "reg.fit(X_train, y_train)\n",
    "\n",
    "y_pred = reg.predict(X_test)\n",
    "\n",
    "dfTrain = pd.DataFrame({'Actual': y_test, 'Predicted': y_pred})\n",
    "dfTrain\n",
    "\n",
    "print(dfTrain[60:75])\n",
    "r2_score(dfTrain['Actual'], dfTrain['Predicted'])"
   ]
  },
  {
   "cell_type": "code",
   "execution_count": 166,
   "metadata": {},
   "outputs": [
    {
     "data": {
      "image/png": "[encoded data removed]",
      "text/plain": [
       "<Figure size 720x720 with 1 Axes>"
      ]
     },
     "metadata": {},
     "output_type": "display_data"
    },
    {
     "name": "stdout",
     "output_type": "stream",
     "text": [
      "Float64Index([2.8, 3.0, 3.1, 3.2, 3.3, 3.4, 3.5, 3.6, 3.7, 3.8, 3.9, 4.0, 4.1,\n",
      "              4.2, 4.3, 4.4, 4.5, 4.6, 4.7, 4.8],\n",
      "             dtype='float64')\n",
      "[0, 1, 2, 3, 4, 5, 6, 7, 8, 9, 10, 11, 12, 13, 14, 15, 16, 17, 18, 19]\n"
     ]
    }
   ],
   "source": [
    "%matplotlib inline\n",
    "\n",
    "dfratings = dfClean.Rating.unique()\n",
    "ratings = dfratings.sort()\n",
    "\n",
    "plotdata = pd.DataFrame(0, index=dfratings, columns=['Count'])\n",
    "\n",
    "loop = 0\n",
    "for r in dfratings: \n",
    "    for row in dfClean['Rating']:\n",
    "        if(row == r):\n",
    "            plotdata['Count'].iloc[loop] = plotdata['Count'].iloc[loop] + 1\n",
    "    loop += 1\n",
    "   \n",
    "plt.style.use('ggplot')\n",
    "plt.figure(figsize=(10, 10))\n",
    "x = plotdata.index\n",
    "y = plotdata['Count']\n",
    "x_pos = [i for i, _ in enumerate(x)]\n",
    "plt.bar(x_pos, y, color='green')\n",
    "plt.xlabel(\"Ratings\")\n",
    "plt.ylabel(\"Number of ratings\")\n",
    "plt.title(\"Overview of number\")\n",
    "\n",
    "plt.xticks(x_pos, x)\n",
    "\n",
    "plt.show()\n",
    "\n",
    "print(x)\n",
    "print([i for i, _ in enumerate(x)])"
   ]
  },
  {
   "cell_type": "markdown",
   "metadata": {},
   "source": [
    "## Hvilken type vin var mest populær det givne år?"
   ]
  },
  {
   "cell_type": "code",
   "execution_count": 48,
   "metadata": {},
   "outputs": [
    {
     "data": {
      "text/html": [
       "<div>\n",
       "<style scoped>\n",
       "    .dataframe tbody tr th:only-of-type {\n",
       "        vertical-align: middle;\n",
       "    }\n",
       "\n",
       "    .dataframe tbody tr th {\n",
       "        vertical-align: top;\n",
       "    }\n",
       "\n",
       "    .dataframe thead th {\n",
       "        text-align: right;\n",
       "    }\n",
       "</style>\n",
       "<table border=\"1\" class=\"dataframe\">\n",
       "  <thead>\n",
       "    <tr style=\"text-align: right;\">\n",
       "      <th></th>\n",
       "      <th>Name</th>\n",
       "      <th>Year</th>\n",
       "      <th>Price</th>\n",
       "      <th>Rating</th>\n",
       "      <th>Link</th>\n",
       "      <th>Country</th>\n",
       "    </tr>\n",
       "  </thead>\n",
       "  <tbody>\n",
       "    <tr>\n",
       "      <th>1</th>\n",
       "      <td>Malbec 2016</td>\n",
       "      <td>2016.0</td>\n",
       "      <td>69.95</td>\n",
       "      <td>3.6</td>\n",
       "      <td>16818.0</td>\n",
       "      <td>Argentina</td>\n",
       "    </tr>\n",
       "    <tr>\n",
       "      <th>2</th>\n",
       "      <td>Malbec 2018</td>\n",
       "      <td>2018.0</td>\n",
       "      <td>59.95</td>\n",
       "      <td>3.8</td>\n",
       "      <td>16779.0</td>\n",
       "      <td>Argentina</td>\n",
       "    </tr>\n",
       "    <tr>\n",
       "      <th>3</th>\n",
       "      <td>Malbec 2016</td>\n",
       "      <td>2016.0</td>\n",
       "      <td>129.95</td>\n",
       "      <td>4.1</td>\n",
       "      <td>16138.0</td>\n",
       "      <td>Argentina</td>\n",
       "    </tr>\n",
       "    <tr>\n",
       "      <th>4</th>\n",
       "      <td>Cabernet Sauvignon 2016</td>\n",
       "      <td>2016.0</td>\n",
       "      <td>1245.00</td>\n",
       "      <td>4.6</td>\n",
       "      <td>13945.0</td>\n",
       "      <td>United States</td>\n",
       "    </tr>\n",
       "    <tr>\n",
       "      <th>5</th>\n",
       "      <td>Malbec 2013</td>\n",
       "      <td>2013.0</td>\n",
       "      <td>99.95</td>\n",
       "      <td>3.9</td>\n",
       "      <td>13271.0</td>\n",
       "      <td>Argentina</td>\n",
       "    </tr>\n",
       "  </tbody>\n",
       "</table>\n",
       "</div>"
      ],
      "text/plain": [
       "                      Name    Year    Price  Rating     Link        Country\n",
       "1              Malbec 2016  2016.0    69.95     3.6  16818.0      Argentina\n",
       "2              Malbec 2018  2018.0    59.95     3.8  16779.0      Argentina\n",
       "3              Malbec 2016  2016.0   129.95     4.1  16138.0      Argentina\n",
       "4  Cabernet Sauvignon 2016  2016.0  1245.00     4.6  13945.0  United States\n",
       "5              Malbec 2013  2013.0    99.95     3.9  13271.0      Argentina"
      ]
     },
     "execution_count": 48,
     "metadata": {},
     "output_type": "execute_result"
    }
   ],
   "source": [
    "dfClean.head()"
   ]
  },
  {
   "cell_type": "code",
   "execution_count": 61,
   "metadata": {},
   "outputs": [
    {
     "data": {
      "text/html": [
       "<div>\n",
       "<style scoped>\n",
       "    .dataframe tbody tr th:only-of-type {\n",
       "        vertical-align: middle;\n",
       "    }\n",
       "\n",
       "    .dataframe tbody tr th {\n",
       "        vertical-align: top;\n",
       "    }\n",
       "\n",
       "    .dataframe thead th {\n",
       "        text-align: right;\n",
       "    }\n",
       "</style>\n",
       "<table border=\"1\" class=\"dataframe\">\n",
       "  <thead>\n",
       "    <tr style=\"text-align: right;\">\n",
       "      <th></th>\n",
       "      <th>Name</th>\n",
       "      <th>Year</th>\n",
       "      <th>Rating</th>\n",
       "      <th>Country</th>\n",
       "    </tr>\n",
       "  </thead>\n",
       "  <tbody>\n",
       "    <tr>\n",
       "      <th>1</th>\n",
       "      <td>Malbec 2016</td>\n",
       "      <td>2016.0</td>\n",
       "      <td>3.6</td>\n",
       "      <td>Argentina</td>\n",
       "    </tr>\n",
       "    <tr>\n",
       "      <th>2</th>\n",
       "      <td>Malbec 2018</td>\n",
       "      <td>2018.0</td>\n",
       "      <td>3.8</td>\n",
       "      <td>Argentina</td>\n",
       "    </tr>\n",
       "    <tr>\n",
       "      <th>3</th>\n",
       "      <td>Malbec 2016</td>\n",
       "      <td>2016.0</td>\n",
       "      <td>4.1</td>\n",
       "      <td>Argentina</td>\n",
       "    </tr>\n",
       "    <tr>\n",
       "      <th>4</th>\n",
       "      <td>Cabernet Sauvignon 2016</td>\n",
       "      <td>2016.0</td>\n",
       "      <td>4.6</td>\n",
       "      <td>United States</td>\n",
       "    </tr>\n",
       "    <tr>\n",
       "      <th>5</th>\n",
       "      <td>Malbec 2013</td>\n",
       "      <td>2013.0</td>\n",
       "      <td>3.9</td>\n",
       "      <td>Argentina</td>\n",
       "    </tr>\n",
       "  </tbody>\n",
       "</table>\n",
       "</div>"
      ],
      "text/plain": [
       "                      Name    Year  Rating        Country\n",
       "1              Malbec 2016  2016.0     3.6      Argentina\n",
       "2              Malbec 2018  2018.0     3.8      Argentina\n",
       "3              Malbec 2016  2016.0     4.1      Argentina\n",
       "4  Cabernet Sauvignon 2016  2016.0     4.6  United States\n",
       "5              Malbec 2013  2013.0     3.9      Argentina"
      ]
     },
     "execution_count": 61,
     "metadata": {},
     "output_type": "execute_result"
    }
   ],
   "source": [
    "data_chart = dfClean.drop(columns=['Price', 'Link'])\n",
    "data_chart.head()"
   ]
  },
  {
   "cell_type": "code",
   "execution_count": 62,
   "metadata": {
    "scrolled": true
   },
   "outputs": [
    {
     "data": {
      "text/html": [
       "<div>\n",
       "<style scoped>\n",
       "    .dataframe tbody tr th:only-of-type {\n",
       "        vertical-align: middle;\n",
       "    }\n",
       "\n",
       "    .dataframe tbody tr th {\n",
       "        vertical-align: top;\n",
       "    }\n",
       "\n",
       "    .dataframe thead th {\n",
       "        text-align: right;\n",
       "    }\n",
       "</style>\n",
       "<table border=\"1\" class=\"dataframe\">\n",
       "  <thead>\n",
       "    <tr style=\"text-align: right;\">\n",
       "      <th></th>\n",
       "      <th>Name</th>\n",
       "      <th>Rating</th>\n",
       "      <th>Country</th>\n",
       "    </tr>\n",
       "    <tr>\n",
       "      <th>Year</th>\n",
       "      <th></th>\n",
       "      <th></th>\n",
       "      <th></th>\n",
       "    </tr>\n",
       "  </thead>\n",
       "  <tbody>\n",
       "    <tr>\n",
       "      <th>1982.0</th>\n",
       "      <td>Barolo Riserva 1982</td>\n",
       "      <td>4.6</td>\n",
       "      <td>Italy</td>\n",
       "    </tr>\n",
       "    <tr>\n",
       "      <th>1986.0</th>\n",
       "      <td>Cos d'Estournel 1986</td>\n",
       "      <td>4.4</td>\n",
       "      <td>France</td>\n",
       "    </tr>\n",
       "    <tr>\n",
       "      <th>1995.0</th>\n",
       "      <td>Saint-Julien (Grand Cru Classé) 1995</td>\n",
       "      <td>4.3</td>\n",
       "      <td>France</td>\n",
       "    </tr>\n",
       "    <tr>\n",
       "      <th>1999.0</th>\n",
       "      <td>Lazzarito Barolo 1999</td>\n",
       "      <td>4.4</td>\n",
       "      <td>Italy</td>\n",
       "    </tr>\n",
       "    <tr>\n",
       "      <th>2003.0</th>\n",
       "      <td>Saint-Julien (Grand Cru Classé) 2003</td>\n",
       "      <td>4.5</td>\n",
       "      <td>United States</td>\n",
       "    </tr>\n",
       "    <tr>\n",
       "      <th>2004.0</th>\n",
       "      <td>Saint-Julien (Grand Cru Classé) 2004</td>\n",
       "      <td>4.6</td>\n",
       "      <td>Lebanon</td>\n",
       "    </tr>\n",
       "    <tr>\n",
       "      <th>2005.0</th>\n",
       "      <td>Viña Bosconia Reserva 2005</td>\n",
       "      <td>4.4</td>\n",
       "      <td>Spain</td>\n",
       "    </tr>\n",
       "    <tr>\n",
       "      <th>2006.0</th>\n",
       "      <td>Viña Bosconia Reserva 2006</td>\n",
       "      <td>4.6</td>\n",
       "      <td>United States</td>\n",
       "    </tr>\n",
       "    <tr>\n",
       "      <th>2007.0</th>\n",
       "      <td>Viña Tondonia Reserva Blanco 2007</td>\n",
       "      <td>4.4</td>\n",
       "      <td>Spain</td>\n",
       "    </tr>\n",
       "    <tr>\n",
       "      <th>2008.0</th>\n",
       "      <td>Viña Tondonia Reserva 2008</td>\n",
       "      <td>4.6</td>\n",
       "      <td>Spain</td>\n",
       "    </tr>\n",
       "    <tr>\n",
       "      <th>2009.0</th>\n",
       "      <td>Viña Cubillo 2009</td>\n",
       "      <td>4.7</td>\n",
       "      <td>United States</td>\n",
       "    </tr>\n",
       "    <tr>\n",
       "      <th>2010.0</th>\n",
       "      <td>Vinum Vita Est Barolo 2010</td>\n",
       "      <td>4.6</td>\n",
       "      <td>United States</td>\n",
       "    </tr>\n",
       "    <tr>\n",
       "      <th>2011.0</th>\n",
       "      <td>Volnay Champans 1er Cru 2011</td>\n",
       "      <td>4.6</td>\n",
       "      <td>Spain</td>\n",
       "    </tr>\n",
       "    <tr>\n",
       "      <th>2012.0</th>\n",
       "      <td>Vürsù Barolo Campè 2012</td>\n",
       "      <td>4.5</td>\n",
       "      <td>United States</td>\n",
       "    </tr>\n",
       "    <tr>\n",
       "      <th>2013.0</th>\n",
       "      <td>Wild Sauvignon 2013</td>\n",
       "      <td>4.5</td>\n",
       "      <td>United States</td>\n",
       "    </tr>\n",
       "    <tr>\n",
       "      <th>2014.0</th>\n",
       "      <td>Zinfandel 2014</td>\n",
       "      <td>4.6</td>\n",
       "      <td>United States</td>\n",
       "    </tr>\n",
       "    <tr>\n",
       "      <th>2015.0</th>\n",
       "      <td>Zinfandel 2015</td>\n",
       "      <td>4.8</td>\n",
       "      <td>Uruguay</td>\n",
       "    </tr>\n",
       "    <tr>\n",
       "      <th>2016.0</th>\n",
       "      <td>Zinfandel 2016</td>\n",
       "      <td>4.7</td>\n",
       "      <td>Uruguay</td>\n",
       "    </tr>\n",
       "    <tr>\n",
       "      <th>2017.0</th>\n",
       "      <td>d'Arry's Original Shiraz - Grenache 2017</td>\n",
       "      <td>4.7</td>\n",
       "      <td>Uruguay</td>\n",
       "    </tr>\n",
       "    <tr>\n",
       "      <th>2018.0</th>\n",
       "      <td>de La Tierra 2018</td>\n",
       "      <td>4.6</td>\n",
       "      <td>Uruguay</td>\n",
       "    </tr>\n",
       "    <tr>\n",
       "      <th>2019.0</th>\n",
       "      <td>Zinfandel 2019</td>\n",
       "      <td>4.3</td>\n",
       "      <td>Uruguay</td>\n",
       "    </tr>\n",
       "    <tr>\n",
       "      <th>2020.0</th>\n",
       "      <td>Watervale Riesling 2020</td>\n",
       "      <td>4.3</td>\n",
       "      <td>Spain</td>\n",
       "    </tr>\n",
       "  </tbody>\n",
       "</table>\n",
       "</div>"
      ],
      "text/plain": [
       "                                            Name  Rating        Country\n",
       "Year                                                                   \n",
       "1982.0                       Barolo Riserva 1982     4.6          Italy\n",
       "1986.0                      Cos d'Estournel 1986     4.4         France\n",
       "1995.0      Saint-Julien (Grand Cru Classé) 1995     4.3         France\n",
       "1999.0                     Lazzarito Barolo 1999     4.4          Italy\n",
       "2003.0      Saint-Julien (Grand Cru Classé) 2003     4.5  United States\n",
       "2004.0      Saint-Julien (Grand Cru Classé) 2004     4.6        Lebanon\n",
       "2005.0                Viña Bosconia Reserva 2005     4.4          Spain\n",
       "2006.0                Viña Bosconia Reserva 2006     4.6  United States\n",
       "2007.0         Viña Tondonia Reserva Blanco 2007     4.4          Spain\n",
       "2008.0                Viña Tondonia Reserva 2008     4.6          Spain\n",
       "2009.0                         Viña Cubillo 2009     4.7  United States\n",
       "2010.0                Vinum Vita Est Barolo 2010     4.6  United States\n",
       "2011.0              Volnay Champans 1er Cru 2011     4.6          Spain\n",
       "2012.0                   Vürsù Barolo Campè 2012     4.5  United States\n",
       "2013.0                       Wild Sauvignon 2013     4.5  United States\n",
       "2014.0                            Zinfandel 2014     4.6  United States\n",
       "2015.0                            Zinfandel 2015     4.8        Uruguay\n",
       "2016.0                            Zinfandel 2016     4.7        Uruguay\n",
       "2017.0  d'Arry's Original Shiraz - Grenache 2017     4.7        Uruguay\n",
       "2018.0                         de La Tierra 2018     4.6        Uruguay\n",
       "2019.0                            Zinfandel 2019     4.3        Uruguay\n",
       "2020.0                   Watervale Riesling 2020     4.3          Spain"
      ]
     },
     "execution_count": 62,
     "metadata": {},
     "output_type": "execute_result"
    }
   ],
   "source": [
    "#Viser hvilken vin der var bedst for hvert år, samt hvilket land den kom fra. \n",
    "max_rating = data_chart.groupby('Year').max()\n",
    "max = max_rating['Rating'].max()\n",
    "min_rating = data_chart.groupby('Year').min()\n",
    "#min_rating\n",
    "max_rating\n",
    "#max\n"
   ]
  },
  {
   "cell_type": "code",
   "execution_count": 64,
   "metadata": {
    "scrolled": false
   },
   "outputs": [
    {
     "data": {
      "text/html": [
       "<div>\n",
       "<style scoped>\n",
       "    .dataframe tbody tr th:only-of-type {\n",
       "        vertical-align: middle;\n",
       "    }\n",
       "\n",
       "    .dataframe tbody tr th {\n",
       "        vertical-align: top;\n",
       "    }\n",
       "\n",
       "    .dataframe thead th {\n",
       "        text-align: right;\n",
       "    }\n",
       "</style>\n",
       "<table border=\"1\" class=\"dataframe\">\n",
       "  <thead>\n",
       "    <tr style=\"text-align: right;\">\n",
       "      <th></th>\n",
       "      <th>Rating</th>\n",
       "      <th>Country</th>\n",
       "    </tr>\n",
       "    <tr>\n",
       "      <th>Name</th>\n",
       "      <th></th>\n",
       "      <th></th>\n",
       "    </tr>\n",
       "  </thead>\n",
       "  <tbody>\n",
       "    <tr>\n",
       "      <th>Barolo Riserva 1982</th>\n",
       "      <td>4.6</td>\n",
       "      <td>Italy</td>\n",
       "    </tr>\n",
       "    <tr>\n",
       "      <th>Cos d'Estournel 1986</th>\n",
       "      <td>4.4</td>\n",
       "      <td>France</td>\n",
       "    </tr>\n",
       "    <tr>\n",
       "      <th>Lazzarito Barolo 1999</th>\n",
       "      <td>4.4</td>\n",
       "      <td>Italy</td>\n",
       "    </tr>\n",
       "    <tr>\n",
       "      <th>Saint-Julien (Grand Cru Classé) 1995</th>\n",
       "      <td>4.3</td>\n",
       "      <td>France</td>\n",
       "    </tr>\n",
       "    <tr>\n",
       "      <th>Saint-Julien (Grand Cru Classé) 2003</th>\n",
       "      <td>4.5</td>\n",
       "      <td>United States</td>\n",
       "    </tr>\n",
       "    <tr>\n",
       "      <th>Saint-Julien (Grand Cru Classé) 2004</th>\n",
       "      <td>4.6</td>\n",
       "      <td>Lebanon</td>\n",
       "    </tr>\n",
       "    <tr>\n",
       "      <th>Vinum Vita Est Barolo 2010</th>\n",
       "      <td>4.6</td>\n",
       "      <td>United States</td>\n",
       "    </tr>\n",
       "    <tr>\n",
       "      <th>Viña Bosconia Reserva 2005</th>\n",
       "      <td>4.4</td>\n",
       "      <td>Spain</td>\n",
       "    </tr>\n",
       "    <tr>\n",
       "      <th>Viña Bosconia Reserva 2006</th>\n",
       "      <td>4.6</td>\n",
       "      <td>United States</td>\n",
       "    </tr>\n",
       "    <tr>\n",
       "      <th>Viña Cubillo 2009</th>\n",
       "      <td>4.7</td>\n",
       "      <td>United States</td>\n",
       "    </tr>\n",
       "    <tr>\n",
       "      <th>Viña Tondonia Reserva 2008</th>\n",
       "      <td>4.6</td>\n",
       "      <td>Spain</td>\n",
       "    </tr>\n",
       "    <tr>\n",
       "      <th>Viña Tondonia Reserva Blanco 2007</th>\n",
       "      <td>4.4</td>\n",
       "      <td>Spain</td>\n",
       "    </tr>\n",
       "    <tr>\n",
       "      <th>Volnay Champans 1er Cru 2011</th>\n",
       "      <td>4.6</td>\n",
       "      <td>Spain</td>\n",
       "    </tr>\n",
       "    <tr>\n",
       "      <th>Vürsù Barolo Campè 2012</th>\n",
       "      <td>4.5</td>\n",
       "      <td>United States</td>\n",
       "    </tr>\n",
       "    <tr>\n",
       "      <th>Watervale Riesling 2020</th>\n",
       "      <td>4.3</td>\n",
       "      <td>Spain</td>\n",
       "    </tr>\n",
       "    <tr>\n",
       "      <th>Wild Sauvignon 2013</th>\n",
       "      <td>4.5</td>\n",
       "      <td>United States</td>\n",
       "    </tr>\n",
       "    <tr>\n",
       "      <th>Zinfandel 2014</th>\n",
       "      <td>4.6</td>\n",
       "      <td>United States</td>\n",
       "    </tr>\n",
       "    <tr>\n",
       "      <th>Zinfandel 2015</th>\n",
       "      <td>4.8</td>\n",
       "      <td>Uruguay</td>\n",
       "    </tr>\n",
       "    <tr>\n",
       "      <th>Zinfandel 2016</th>\n",
       "      <td>4.7</td>\n",
       "      <td>Uruguay</td>\n",
       "    </tr>\n",
       "    <tr>\n",
       "      <th>Zinfandel 2019</th>\n",
       "      <td>4.3</td>\n",
       "      <td>Uruguay</td>\n",
       "    </tr>\n",
       "    <tr>\n",
       "      <th>d'Arry's Original Shiraz - Grenache 2017</th>\n",
       "      <td>4.7</td>\n",
       "      <td>Uruguay</td>\n",
       "    </tr>\n",
       "    <tr>\n",
       "      <th>de La Tierra 2018</th>\n",
       "      <td>4.6</td>\n",
       "      <td>Uruguay</td>\n",
       "    </tr>\n",
       "  </tbody>\n",
       "</table>\n",
       "</div>"
      ],
      "text/plain": [
       "                                          Rating        Country\n",
       "Name                                                           \n",
       "Barolo Riserva 1982                          4.6          Italy\n",
       "Cos d'Estournel 1986                         4.4         France\n",
       "Lazzarito Barolo 1999                        4.4          Italy\n",
       "Saint-Julien (Grand Cru Classé) 1995         4.3         France\n",
       "Saint-Julien (Grand Cru Classé) 2003         4.5  United States\n",
       "Saint-Julien (Grand Cru Classé) 2004         4.6        Lebanon\n",
       "Vinum Vita Est Barolo 2010                   4.6  United States\n",
       "Viña Bosconia Reserva 2005                   4.4          Spain\n",
       "Viña Bosconia Reserva 2006                   4.6  United States\n",
       "Viña Cubillo 2009                            4.7  United States\n",
       "Viña Tondonia Reserva 2008                   4.6          Spain\n",
       "Viña Tondonia Reserva Blanco 2007            4.4          Spain\n",
       "Volnay Champans 1er Cru 2011                 4.6          Spain\n",
       "Vürsù Barolo Campè 2012                      4.5  United States\n",
       "Watervale Riesling 2020                      4.3          Spain\n",
       "Wild Sauvignon 2013                          4.5  United States\n",
       "Zinfandel 2014                               4.6  United States\n",
       "Zinfandel 2015                               4.8        Uruguay\n",
       "Zinfandel 2016                               4.7        Uruguay\n",
       "Zinfandel 2019                               4.3        Uruguay\n",
       "d'Arry's Original Shiraz - Grenache 2017     4.7        Uruguay\n",
       "de La Tierra 2018                            4.6        Uruguay"
      ]
     },
     "execution_count": 64,
     "metadata": {},
     "output_type": "execute_result"
    }
   ],
   "source": [
    "newdf = max_rating.groupby('Name').max()\n",
    "newdf"
   ]
  },
  {
   "cell_type": "code",
   "execution_count": null,
   "metadata": {},
   "outputs": [],
   "source": []
  },
  {
   "cell_type": "code",
   "execution_count": 65,
   "metadata": {
    "scrolled": false
   },
   "outputs": [
    {
     "data": {
      "text/plain": [
       "<matplotlib.axes._subplots.AxesSubplot at 0x7fc2b78ea1d0>"
      ]
     },
     "execution_count": 65,
     "metadata": {},
     "output_type": "execute_result"
    },
    {
     "data": {
      "image/png": "[encoded data removed]",
      "text/plain": [
       "<Figure size 432x288 with 1 Axes>"
      ]
     },
     "metadata": {
      "needs_background": "light"
     },
     "output_type": "display_data"
    }
   ],
   "source": [
    "ax = newdf.plot.bar()\n",
    "ax.set_ylim([3.99,5])\n",
    "ax.set_ylabel('Rating')\n",
    "ax"
   ]
  },
  {
   "cell_type": "code",
   "execution_count": 66,
   "metadata": {},
   "outputs": [
    {
     "data": {
      "text/plain": [
       "<matplotlib.axes._subplots.AxesSubplot at 0x7fc2b7848fd0>"
      ]
     },
     "execution_count": 66,
     "metadata": {},
     "output_type": "execute_result"
    },
    {
     "data": {
      "image/png": "[encoded data removed]",
      "text/plain": [
       "<Figure size 432x288 with 1 Axes>"
      ]
     },
     "metadata": {
      "needs_background": "light"
     },
     "output_type": "display_data"
    }
   ],
   "source": [
    "ax = max_rating.plot.bar()\n",
    "ax.set_ylim([3.99,5])\n",
    "ax.set_ylabel('Rating')\n",
    "ax"
   ]
  },
  {
   "cell_type": "code",
   "execution_count": 68,
   "metadata": {},
   "outputs": [
    {
     "data": {
      "text/plain": [
       "United States    7\n",
       "Uruguay          5\n",
       "Spain            5\n",
       "France           2\n",
       "Italy            2\n",
       "Lebanon          1\n",
       "Name: Country, dtype: int64"
      ]
     },
     "execution_count": 68,
     "metadata": {},
     "output_type": "execute_result"
    }
   ],
   "source": [
    "#Hvilket land har haft den bedste vin flest gange.\n",
    "no_of_occur_max = max_rating['Country'].value_counts()\n",
    "no_of_occur_max\n",
    "\n",
    "#Hvilket land har haft den dårligste vin flest gange.\n",
    "#no_of_occur_min = min_rating['Country'].value_counts()\n",
    "#no_of_occur_min\n"
   ]
  },
  {
   "cell_type": "code",
   "execution_count": null,
   "metadata": {},
   "outputs": [],
   "source": []
  }
 ],
 "metadata": {
  "kernelspec": {
   "display_name": "Python 3",
   "language": "python",
   "name": "python3"
  },
  "language_info": {
   "codemirror_mode": {
    "name": "ipython",
    "version": 3
   },
   "file_extension": ".py",
   "mimetype": "text/x-python",
   "name": "python",
   "nbconvert_exporter": "python",
   "pygments_lexer": "ipython3",
   "version": "3.7.6"
  }
 },
 "nbformat": 4,
 "nbformat_minor": 4
}
