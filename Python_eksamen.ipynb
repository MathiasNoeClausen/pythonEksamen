{
 "cells": [
  {
   "cell_type": "code",
   "execution_count": 1,
   "metadata": {},
   "outputs": [],
   "source": [
    "from selenium import webdriver\n",
    "from selenium.webdriver.common.by import By\n",
    "from selenium.webdriver.support.ui import WebDriverWait\n",
    "from selenium.webdriver.support import expected_conditions as EC\n",
    "from selenium.webdriver.firefox.options import Options\n",
    "import numpy as np\n",
    "import matplotlib.pyplot as plt\n",
    "import pandas as pd\n",
    "import csv\n",
    "import re\n",
    "import time"
   ]
  },
  {
   "cell_type": "code",
   "execution_count": 2,
   "metadata": {},
   "outputs": [],
   "source": [
    "def scroll(driver, timeout, loops):\n",
    "    scroll_pause_time = timeout\n",
    "\n",
    "    last_height = driver.execute_script(\"return document.body.scrollHeight\")\n",
    "    num = 0\n",
    "    \n",
    "    while True and num < loops:\n",
    "        driver.execute_script(\"window.scrollTo(0, document.body.scrollHeight);\")\n",
    "        num = num + 1\n",
    "        time.sleep(scroll_pause_time)\n",
    "        new_height = driver.execute_script(\"return document.body.scrollHeight\")\n",
    "        if new_height == last_height:\n",
    "            break\n",
    "        last_height = new_height"
   ]
  },
  {
   "cell_type": "code",
<<<<<<< HEAD
   "execution_count": 3,
=======
   "execution_count": 5,
>>>>>>> dda269c01fa4813ceb73da0d2a9a441106826a3b
   "metadata": {},
   "outputs": [],
   "source": [
    "#url = 'https://www.vivino.com/explore?e=eJwdijsOgCAQBW_zaqDfzo4jGGPWFQmJgAH83V5iM1PMxEIaMSRSiPyQ0UpBXhospMPi6NlvdHEJrvGOvFDhFpKvs-QzNWRaXRXcbZz6-st8itQcHw%3D%3D'\n",
    "url = 'https://www.vivino.com/explore?e=eJzLLbI1VMvNzLM1UMtNrLA1MjUwUEuutHXxVksGEt5qBUDp9DTbssSizNSSxBy1_CTbosSSzLz04vjk_NK8ErV825TU4mS18pLoWKBSMGUEAIvoHCM%3D'\n",
    "product_names = []\n",
    "profile = webdriver.FirefoxProfile()\n",
    "profile.set_preference(\"general.useragent.override\", \"Mozilla/5.0 (X11; Ubuntu; Linux x86_64; rv:81.0) Gecko/20100101 Firefox/81.0\")\n",
    "options = Options()\n",
    "options.headless = True\n",
    "browser = webdriver.Firefox(options=options)\n",
    "options.add_argument(\"start-maximized\")\n",
    "options.add_argument('disable-infobars')\n",
    "\n",
    "def scrape():\n",
    "    browser.get(url)\n",
    "    loops = 1\n",
    "    timeout = 5\n",
    "    scroll(browser, timeout, loops)\n",
    "    print(\"scraped\")\n",
    "    titles = browser.find_elements_by_class_name('vintageTitle__wine--U7t9G')\n",
    "    prices = browser.find_elements_by_xpath(\"(//*[contains(@class, 'addToCartButton__price')])\")\n",
    "    ratings = browser.find_elements_by_class_name('vivinoRating__averageValue--3Navj')\n",
    "    countries = browser.find_elements_by_xpath('//a[contains(@href, \"/explore?country_code\")]')\n",
    "    \n",
    "    for title, price, rating, country in zip(titles, prices, ratings, countries):\n",
    "        with open('vinDataAlt.csv', 'w', encoding='UTF8') as f:\n",
    "            writer = csv.writer(f)\n",
    "            date = 9999\n",
    "            line = re.findall(r'\\d+', title.text)\n",
    "        \n",
    "            if(len(line)>0):\n",
    "                for l in line:\n",
    "                    if(len(str(l)) == 4):\n",
    "                        date = l\n",
    "                    \n",
    "            data = [title.text, date, price.text.split(\"\\n\", 1)[0], rating.text, country.text]\n",
    "            writer.writerow(data)\n",
    "                                "
   ]
  },
  {
   "cell_type": "code",
<<<<<<< HEAD
   "execution_count": 4,
=======
   "execution_count": 6,
>>>>>>> dda269c01fa4813ceb73da0d2a9a441106826a3b
   "metadata": {},
   "outputs": [
    {
     "name": "stdout",
     "output_type": "stream",
     "text": [
      "scraped\n"
     ]
    }
   ],
   "source": [
    "scrape()"
   ]
  },
  {
   "cell_type": "code",
   "execution_count": 5,
   "metadata": {},
   "outputs": [
    {
     "data": {
      "text/html": [
       "<div>\n",
       "<style scoped>\n",
       "    .dataframe tbody tr th:only-of-type {\n",
       "        vertical-align: middle;\n",
       "    }\n",
       "\n",
       "    .dataframe tbody tr th {\n",
       "        vertical-align: top;\n",
       "    }\n",
       "\n",
       "    .dataframe thead th {\n",
       "        text-align: right;\n",
       "    }\n",
       "</style>\n",
       "<table border=\"1\" class=\"dataframe\">\n",
       "  <thead>\n",
       "    <tr style=\"text-align: right;\">\n",
       "      <th></th>\n",
       "      <th>Name</th>\n",
       "      <th>Year</th>\n",
       "      <th>Price</th>\n",
       "      <th>Rating</th>\n",
       "      <th>Country</th>\n",
       "    </tr>\n",
       "  </thead>\n",
       "  <tbody>\n",
       "    <tr>\n",
       "      <th>0</th>\n",
       "      <td>Edizione Cinque Autoctoni</td>\n",
       "      <td>9999</td>\n",
       "      <td>149.00</td>\n",
       "      <td>4.3</td>\n",
       "      <td>Italy</td>\n",
       "    </tr>\n",
       "    <tr>\n",
       "      <th>1</th>\n",
       "      <td>Malbec 2018</td>\n",
       "      <td>2018</td>\n",
       "      <td>59.95</td>\n",
       "      <td>3.8</td>\n",
       "      <td>Argentina</td>\n",
       "    </tr>\n",
       "    <tr>\n",
       "      <th>2</th>\n",
       "      <td>Malbec 2016</td>\n",
       "      <td>2016</td>\n",
       "      <td>129.95</td>\n",
       "      <td>4.1</td>\n",
       "      <td>Argentina</td>\n",
       "    </tr>\n",
       "    <tr>\n",
       "      <th>3</th>\n",
       "      <td>Malbec 2013</td>\n",
       "      <td>2013</td>\n",
       "      <td>99.95</td>\n",
       "      <td>3.9</td>\n",
       "      <td>Argentina</td>\n",
       "    </tr>\n",
       "    <tr>\n",
       "      <th>4</th>\n",
       "      <td>Red Blend 2017</td>\n",
       "      <td>2017</td>\n",
       "      <td>549.00</td>\n",
       "      <td>4.3</td>\n",
       "      <td>United States</td>\n",
       "    </tr>\n",
       "  </tbody>\n",
       "</table>\n",
       "</div>"
      ],
      "text/plain": [
       "                        Name  Year   Price  Rating        Country\n",
       "0  Edizione Cinque Autoctoni  9999  149.00     4.3          Italy\n",
       "1                Malbec 2018  2018   59.95     3.8      Argentina\n",
       "2                Malbec 2016  2016  129.95     4.1      Argentina\n",
       "3                Malbec 2013  2013   99.95     3.9      Argentina\n",
       "4             Red Blend 2017  2017  549.00     4.3  United States"
      ]
     },
     "execution_count": 5,
     "metadata": {},
     "output_type": "execute_result"
    }
   ],
   "source": [
    "df = pd.read_csv('vinData.csv')\n",
    "df.head()"
   ]
  },
  {
   "cell_type": "code",
   "execution_count": 6,
   "metadata": {},
   "outputs": [
    {
     "data": {
      "text/html": [
       "<div>\n",
       "<style scoped>\n",
       "    .dataframe tbody tr th:only-of-type {\n",
       "        vertical-align: middle;\n",
       "    }\n",
       "\n",
       "    .dataframe tbody tr th {\n",
       "        vertical-align: top;\n",
       "    }\n",
       "\n",
       "    .dataframe thead th {\n",
       "        text-align: right;\n",
       "    }\n",
       "</style>\n",
       "<table border=\"1\" class=\"dataframe\">\n",
       "  <thead>\n",
       "    <tr style=\"text-align: right;\">\n",
       "      <th></th>\n",
       "      <th>Name</th>\n",
       "      <th>Year</th>\n",
       "      <th>Price</th>\n",
       "      <th>Rating</th>\n",
       "      <th>Country</th>\n",
       "    </tr>\n",
       "  </thead>\n",
       "  <tbody>\n",
       "    <tr>\n",
       "      <th>1</th>\n",
       "      <td>Malbec 2018</td>\n",
       "      <td>2018</td>\n",
       "      <td>59.95</td>\n",
       "      <td>3.8</td>\n",
       "      <td>Argentina</td>\n",
       "    </tr>\n",
       "    <tr>\n",
       "      <th>2</th>\n",
       "      <td>Malbec 2016</td>\n",
       "      <td>2016</td>\n",
       "      <td>129.95</td>\n",
       "      <td>4.1</td>\n",
       "      <td>Argentina</td>\n",
       "    </tr>\n",
       "    <tr>\n",
       "      <th>3</th>\n",
       "      <td>Malbec 2013</td>\n",
       "      <td>2013</td>\n",
       "      <td>99.95</td>\n",
       "      <td>3.9</td>\n",
       "      <td>Argentina</td>\n",
       "    </tr>\n",
       "    <tr>\n",
       "      <th>4</th>\n",
       "      <td>Red Blend 2017</td>\n",
       "      <td>2017</td>\n",
       "      <td>549.00</td>\n",
       "      <td>4.3</td>\n",
       "      <td>United States</td>\n",
       "    </tr>\n",
       "    <tr>\n",
       "      <th>5</th>\n",
       "      <td>Ripassa Valpolicella Ripasso Superiore 2016</td>\n",
       "      <td>2016</td>\n",
       "      <td>169.00</td>\n",
       "      <td>4.1</td>\n",
       "      <td>Italy</td>\n",
       "    </tr>\n",
       "  </tbody>\n",
       "</table>\n",
       "</div>"
      ],
      "text/plain": [
       "                                          Name  Year   Price  Rating  \\\n",
       "1                                  Malbec 2018  2018   59.95     3.8   \n",
       "2                                  Malbec 2016  2016  129.95     4.1   \n",
       "3                                  Malbec 2013  2013   99.95     3.9   \n",
       "4                               Red Blend 2017  2017  549.00     4.3   \n",
       "5  Ripassa Valpolicella Ripasso Superiore 2016  2016  169.00     4.1   \n",
       "\n",
       "         Country  \n",
       "1      Argentina  \n",
       "2      Argentina  \n",
       "3      Argentina  \n",
       "4  United States  \n",
       "5          Italy  "
      ]
     },
     "execution_count": 6,
     "metadata": {},
     "output_type": "execute_result"
    }
   ],
   "source": [
    "yearMask = df['Year'] < 2022\n",
    "dfClean = df[yearMask]\n",
    "dfClean.head()"
   ]
  },
  {
   "cell_type": "markdown",
   "metadata": {},
   "source": [
    "\n",
    "\n",
    "## SAMMENHÆNG I DATAENS COLUMNS\n",
    "Vi ville undersøge om der er en correlation mellem f.eks. år og pris, pris og rating, og så videre."
   ]
  },
  {
   "cell_type": "code",
   "execution_count": 7,
   "metadata": {},
   "outputs": [
    {
     "data": {
      "text/plain": [
       "<seaborn.axisgrid.PairGrid at 0x7f7f753c7c50>"
      ]
     },
     "execution_count": 7,
     "metadata": {},
     "output_type": "execute_result"
    },
    {
     "data": {
      "image/png": "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\n",
      "text/plain": [
       "<Figure size 540x540 with 12 Axes>"
      ]
     },
     "metadata": {
      "needs_background": "light"
     },
     "output_type": "display_data"
    }
   ],
   "source": [
    "import seaborn as sb\n",
    "\n",
    "sb.pairplot(dfClean)"
   ]
  },
  {
   "cell_type": "code",
   "execution_count": 8,
   "metadata": {},
   "outputs": [
    {
     "data": {
      "text/html": [
       "<div>\n",
       "<style scoped>\n",
       "    .dataframe tbody tr th:only-of-type {\n",
       "        vertical-align: middle;\n",
       "    }\n",
       "\n",
       "    .dataframe tbody tr th {\n",
       "        vertical-align: top;\n",
       "    }\n",
       "\n",
       "    .dataframe thead th {\n",
       "        text-align: right;\n",
       "    }\n",
       "</style>\n",
       "<table border=\"1\" class=\"dataframe\">\n",
       "  <thead>\n",
       "    <tr style=\"text-align: right;\">\n",
       "      <th></th>\n",
       "      <th>Year</th>\n",
       "      <th>Price</th>\n",
       "      <th>Rating</th>\n",
       "    </tr>\n",
       "  </thead>\n",
       "  <tbody>\n",
       "    <tr>\n",
       "      <th>Year</th>\n",
       "      <td>1.000000</td>\n",
       "      <td>-0.424948</td>\n",
       "      <td>-0.206095</td>\n",
       "    </tr>\n",
       "    <tr>\n",
       "      <th>Price</th>\n",
       "      <td>-0.424948</td>\n",
       "      <td>1.000000</td>\n",
       "      <td>0.539901</td>\n",
       "    </tr>\n",
       "    <tr>\n",
       "      <th>Rating</th>\n",
       "      <td>-0.206095</td>\n",
       "      <td>0.539901</td>\n",
       "      <td>1.000000</td>\n",
       "    </tr>\n",
       "  </tbody>\n",
       "</table>\n",
       "</div>"
      ],
      "text/plain": [
       "            Year     Price    Rating\n",
       "Year    1.000000 -0.424948 -0.206095\n",
       "Price  -0.424948  1.000000  0.539901\n",
       "Rating -0.206095  0.539901  1.000000"
      ]
     },
     "execution_count": 8,
     "metadata": {},
     "output_type": "execute_result"
    }
   ],
   "source": [
    "dfClean.corr()"
   ]
  },
  {
   "cell_type": "code",
   "execution_count": 9,
   "metadata": {},
   "outputs": [
    {
     "data": {
      "text/html": [
       "<div>\n",
       "<style scoped>\n",
       "    .dataframe tbody tr th:only-of-type {\n",
       "        vertical-align: middle;\n",
       "    }\n",
       "\n",
       "    .dataframe tbody tr th {\n",
       "        vertical-align: top;\n",
       "    }\n",
       "\n",
       "    .dataframe thead th {\n",
       "        text-align: right;\n",
       "    }\n",
       "</style>\n",
       "<table border=\"1\" class=\"dataframe\">\n",
       "  <thead>\n",
       "    <tr style=\"text-align: right;\">\n",
       "      <th></th>\n",
       "      <th>Year</th>\n",
       "      <th>Price</th>\n",
       "      <th>Rating</th>\n",
       "    </tr>\n",
       "  </thead>\n",
       "  <tbody>\n",
       "    <tr>\n",
       "      <th>Year</th>\n",
       "      <td>1.000000</td>\n",
       "      <td>-0.486648</td>\n",
       "      <td>-0.278772</td>\n",
       "    </tr>\n",
       "    <tr>\n",
       "      <th>Price</th>\n",
       "      <td>-0.486648</td>\n",
       "      <td>1.000000</td>\n",
       "      <td>0.597095</td>\n",
       "    </tr>\n",
       "    <tr>\n",
       "      <th>Rating</th>\n",
       "      <td>-0.278772</td>\n",
       "      <td>0.597095</td>\n",
       "      <td>1.000000</td>\n",
       "    </tr>\n",
       "  </tbody>\n",
       "</table>\n",
       "</div>"
      ],
      "text/plain": [
       "            Year     Price    Rating\n",
       "Year    1.000000 -0.486648 -0.278772\n",
       "Price  -0.486648  1.000000  0.597095\n",
       "Rating -0.278772  0.597095  1.000000"
      ]
     },
     "execution_count": 9,
     "metadata": {},
     "output_type": "execute_result"
    }
   ],
   "source": [
    "dfLarge = pd.read_csv('vinDataLarge.csv')\n",
    "yearMask = dfLarge['Year'] < 2022\n",
    "dfLargeClean = dfLarge[yearMask]\n",
    "\n",
    "dfLargeClean.corr()"
   ]
  },
  {
   "cell_type": "code",
   "execution_count": 10,
   "metadata": {},
   "outputs": [
    {
     "name": "stdout",
     "output_type": "stream",
     "text": [
      "0.5399014967304493\n"
     ]
    },
    {
     "data": {
      "image/png": "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\n",
      "text/plain": [
       "<Figure size 432x288 with 1 Axes>"
      ]
     },
     "metadata": {
      "needs_background": "light"
     },
     "output_type": "display_data"
    }
   ],
   "source": [
    "x = dfClean['Price']\n",
    "y = dfClean['Rating']\n",
    "plt.scatter(x, y)\n",
    "\n",
    "plt.plot(np.unique(x), np.poly1d(np.polyfit(x, y, 1))(np.unique(x)), color='red')\n",
    "correlation = x.corr(y)\n",
    "print(correlation)"
   ]
  },
  {
   "cell_type": "code",
   "execution_count": 11,
   "metadata": {},
   "outputs": [
    {
     "name": "stdout",
     "output_type": "stream",
     "text": [
      "0.5970954630350238\n"
     ]
    },
    {
     "data": {
      "image/png": "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\n",
      "text/plain": [
       "<Figure size 432x288 with 1 Axes>"
      ]
     },
     "metadata": {
      "needs_background": "light"
     },
     "output_type": "display_data"
    }
   ],
   "source": [
    "xL = dfLargeClean['Price']\n",
    "yL = dfLargeClean['Rating']\n",
    "plt.scatter(xL, yL)\n",
    "\n",
    "plt.plot(np.unique(xL), np.poly1d(np.polyfit(xL, yL, 1))(np.unique(xL)), color='red')\n",
    "correlation = xL.corr(yL)\n",
    "print(correlation)"
   ]
  },
  {
   "cell_type": "code",
   "execution_count": 12,
   "metadata": {},
   "outputs": [
    {
     "data": {
      "text/plain": [
       "[<matplotlib.lines.Line2D at 0x7f7f70a22250>]"
      ]
     },
     "execution_count": 12,
     "metadata": {},
     "output_type": "execute_result"
    },
    {
     "data": {
      "image/png": "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\n",
      "text/plain": [
       "<Figure size 432x288 with 1 Axes>"
      ]
     },
     "metadata": {
      "needs_background": "light"
     },
     "output_type": "display_data"
    }
   ],
   "source": [
    "x = dfClean['Year']\n",
    "y = dfClean['Rating']\n",
    "plt.scatter(x, y)\n",
    "\n",
    "plt.plot(np.unique(x), np.poly1d(np.polyfit(x, y, 1))(np.unique(x)), color='red')"
   ]
  },
  {
   "cell_type": "markdown",
   "metadata": {},
   "source": [
    "Vi kan se at desto større databasen er, desto stærkere er correlationen mellem pris og rating. Ville der være årsag til at scrape endnu mere?"
   ]
  },
  {
   "cell_type": "code",
   "execution_count": 13,
   "metadata": {},
   "outputs": [
    {
     "name": "stdout",
     "output_type": "stream",
     "text": [
      "Correlation ved størrelse 300: -0.23401218516643876\n",
      "Correlation ved størrelse 500: -0.23796757546493885\n",
      "Correlation ved størrelse 700: -0.2173319349920702\n",
      "Correlation ved størrelse 900: -0.25137713489329505\n",
      "Correlation ved størrelse 1100: -0.2596959905033134\n",
      "Correlation ved størrelse 1300: -0.2735288825678517\n"
     ]
    }
   ],
   "source": [
    "for size in range(300, 1500, 200):\n",
    "    print(\"Correlation ved størrelse \" + str(size) + \": \" + str(dfLargeClean['Year'][0:size].corr(dfLargeClean['Rating'][0:size])))"
   ]
  },
  {
   "cell_type": "markdown",
   "metadata": {},
   "source": [
    "Videre undersøgning af hvor stærk correlationen er:"
   ]
  },
  {
   "cell_type": "code",
   "execution_count": 14,
   "metadata": {},
   "outputs": [
    {
     "name": "stdout",
     "output_type": "stream",
     "text": [
      "0.3565229919770093\n",
      "[0.00056345]\n",
      "3.810086328166339\n",
      "[4.79612752]\n",
      "Vi kan forvente at en vin til prisen 1750kr. har en rating på:\n",
      "4.7960375\n"
     ]
    }
   ],
   "source": [
    "from sklearn.linear_model import LinearRegression\n",
    "x = (dfLargeClean['Price'].values).reshape(-1,1)\n",
    "y = (dfLargeClean['Rating'].values)\n",
    "reg = LinearRegression().fit(x, y)\n",
    "\n",
    "print(reg.score(x, y)); print(reg.coef_); print(reg.intercept_)\n",
    "\n",
    "print(reg.predict([[1750]]))\n",
    "print(\"Vi kan forvente at en vin til prisen 1750kr. har en rating på:\"); print(0.00056345 * 1750 + 3.81)\n"
   ]
  },
  {
   "cell_type": "code",
   "execution_count": 15,
   "metadata": {},
   "outputs": [
    {
     "name": "stdout",
     "output_type": "stream",
     "text": [
      "    Actual  Predicted\n",
      "60     3.7   3.841952\n",
      "61     4.2   3.920889\n",
      "62     3.6   3.848069\n",
      "63     4.4   4.298499\n",
      "64     4.5   4.919090\n",
      "65     4.2   4.031578\n",
      "66     3.9   3.864752\n",
      "67     3.9   4.014895\n",
      "68     3.8   3.851406\n",
      "69     4.5   3.920361\n",
      "70     3.7   3.903678\n",
      "71     4.2   3.920889\n",
      "72     4.3   4.087186\n",
      "73     3.7   3.881435\n",
      "74     4.3   3.934819\n"
     ]
    },
    {
     "data": {
      "text/plain": [
       "0.42309585785509307"
      ]
     },
     "execution_count": 15,
     "metadata": {},
     "output_type": "execute_result"
    }
   ],
   "source": [
    "from sklearn.model_selection import train_test_split\n",
    "from sklearn.metrics import r2_score\n",
    "X_train, X_test, y_train, y_test = train_test_split(x, y, test_size=0.2, random_state=0)\n",
    "\n",
    "reg = LinearRegression()\n",
    "reg.fit(X_train, y_train)\n",
    "\n",
    "y_pred = reg.predict(X_test)\n",
    "\n",
    "dfTrain = pd.DataFrame({'Actual': y_test, 'Predicted': y_pred})\n",
    "dfTrain\n",
    "\n",
    "print(dfTrain[60:75])\n",
    "r2_score(dfTrain['Actual'], dfTrain['Predicted'])"
   ]
  },
  {
   "cell_type": "markdown",
   "metadata": {},
   "source": [
    "## Hvilken type vin var mest populær det givne år?"
   ]
  },
  {
   "cell_type": "code",
   "execution_count": 23,
   "metadata": {},
   "outputs": [
    {
     "data": {
      "text/html": [
       "<div>\n",
       "<style scoped>\n",
       "    .dataframe tbody tr th:only-of-type {\n",
       "        vertical-align: middle;\n",
       "    }\n",
       "\n",
       "    .dataframe tbody tr th {\n",
       "        vertical-align: top;\n",
       "    }\n",
       "\n",
       "    .dataframe thead th {\n",
       "        text-align: right;\n",
       "    }\n",
       "</style>\n",
       "<table border=\"1\" class=\"dataframe\">\n",
       "  <thead>\n",
       "    <tr style=\"text-align: right;\">\n",
       "      <th></th>\n",
       "      <th>Name</th>\n",
       "      <th>Year</th>\n",
       "      <th>Price</th>\n",
       "      <th>Rating</th>\n",
       "      <th>Country</th>\n",
       "    </tr>\n",
       "  </thead>\n",
       "  <tbody>\n",
       "    <tr>\n",
       "      <th>1</th>\n",
       "      <td>Malbec 2018</td>\n",
       "      <td>2018</td>\n",
       "      <td>59.95</td>\n",
       "      <td>3.8</td>\n",
       "      <td>Argentina</td>\n",
       "    </tr>\n",
       "    <tr>\n",
       "      <th>2</th>\n",
       "      <td>Malbec 2016</td>\n",
       "      <td>2016</td>\n",
       "      <td>129.95</td>\n",
       "      <td>4.1</td>\n",
       "      <td>Argentina</td>\n",
       "    </tr>\n",
       "    <tr>\n",
       "      <th>3</th>\n",
       "      <td>Malbec 2013</td>\n",
       "      <td>2013</td>\n",
       "      <td>99.95</td>\n",
       "      <td>3.9</td>\n",
       "      <td>Argentina</td>\n",
       "    </tr>\n",
       "    <tr>\n",
       "      <th>4</th>\n",
       "      <td>Red Blend 2017</td>\n",
       "      <td>2017</td>\n",
       "      <td>549.00</td>\n",
       "      <td>4.3</td>\n",
       "      <td>United States</td>\n",
       "    </tr>\n",
       "    <tr>\n",
       "      <th>5</th>\n",
       "      <td>Ripassa Valpolicella Ripasso Superiore 2016</td>\n",
       "      <td>2016</td>\n",
       "      <td>169.00</td>\n",
       "      <td>4.1</td>\n",
       "      <td>Italy</td>\n",
       "    </tr>\n",
       "  </tbody>\n",
       "</table>\n",
       "</div>"
      ],
      "text/plain": [
       "                                          Name  Year   Price  Rating  \\\n",
       "1                                  Malbec 2018  2018   59.95     3.8   \n",
       "2                                  Malbec 2016  2016  129.95     4.1   \n",
       "3                                  Malbec 2013  2013   99.95     3.9   \n",
       "4                               Red Blend 2017  2017  549.00     4.3   \n",
       "5  Ripassa Valpolicella Ripasso Superiore 2016  2016  169.00     4.1   \n",
       "\n",
       "         Country  \n",
       "1      Argentina  \n",
       "2      Argentina  \n",
       "3      Argentina  \n",
       "4  United States  \n",
       "5          Italy  "
      ]
     },
     "execution_count": 23,
     "metadata": {},
     "output_type": "execute_result"
    }
   ],
   "source": [
    "dfClean.head()"
   ]
  },
  {
   "cell_type": "code",
   "execution_count": 17,
   "metadata": {},
   "outputs": [
    {
     "data": {
      "text/html": [
       "<div>\n",
       "<style scoped>\n",
       "    .dataframe tbody tr th:only-of-type {\n",
       "        vertical-align: middle;\n",
       "    }\n",
       "\n",
       "    .dataframe tbody tr th {\n",
       "        vertical-align: top;\n",
       "    }\n",
       "\n",
       "    .dataframe thead th {\n",
       "        text-align: right;\n",
       "    }\n",
       "</style>\n",
       "<table border=\"1\" class=\"dataframe\">\n",
       "  <thead>\n",
       "    <tr style=\"text-align: right;\">\n",
       "      <th></th>\n",
       "      <th>Name</th>\n",
       "      <th>Year</th>\n",
       "      <th>Rating</th>\n",
       "      <th>Country</th>\n",
       "    </tr>\n",
       "  </thead>\n",
       "  <tbody>\n",
       "    <tr>\n",
       "      <th>1</th>\n",
       "      <td>Malbec 2018</td>\n",
       "      <td>2018</td>\n",
       "      <td>3.8</td>\n",
       "      <td>Argentina</td>\n",
       "    </tr>\n",
       "    <tr>\n",
       "      <th>2</th>\n",
       "      <td>Malbec 2016</td>\n",
       "      <td>2016</td>\n",
       "      <td>4.1</td>\n",
       "      <td>Argentina</td>\n",
       "    </tr>\n",
       "    <tr>\n",
       "      <th>3</th>\n",
       "      <td>Malbec 2013</td>\n",
       "      <td>2013</td>\n",
       "      <td>3.9</td>\n",
       "      <td>Argentina</td>\n",
       "    </tr>\n",
       "    <tr>\n",
       "      <th>4</th>\n",
       "      <td>Red Blend 2017</td>\n",
       "      <td>2017</td>\n",
       "      <td>4.3</td>\n",
       "      <td>United States</td>\n",
       "    </tr>\n",
       "    <tr>\n",
       "      <th>5</th>\n",
       "      <td>Ripassa Valpolicella Ripasso Superiore 2016</td>\n",
       "      <td>2016</td>\n",
       "      <td>4.1</td>\n",
       "      <td>Italy</td>\n",
       "    </tr>\n",
       "  </tbody>\n",
       "</table>\n",
       "</div>"
      ],
      "text/plain": [
       "                                          Name  Year  Rating        Country\n",
       "1                                  Malbec 2018  2018     3.8      Argentina\n",
       "2                                  Malbec 2016  2016     4.1      Argentina\n",
       "3                                  Malbec 2013  2013     3.9      Argentina\n",
       "4                               Red Blend 2017  2017     4.3  United States\n",
       "5  Ripassa Valpolicella Ripasso Superiore 2016  2016     4.1          Italy"
      ]
     },
     "execution_count": 17,
     "metadata": {},
     "output_type": "execute_result"
    }
   ],
   "source": [
    "data_chart = dfClean.drop(columns='Price')\n",
    "data_chart.head()"
   ]
  },
  {
   "cell_type": "code",
   "execution_count": 27,
   "metadata": {
    "scrolled": true
   },
   "outputs": [
    {
     "data": {
      "text/html": [
       "<div>\n",
       "<style scoped>\n",
       "    .dataframe tbody tr th:only-of-type {\n",
       "        vertical-align: middle;\n",
       "    }\n",
       "\n",
       "    .dataframe tbody tr th {\n",
       "        vertical-align: top;\n",
       "    }\n",
       "\n",
       "    .dataframe thead th {\n",
       "        text-align: right;\n",
       "    }\n",
       "</style>\n",
       "<table border=\"1\" class=\"dataframe\">\n",
       "  <thead>\n",
       "    <tr style=\"text-align: right;\">\n",
       "      <th></th>\n",
       "      <th>Name</th>\n",
       "      <th>Rating</th>\n",
       "      <th>Country</th>\n",
       "    </tr>\n",
       "    <tr>\n",
       "      <th>Year</th>\n",
       "      <th></th>\n",
       "      <th></th>\n",
       "      <th></th>\n",
       "    </tr>\n",
       "  </thead>\n",
       "  <tbody>\n",
       "    <tr>\n",
       "      <th>2004</th>\n",
       "      <td>Rouge (Gaston Hochar) 2004</td>\n",
       "      <td>4.2</td>\n",
       "      <td>Lebanon</td>\n",
       "    </tr>\n",
       "    <tr>\n",
       "      <th>2005</th>\n",
       "      <td>Viña Bosconia Reserva 2005</td>\n",
       "      <td>4.1</td>\n",
       "      <td>Spain</td>\n",
       "    </tr>\n",
       "    <tr>\n",
       "      <th>2006</th>\n",
       "      <td>Viña Bosconia Reserva 2006</td>\n",
       "      <td>4.0</td>\n",
       "      <td>Spain</td>\n",
       "    </tr>\n",
       "    <tr>\n",
       "      <th>2007</th>\n",
       "      <td>Viña Tondonia Reserva 2007</td>\n",
       "      <td>4.2</td>\n",
       "      <td>Spain</td>\n",
       "    </tr>\n",
       "    <tr>\n",
       "      <th>2008</th>\n",
       "      <td>Viña Tondonia Reserva 2008</td>\n",
       "      <td>4.3</td>\n",
       "      <td>Spain</td>\n",
       "    </tr>\n",
       "    <tr>\n",
       "      <th>2009</th>\n",
       "      <td>Viña Cubillo 2009</td>\n",
       "      <td>4.4</td>\n",
       "      <td>Spain</td>\n",
       "    </tr>\n",
       "    <tr>\n",
       "      <th>2010</th>\n",
       "      <td>Toscana Le Cupole Rosso 2010</td>\n",
       "      <td>4.5</td>\n",
       "      <td>Italy</td>\n",
       "    </tr>\n",
       "    <tr>\n",
       "      <th>2011</th>\n",
       "      <td>Vigneto Monte Sant'Urbano Amarone della Valpol...</td>\n",
       "      <td>4.4</td>\n",
       "      <td>Spain</td>\n",
       "    </tr>\n",
       "    <tr>\n",
       "      <th>2012</th>\n",
       "      <td>Touriga Nacional 2012</td>\n",
       "      <td>4.4</td>\n",
       "      <td>Spain</td>\n",
       "    </tr>\n",
       "    <tr>\n",
       "      <th>2013</th>\n",
       "      <td>Vigneto Monte Sant'Urbano Amarone della Valpol...</td>\n",
       "      <td>4.5</td>\n",
       "      <td>United States</td>\n",
       "    </tr>\n",
       "    <tr>\n",
       "      <th>2014</th>\n",
       "      <td>Wild Sauvignon 2014</td>\n",
       "      <td>4.6</td>\n",
       "      <td>United States</td>\n",
       "    </tr>\n",
       "    <tr>\n",
       "      <th>2015</th>\n",
       "      <td>Zinfandel 2015</td>\n",
       "      <td>4.7</td>\n",
       "      <td>United States</td>\n",
       "    </tr>\n",
       "    <tr>\n",
       "      <th>2016</th>\n",
       "      <td>Zinfandel 2016</td>\n",
       "      <td>4.7</td>\n",
       "      <td>Uruguay</td>\n",
       "    </tr>\n",
       "    <tr>\n",
       "      <th>2017</th>\n",
       "      <td>Zisola Azisa Sicilia 2017</td>\n",
       "      <td>4.7</td>\n",
       "      <td>Uruguay</td>\n",
       "    </tr>\n",
       "    <tr>\n",
       "      <th>2018</th>\n",
       "      <td>de La Tierra 2018</td>\n",
       "      <td>4.5</td>\n",
       "      <td>United States</td>\n",
       "    </tr>\n",
       "    <tr>\n",
       "      <th>2019</th>\n",
       "      <td>Zinfandel 2019</td>\n",
       "      <td>4.3</td>\n",
       "      <td>Uruguay</td>\n",
       "    </tr>\n",
       "    <tr>\n",
       "      <th>2020</th>\n",
       "      <td>Sauvignon Blanc 2020</td>\n",
       "      <td>4.2</td>\n",
       "      <td>New Zealand</td>\n",
       "    </tr>\n",
       "  </tbody>\n",
       "</table>\n",
       "</div>"
      ],
      "text/plain": [
       "                                                   Name  Rating        Country\n",
       "Year                                                                          \n",
       "2004                         Rouge (Gaston Hochar) 2004     4.2        Lebanon\n",
       "2005                         Viña Bosconia Reserva 2005     4.1          Spain\n",
       "2006                         Viña Bosconia Reserva 2006     4.0          Spain\n",
       "2007                         Viña Tondonia Reserva 2007     4.2          Spain\n",
       "2008                         Viña Tondonia Reserva 2008     4.3          Spain\n",
       "2009                                  Viña Cubillo 2009     4.4          Spain\n",
       "2010                       Toscana Le Cupole Rosso 2010     4.5          Italy\n",
       "2011  Vigneto Monte Sant'Urbano Amarone della Valpol...     4.4          Spain\n",
       "2012                              Touriga Nacional 2012     4.4          Spain\n",
       "2013  Vigneto Monte Sant'Urbano Amarone della Valpol...     4.5  United States\n",
       "2014                                Wild Sauvignon 2014     4.6  United States\n",
       "2015                                     Zinfandel 2015     4.7  United States\n",
       "2016                                     Zinfandel 2016     4.7        Uruguay\n",
       "2017                          Zisola Azisa Sicilia 2017     4.7        Uruguay\n",
       "2018                                  de La Tierra 2018     4.5  United States\n",
       "2019                                     Zinfandel 2019     4.3        Uruguay\n",
       "2020                               Sauvignon Blanc 2020     4.2    New Zealand"
      ]
     },
     "execution_count": 27,
     "metadata": {},
     "output_type": "execute_result"
    }
   ],
   "source": [
    "#Viser hvilken vin der var bedst for hvert år, samt hvilket land den kom fra. \n",
    "max_rating = data_chart.groupby('Year').max()\n",
    "max = max_rating['Rating'].max()\n",
    "min_rating = data_chart.groupby('Year').min()\n",
    "#min_rating\n",
    "max_rating\n",
    "#max\n"
   ]
  },
  {
   "cell_type": "code",
   "execution_count": 43,
   "metadata": {
    "scrolled": false
   },
   "outputs": [
    {
     "data": {
      "text/html": [
       "<div>\n",
       "<style scoped>\n",
       "    .dataframe tbody tr th:only-of-type {\n",
       "        vertical-align: middle;\n",
       "    }\n",
       "\n",
       "    .dataframe tbody tr th {\n",
       "        vertical-align: top;\n",
       "    }\n",
       "\n",
       "    .dataframe thead th {\n",
       "        text-align: right;\n",
       "    }\n",
       "</style>\n",
       "<table border=\"1\" class=\"dataframe\">\n",
       "  <thead>\n",
       "    <tr style=\"text-align: right;\">\n",
       "      <th></th>\n",
       "      <th>Rating</th>\n",
       "      <th>Country</th>\n",
       "    </tr>\n",
       "    <tr>\n",
       "      <th>Name</th>\n",
       "      <th></th>\n",
       "      <th></th>\n",
       "    </tr>\n",
       "  </thead>\n",
       "  <tbody>\n",
       "    <tr>\n",
       "      <th>Rouge (Gaston Hochar) 2004</th>\n",
       "      <td>4.2</td>\n",
       "      <td>Lebanon</td>\n",
       "    </tr>\n",
       "    <tr>\n",
       "      <th>Sauvignon Blanc 2020</th>\n",
       "      <td>4.2</td>\n",
       "      <td>New Zealand</td>\n",
       "    </tr>\n",
       "    <tr>\n",
       "      <th>Toscana Le Cupole Rosso 2010</th>\n",
       "      <td>4.5</td>\n",
       "      <td>Italy</td>\n",
       "    </tr>\n",
       "    <tr>\n",
       "      <th>Touriga Nacional 2012</th>\n",
       "      <td>4.4</td>\n",
       "      <td>Spain</td>\n",
       "    </tr>\n",
       "    <tr>\n",
       "      <th>Vigneto Monte Sant'Urbano Amarone della Valpolicella Classico 2011</th>\n",
       "      <td>4.4</td>\n",
       "      <td>Spain</td>\n",
       "    </tr>\n",
       "    <tr>\n",
       "      <th>Vigneto Monte Sant'Urbano Amarone della Valpolicella Classico 2013</th>\n",
       "      <td>4.5</td>\n",
       "      <td>United States</td>\n",
       "    </tr>\n",
       "    <tr>\n",
       "      <th>Viña Bosconia Reserva 2005</th>\n",
       "      <td>4.1</td>\n",
       "      <td>Spain</td>\n",
       "    </tr>\n",
       "    <tr>\n",
       "      <th>Viña Bosconia Reserva 2006</th>\n",
       "      <td>4.0</td>\n",
       "      <td>Spain</td>\n",
       "    </tr>\n",
       "    <tr>\n",
       "      <th>Viña Cubillo 2009</th>\n",
       "      <td>4.4</td>\n",
       "      <td>Spain</td>\n",
       "    </tr>\n",
       "    <tr>\n",
       "      <th>Viña Tondonia Reserva 2007</th>\n",
       "      <td>4.2</td>\n",
       "      <td>Spain</td>\n",
       "    </tr>\n",
       "    <tr>\n",
       "      <th>Viña Tondonia Reserva 2008</th>\n",
       "      <td>4.3</td>\n",
       "      <td>Spain</td>\n",
       "    </tr>\n",
       "    <tr>\n",
       "      <th>Wild Sauvignon 2014</th>\n",
       "      <td>4.6</td>\n",
       "      <td>United States</td>\n",
       "    </tr>\n",
       "    <tr>\n",
       "      <th>Zinfandel 2015</th>\n",
       "      <td>4.7</td>\n",
       "      <td>United States</td>\n",
       "    </tr>\n",
       "    <tr>\n",
       "      <th>Zinfandel 2016</th>\n",
       "      <td>4.7</td>\n",
       "      <td>Uruguay</td>\n",
       "    </tr>\n",
       "    <tr>\n",
       "      <th>Zinfandel 2019</th>\n",
       "      <td>4.3</td>\n",
       "      <td>Uruguay</td>\n",
       "    </tr>\n",
       "    <tr>\n",
       "      <th>Zisola Azisa Sicilia 2017</th>\n",
       "      <td>4.7</td>\n",
       "      <td>Uruguay</td>\n",
       "    </tr>\n",
       "    <tr>\n",
       "      <th>de La Tierra 2018</th>\n",
       "      <td>4.5</td>\n",
       "      <td>United States</td>\n",
       "    </tr>\n",
       "  </tbody>\n",
       "</table>\n",
       "</div>"
      ],
      "text/plain": [
       "                                                    Rating        Country\n",
       "Name                                                                     \n",
       "Rouge (Gaston Hochar) 2004                             4.2        Lebanon\n",
       "Sauvignon Blanc 2020                                   4.2    New Zealand\n",
       "Toscana Le Cupole Rosso 2010                           4.5          Italy\n",
       "Touriga Nacional 2012                                  4.4          Spain\n",
       "Vigneto Monte Sant'Urbano Amarone della Valpoli...     4.4          Spain\n",
       "Vigneto Monte Sant'Urbano Amarone della Valpoli...     4.5  United States\n",
       "Viña Bosconia Reserva 2005                             4.1          Spain\n",
       "Viña Bosconia Reserva 2006                             4.0          Spain\n",
       "Viña Cubillo 2009                                      4.4          Spain\n",
       "Viña Tondonia Reserva 2007                             4.2          Spain\n",
       "Viña Tondonia Reserva 2008                             4.3          Spain\n",
       "Wild Sauvignon 2014                                    4.6  United States\n",
       "Zinfandel 2015                                         4.7  United States\n",
       "Zinfandel 2016                                         4.7        Uruguay\n",
       "Zinfandel 2019                                         4.3        Uruguay\n",
       "Zisola Azisa Sicilia 2017                              4.7        Uruguay\n",
       "de La Tierra 2018                                      4.5  United States"
      ]
     },
     "execution_count": 43,
     "metadata": {},
     "output_type": "execute_result"
    }
   ],
   "source": [
    "\n",
    "\n",
    "newdf = max_rating.groupby('Name').max()\n",
    "newdf"
   ]
  },
  {
   "cell_type": "code",
   "execution_count": null,
   "metadata": {},
   "outputs": [],
   "source": []
  },
  {
   "cell_type": "code",
   "execution_count": 20,
   "metadata": {
    "scrolled": false
   },
   "outputs": [
    {
     "data": {
      "text/plain": [
       "<matplotlib.axes._subplots.AxesSubplot at 0x7f7f703cc610>"
      ]
     },
     "execution_count": 20,
     "metadata": {},
     "output_type": "execute_result"
    },
    {
     "data": {
      "image/png": "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\n",
      "text/plain": [
       "<Figure size 432x288 with 1 Axes>"
      ]
     },
     "metadata": {
      "needs_background": "light"
     },
     "output_type": "display_data"
    }
   ],
   "source": [
    "ax = newdf.plot.bar()\n",
    "ax.set_ylim([3.99,5])\n",
    "ax.set_ylabel('Rating')\n",
    "ax"
   ]
  },
  {
   "cell_type": "code",
   "execution_count": 21,
   "metadata": {},
   "outputs": [
    {
     "data": {
      "text/plain": [
       "<matplotlib.axes._subplots.AxesSubplot at 0x7f7f702f9790>"
      ]
     },
     "execution_count": 21,
     "metadata": {},
     "output_type": "execute_result"
    },
    {
     "data": {
      "image/png": "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\n",
      "text/plain": [
       "<Figure size 432x288 with 1 Axes>"
      ]
     },
     "metadata": {
      "needs_background": "light"
     },
     "output_type": "display_data"
    }
   ],
   "source": [
    "ax = max_rating.plot.bar()\n",
    "ax.set_ylim([3.99,5])\n",
    "ax.set_ylabel('Rating')\n",
    "ax"
   ]
  },
  {
   "cell_type": "code",
   "execution_count": 28,
   "metadata": {},
   "outputs": [
    {
     "data": {
      "text/plain": [
       "Spain            7\n",
       "United States    4\n",
       "Uruguay          3\n",
       "New Zealand      1\n",
       "Lebanon          1\n",
       "Italy            1\n",
       "Name: Country, dtype: int64"
      ]
     },
     "execution_count": 28,
     "metadata": {},
     "output_type": "execute_result"
    }
   ],
   "source": [
    "#Hvilket land har haft den bedste vin flest gange.\n",
    "no_of_occur_max = max_rating['Country'].value_counts()\n",
    "no_of_occur_max\n",
    "\n",
    "#Hvilket land har haft den dårligste vin flest gange.\n",
    "#no_of_occur_min = min_rating['Country'].value_counts()\n",
    "#no_of_occur_min\n"
   ]
  },
  {
   "cell_type": "code",
   "execution_count": null,
   "metadata": {},
   "outputs": [],
   "source": []
  }
 ],
 "metadata": {
  "kernelspec": {
   "display_name": "Python 3",
   "language": "python",
   "name": "python3"
  },
  "language_info": {
   "codemirror_mode": {
    "name": "ipython",
    "version": 3
   },
   "file_extension": ".py",
   "mimetype": "text/x-python",
   "name": "python",
   "nbconvert_exporter": "python",
   "pygments_lexer": "ipython3",
   "version": "3.7.6"
  }
 },
 "nbformat": 4,
 "nbformat_minor": 4
}
