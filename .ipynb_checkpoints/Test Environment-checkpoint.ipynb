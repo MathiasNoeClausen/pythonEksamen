{
 "cells": [
  {
   "cell_type": "code",
   "execution_count": 2,
   "metadata": {},
   "outputs": [],
   "source": [
    "from selenium import webdriver\n",
    "from selenium.webdriver.common.by import By\n",
    "from selenium.webdriver.support.ui import WebDriverWait\n",
    "from selenium.webdriver.support import expected_conditions as EC\n",
    "from selenium.webdriver.firefox.options import Options\n",
    "import numpy as np\n",
    "import matplotlib.pyplot as plt\n",
    "import pandas as pd\n",
    "import csv\n",
    "import re\n",
    "import time"
   ]
  },
  {
   "cell_type": "code",
   "execution_count": 7,
   "metadata": {},
   "outputs": [
    {
     "data": {
      "text/html": [
       "<div>\n",
       "<style scoped>\n",
       "    .dataframe tbody tr th:only-of-type {\n",
       "        vertical-align: middle;\n",
       "    }\n",
       "\n",
       "    .dataframe tbody tr th {\n",
       "        vertical-align: top;\n",
       "    }\n",
       "\n",
       "    .dataframe thead th {\n",
       "        text-align: right;\n",
       "    }\n",
       "</style>\n",
       "<table border=\"1\" class=\"dataframe\">\n",
       "  <thead>\n",
       "    <tr style=\"text-align: right;\">\n",
       "      <th></th>\n",
       "      <th>Name</th>\n",
       "      <th>Year</th>\n",
       "      <th>Price</th>\n",
       "      <th>Rating</th>\n",
       "      <th>Country</th>\n",
       "    </tr>\n",
       "  </thead>\n",
       "  <tbody>\n",
       "    <tr>\n",
       "      <th>0</th>\n",
       "      <td>Edizione Cinque Autoctoni</td>\n",
       "      <td>9999</td>\n",
       "      <td>149.00</td>\n",
       "      <td>4.3</td>\n",
       "      <td>Italy</td>\n",
       "    </tr>\n",
       "    <tr>\n",
       "      <th>1</th>\n",
       "      <td>Malbec 2018</td>\n",
       "      <td>2018</td>\n",
       "      <td>59.95</td>\n",
       "      <td>3.8</td>\n",
       "      <td>Argentina</td>\n",
       "    </tr>\n",
       "    <tr>\n",
       "      <th>2</th>\n",
       "      <td>Malbec 2016</td>\n",
       "      <td>2016</td>\n",
       "      <td>129.95</td>\n",
       "      <td>4.1</td>\n",
       "      <td>Argentina</td>\n",
       "    </tr>\n",
       "    <tr>\n",
       "      <th>3</th>\n",
       "      <td>Malbec 2013</td>\n",
       "      <td>2013</td>\n",
       "      <td>99.95</td>\n",
       "      <td>3.9</td>\n",
       "      <td>Argentina</td>\n",
       "    </tr>\n",
       "    <tr>\n",
       "      <th>4</th>\n",
       "      <td>Red Blend 2017</td>\n",
       "      <td>2017</td>\n",
       "      <td>549.00</td>\n",
       "      <td>4.3</td>\n",
       "      <td>United States</td>\n",
       "    </tr>\n",
       "  </tbody>\n",
       "</table>\n",
       "</div>"
      ],
      "text/plain": [
       "                        Name  Year   Price  Rating        Country\n",
       "0  Edizione Cinque Autoctoni  9999  149.00     4.3          Italy\n",
       "1                Malbec 2018  2018   59.95     3.8      Argentina\n",
       "2                Malbec 2016  2016  129.95     4.1      Argentina\n",
       "3                Malbec 2013  2013   99.95     3.9      Argentina\n",
       "4             Red Blend 2017  2017  549.00     4.3  United States"
      ]
     },
     "execution_count": 7,
     "metadata": {},
     "output_type": "execute_result"
    }
   ],
   "source": [
    "df = pd.read_csv('vinData.csv')\n",
    "df.head()"
   ]
  },
  {
   "cell_type": "code",
   "execution_count": 13,
   "metadata": {},
   "outputs": [
    {
     "data": {
      "text/html": [
       "<div>\n",
       "<style scoped>\n",
       "    .dataframe tbody tr th:only-of-type {\n",
       "        vertical-align: middle;\n",
       "    }\n",
       "\n",
       "    .dataframe tbody tr th {\n",
       "        vertical-align: top;\n",
       "    }\n",
       "\n",
       "    .dataframe thead th {\n",
       "        text-align: right;\n",
       "    }\n",
       "</style>\n",
       "<table border=\"1\" class=\"dataframe\">\n",
       "  <thead>\n",
       "    <tr style=\"text-align: right;\">\n",
       "      <th></th>\n",
       "      <th>Name</th>\n",
       "      <th>Year</th>\n",
       "      <th>Price</th>\n",
       "      <th>Rating</th>\n",
       "      <th>Country</th>\n",
       "    </tr>\n",
       "  </thead>\n",
       "  <tbody>\n",
       "    <tr>\n",
       "      <th>0</th>\n",
       "      <td>Edizione Cinque Autoctoni</td>\n",
       "      <td>9999</td>\n",
       "      <td>149.00</td>\n",
       "      <td>4.3</td>\n",
       "      <td>Italy</td>\n",
       "    </tr>\n",
       "    <tr>\n",
       "      <th>5</th>\n",
       "      <td>Ripassa Valpolicella Ripasso Superiore 2016</td>\n",
       "      <td>2016</td>\n",
       "      <td>169.00</td>\n",
       "      <td>4.1</td>\n",
       "      <td>Italy</td>\n",
       "    </tr>\n",
       "    <tr>\n",
       "      <th>7</th>\n",
       "      <td>Primitivo 2019</td>\n",
       "      <td>2019</td>\n",
       "      <td>79.00</td>\n",
       "      <td>4.1</td>\n",
       "      <td>Italy</td>\n",
       "    </tr>\n",
       "    <tr>\n",
       "      <th>15</th>\n",
       "      <td>Valpolicella Ripasso (Classico Superiore) 2016</td>\n",
       "      <td>2016</td>\n",
       "      <td>399.00</td>\n",
       "      <td>3.9</td>\n",
       "      <td>Italy</td>\n",
       "    </tr>\n",
       "    <tr>\n",
       "      <th>26</th>\n",
       "      <td>Barbaresco 2015</td>\n",
       "      <td>2015</td>\n",
       "      <td>269.95</td>\n",
       "      <td>4.1</td>\n",
       "      <td>Italy</td>\n",
       "    </tr>\n",
       "  </tbody>\n",
       "</table>\n",
       "</div>"
      ],
      "text/plain": [
       "                                              Name  Year   Price  Rating  \\\n",
       "0                        Edizione Cinque Autoctoni  9999  149.00     4.3   \n",
       "5      Ripassa Valpolicella Ripasso Superiore 2016  2016  169.00     4.1   \n",
       "7                                   Primitivo 2019  2019   79.00     4.1   \n",
       "15  Valpolicella Ripasso (Classico Superiore) 2016  2016  399.00     3.9   \n",
       "26                                 Barbaresco 2015  2015  269.95     4.1   \n",
       "\n",
       "   Country  \n",
       "0    Italy  \n",
       "5    Italy  \n",
       "7    Italy  \n",
       "15   Italy  \n",
       "26   Italy  "
      ]
     },
     "execution_count": 13,
     "metadata": {},
     "output_type": "execute_result"
    },
    {
     "data": {
      "image/png": "[encoded data removed]",
      "text/plain": [
       "<Figure size 432x288 with 1 Axes>"
      ]
     },
     "metadata": {
      "needs_background": "light"
     },
     "output_type": "display_data"
    }
   ],
   "source": [
    "italyFilter = df['Country']=='Italy'\n",
    "italy = df[italyFilter]\n",
    "\n",
    "plt.scatter(italy['Price'], italy['Rating'])\n",
    "italy.head()"
   ]
  },
  {
   "cell_type": "code",
   "execution_count": 18,
   "metadata": {},
   "outputs": [
    {
     "data": {
      "text/plain": [
       "<matplotlib.collections.PathCollection at 0x7f427c663f90>"
      ]
     },
     "execution_count": 18,
     "metadata": {},
     "output_type": "execute_result"
    },
    {
     "data": {
      "image/png": "[encoded data removed]",
      "text/plain": [
       "<Figure size 432x288 with 1 Axes>"
      ]
     },
     "metadata": {
      "needs_background": "light"
     },
     "output_type": "display_data"
    }
   ],
   "source": [
    "yearFilter = italy['Year'] < 2200\n",
    "italyYearFiltered = italy[yearFilter]\n",
    "\n",
    "plt.scatter(italyYearFiltered['Year'], italyYearFiltered['Rating'])"
   ]
  },
  {
   "cell_type": "code",
   "execution_count": 19,
   "metadata": {},
   "outputs": [],
   "source": [
    "def scroll(driver, timeout, loops):\n",
    "    scroll_pause_time = timeout\n",
    "\n",
    "    last_height = driver.execute_script(\"return document.body.scrollHeight\")\n",
    "    num = 0\n",
    "    \n",
    "    while True and num < loops:\n",
    "        driver.execute_script(\"window.scrollTo(0, document.body.scrollHeight);\")\n",
    "        num = num + 1\n",
    "        time.sleep(scroll_pause_time)\n",
    "        new_height = driver.execute_script(\"return document.body.scrollHeight\")\n",
    "        if new_height == last_height:\n",
    "            break\n",
    "        last_height = new_height"
   ]
  },
  {
   "cell_type": "code",
   "execution_count": null,
   "metadata": {},
   "outputs": [],
   "source": [
    "url = 'https://www.vivino.com/explore?e=eJzLLbI1VMvNzLM1UMtNrLA1MjUwUEuutHXxVksGEt5qBUDp9DTbssSizNSSxBy1_CRbtXxbtfKS6FigDJgyAgDIGhUE'\n",
    "product_names = []\n",
    "profile = webdriver.FirefoxProfile()\n",
    "profile.set_preference(\"general.useragent.override\", \"Mozilla/5.0 (X11; Ubuntu; Linux x86_64; rv:81.0) Gecko/20100101 Firefox/81.0\")\n",
    "options = Options()\n",
    "options.headless = True\n",
    "browser = webdriver.Firefox(options=options)\n",
    "options.add_argument(\"start-maximized\")\n",
    "options.add_argument('disable-infobars')\n",
    "\n",
    "def scrape():\n",
    "    browser.get(url)\n",
    "    loops = 80\n",
    "    timeout = 2.5\n",
    "    scroll(browser, timeout, loops)\n",
    "\n",
    "    titles = browser.find_elements_by_class_name('vintageTitle__wine--U7t9G')\n",
    "    prices = browser.find_elements_by_xpath(\"(//*[contains(@class, 'addToCartButton__price')])\")\n",
    "    ratings = browser.find_elements_by_class_name('vivinoRating__averageValue--3Navj')\n",
    "    countries = browser.find_elements_by_xpath('//a[contains(@href, \"/explore?country_code\")]')\n",
    "    \n",
    "    for title, price, rating, country in zip(titles, prices, ratings, countries):\n",
    "        with open('vinDifferentSorting.csv', 'a', encoding='UTF8') as f:\n",
    "            writer = csv.writer(f)\n",
    "            date = 9999\n",
    "            line = re.findall(r'\\d+', title.text)\n",
    "        \n",
    "            if(len(line)>0):\n",
    "                for l in line:\n",
    "                    if(len(str(l)) == 4):\n",
    "                        date = l\n",
    "                    \n",
    "            data = [title.text, date, price.text.split(\"\\n\", 1)[0], rating.text, country.text]\n",
    "            writer.writerow(data)\n",
    "                                "
   ]
  }
 ],
 "metadata": {
  "kernelspec": {
   "display_name": "Python 3",
   "language": "python",
   "name": "python3"
  },
  "language_info": {
   "codemirror_mode": {
    "name": "ipython",
    "version": 3
   },
   "file_extension": ".py",
   "mimetype": "text/x-python",
   "name": "python",
   "nbconvert_exporter": "python",
   "pygments_lexer": "ipython3",
   "version": "3.7.6"
  }
 },
 "nbformat": 4,
 "nbformat_minor": 4
}
