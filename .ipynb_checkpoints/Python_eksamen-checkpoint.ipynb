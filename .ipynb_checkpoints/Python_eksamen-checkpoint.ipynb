{
 "cells": [
  {
   "cell_type": "code",
   "execution_count": 4,
   "metadata": {},
   "outputs": [],
   "source": [
    "from selenium import webdriver\n",
    "from selenium.webdriver.common.by import By\n",
    "from selenium.webdriver.support.ui import WebDriverWait\n",
    "from selenium.webdriver.support import expected_conditions as EC\n",
    "from selenium.webdriver.firefox.options import Options\n",
    "import pandas as pd\n",
    "import csv"
   ]
  },
  {
   "cell_type": "code",
   "execution_count": 17,
   "metadata": {},
   "outputs": [
    {
     "name": "stdout",
     "output_type": "stream",
     "text": [
      "price: 149\n",
      "kr.\n",
      "price: 59.95\n",
      "kr.\n",
      "price: 129.95\n",
      "kr.\n",
      "price: 99.95\n",
      "kr.\n",
      "price: 549\n",
      "kr.\n",
      "price: 169\n",
      "kr.\n",
      "price: 99\n",
      "kr.\n",
      "price: 79\n",
      "kr.\n",
      "price: 81\n",
      "kr.\n",
      "price: 199.95\n",
      "kr.\n",
      "price: 154.95\n",
      "kr.\n",
      "price: 249\n",
      "kr.\n",
      "price: 180\n",
      "kr.\n",
      "price: 120\n",
      "kr.\n",
      "price: 199.95\n",
      "kr.\n",
      "price: 399\n",
      "kr.\n",
      "price: 199\n",
      "kr.\n",
      "price: 84.95\n",
      "kr.\n",
      "price: 169\n",
      "kr.\n",
      "price: 599.95\n",
      "kr.\n",
      "price: 999\n",
      "kr.\n",
      "price: 149.95\n",
      "kr.\n",
      "price: 295\n",
      "kr.\n",
      "price: 650\n",
      "kr.\n",
      "price: 185\n",
      "kr.\n",
      "['Pinot Noir 2016', '185\\nkr.', '4.0']\n"
     ]
    }
   ],
   "source": [
    "url = 'https://www.vivino.com/explore?e=eJwdijsOgCAQBW_zaqDfzo4jGGPWFQmJgAH83V5iM1PMxEIaMSRSiPyQ0UpBXhospMPi6NlvdHEJrvGOvFDhFpKvs-QzNWRaXRXcbZz6-st8itQcHw%3D%3D'\n",
    "product_names = []\n",
    "profile = webdriver.FirefoxProfile()\n",
    "profile.set_preference(\"general.useragent.override\", \"Mozilla/5.0 (X11; Ubuntu; Linux x86_64; rv:81.0) Gecko/20100101 Firefox/81.0\")\n",
    "options = Options()\n",
    "options.headless = True\n",
    "browser = webdriver.Firefox(options=options)\n",
    "options.add_argument(\"start-maximized\")\n",
    "options.add_argument('disable-infobars')\n",
    "browser.get(url)\n",
    "titles = browser.find_elements_by_class_name('vintageTitle__wine--U7t9G')\n",
    "prices = browser.find_elements_by_xpath(\"(//*[contains(@class, 'addToCartButton__price')])\")\n",
    "ratings = browser.find_elements_by_class_name('vivinoRating__averageValue--3Navj')\n",
    "\n",
    "#for price in prices:\n",
    "#    print('price:',price.text)\n",
    "for title, price, rating in zip(titles, prices, ratings):\n",
    "    with open('vinData.csv', 'w', encoding='UTF8') as f:\n",
    "        writer = csv.writer(f)\n",
    "        data = [title.text, price.text, rating.text]\n",
    "        writer.writerow(data)\n",
    "    \n",
    "print(data)"
   ]
  }
 ],
 "metadata": {
  "kernelspec": {
   "display_name": "Python 3",
   "language": "python",
   "name": "python3"
  },
  "language_info": {
   "codemirror_mode": {
    "name": "ipython",
    "version": 3
   },
   "file_extension": ".py",
   "mimetype": "text/x-python",
   "name": "python",
   "nbconvert_exporter": "python",
   "pygments_lexer": "ipython3",
   "version": "3.7.6"
  }
 },
 "nbformat": 4,
 "nbformat_minor": 4
}
