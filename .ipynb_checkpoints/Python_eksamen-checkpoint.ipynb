{
 "cells": [
  {
   "cell_type": "code",
   "execution_count": 30,
   "metadata": {},
   "outputs": [],
   "source": [
    "from selenium import webdriver\n",
    "from selenium.webdriver.common.by import By\n",
    "from selenium.webdriver.support.ui import WebDriverWait\n",
    "from selenium.webdriver.support import expected_conditions as EC\n",
    "from selenium.webdriver.firefox.options import Options\n",
    "import pandas as pd\n",
    "import csv\n",
    "import re\n",
    "import time"
   ]
  },
  {
   "cell_type": "code",
   "execution_count": 39,
   "metadata": {},
   "outputs": [],
   "source": [
    "def scroll(driver, timeout, loops):\n",
    "    scroll_pause_time = timeout\n",
    "\n",
    "    last_height = driver.execute_script(\"return document.body.scrollHeight\")\n",
    "    num = 0\n",
    "    \n",
    "    while True and num < loops:\n",
    "        driver.execute_script(\"window.scrollTo(0, document.body.scrollHeight);\")\n",
    "        num = num + 1\n",
    "        time.sleep(scroll_pause_time)\n",
    "        new_height = driver.execute_script(\"return document.body.scrollHeight\")\n",
    "        if new_height == last_height:\n",
    "            break\n",
    "        last_height = new_height"
   ]
  },
  {
   "cell_type": "code",
   "execution_count": 40,
   "metadata": {},
   "outputs": [
    {
     "name": "stdout",
     "output_type": "stream",
     "text": [
      "['Malbec 2018', '2018', '115', '3.7']\n",
      "2018\n"
     ]
    }
   ],
   "source": [
    "url = 'https://www.vivino.com/explore?e=eJwdijsOgCAQBW_zaqDfzo4jGGPWFQmJgAH83V5iM1PMxEIaMSRSiPyQ0UpBXhospMPi6NlvdHEJrvGOvFDhFpKvs-QzNWRaXRXcbZz6-st8itQcHw%3D%3D'\n",
    "product_names = []\n",
    "profile = webdriver.FirefoxProfile()\n",
    "profile.set_preference(\"general.useragent.override\", \"Mozilla/5.0 (X11; Ubuntu; Linux x86_64; rv:81.0) Gecko/20100101 Firefox/81.0\")\n",
    "options = Options()\n",
    "options.headless = True\n",
    "browser = webdriver.Firefox(options=options)\n",
    "options.add_argument(\"start-maximized\")\n",
    "options.add_argument('disable-infobars')\n",
    "browser.get(url)\n",
    "\n",
    "loops = 5\n",
    "timeout = 5\n",
    "scroll(browser, timeout, loops)\n",
    "\n",
    "titles = browser.find_elements_by_class_name('vintageTitle__wine--U7t9G')\n",
    "prices = browser.find_elements_by_xpath(\"(//*[contains(@class, 'addToCartButton__price')])\")\n",
    "ratings = browser.find_elements_by_class_name('vivinoRating__averageValue--3Navj')\n",
    "countries = browser.find_elements_by_class_name('anchor__anchor--3DOSm wineLocationHeader__country--1RcW2')\n",
    "\n",
    "#for price in prices:\n",
    "#    print('price:',price.text)\n",
    "for title, price, rating, country in zip(titles, prices, ratings, countries):\n",
    "    with open('vinData.csv', 'a', encoding='UTF8') as f:\n",
    "        writer = csv.writer(f)\n",
    "        date = 9999\n",
    "        line = re.findall(r'\\d+', title.text)\n",
    "        \n",
    "        if(len(line)>0):\n",
    "            for l in line:\n",
    "                if(len(str(l)) == 4):\n",
    "                    date = l\n",
    "                    \n",
    "        data = [title.text, date, price.text.split(\"\\n\", 1)[0], rating.text, country.text]\n",
    "        writer.writerow(data)\n",
    "                                   \n",
    "print(data)\n",
    "print(line[-1])"
   ]
  }
 ],
 "metadata": {
  "kernelspec": {
   "display_name": "Python 3",
   "language": "python",
   "name": "python3"
  },
  "language_info": {
   "codemirror_mode": {
    "name": "ipython",
    "version": 3
   },
   "file_extension": ".py",
   "mimetype": "text/x-python",
   "name": "python",
   "nbconvert_exporter": "python",
   "pygments_lexer": "ipython3",
   "version": "3.7.6"
  }
 },
 "nbformat": 4,
 "nbformat_minor": 4
}
