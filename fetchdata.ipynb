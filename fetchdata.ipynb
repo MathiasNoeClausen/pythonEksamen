{
 "cells": [
  {
   "cell_type": "code",
   "execution_count": 1,
   "metadata": {},
   "outputs": [],
   "source": [
    "from selenium import webdriver\n",
    "from selenium.webdriver.common.by import By\n",
    "from selenium.webdriver.support.ui import WebDriverWait\n",
    "from selenium.webdriver.support import expected_conditions as EC\n",
    "from selenium.webdriver.firefox.options import Options\n",
    "import numpy as np\n",
    "import matplotlib.pyplot as plt\n",
    "import pandas as pd\n",
    "import csv\n",
    "import re\n",
    "import time\n",
    "import seaborn as sns"
   ]
  },
  {
   "cell_type": "code",
   "execution_count": 2,
   "metadata": {},
   "outputs": [],
   "source": [
    "def scroll(driver, timeout, loops):\n",
    "    scroll_pause_time = timeout\n",
    "\n",
    "    last_height = driver.execute_script(\"return document.body.scrollHeight\")\n",
    "    num = 0\n",
    "    \n",
    "    while True and num < loops:\n",
    "        driver.execute_script(\"window.scrollTo(0, document.body.scrollHeight);\")\n",
    "        num = num + 1\n",
    "        time.sleep(scroll_pause_time)\n",
    "        new_height = driver.execute_script(\"return document.body.scrollHeight\")\n",
    "        if new_height == last_height:\n",
    "            break\n",
    "        last_height = new_height"
   ]
  },
  {
   "cell_type": "code",
   "execution_count": 11,
   "metadata": {},
   "outputs": [],
   "source": [
    "def scrape_red():\n",
    "    url = 'https://www.vivino.com/explore?e=eJzLLbI11jNVy83MszVQy02ssDUyNjBQS660dfFWSwYS3moFtoZq6Wm2ZYlFmakliTlq-Um2avm2auUl0bG2hgBUlRMv'\n",
    "    product_names = []\n",
    "    profile = webdriver.FirefoxProfile()\n",
    "    profile.set_preference(\"general.useragent.override\", \"Mozilla/5.0 (X11; Ubuntu; Linux x86_64; rv:81.0) Gecko/20100101 Firefox/81.0\")\n",
    "    options = Options()\n",
    "    options.headless = True\n",
    "    browser = webdriver.Firefox(options=options)\n",
    "    options.add_argument(\"start-maximized\")\n",
    "    options.add_argument('disable-infobars')\n",
    "    browser.get(url)\n",
    "\n",
    "    loops = 2\n",
    "    timeout = 5\n",
    "    scroll(browser, timeout, loops)\n",
    "\n",
    "    titles = browser.find_elements_by_class_name('vintageTitle__wine--U7t9G')\n",
    "    prices = browser.find_elements_by_xpath(\"(//*[contains(@class, 'addToCartButton__price')])\")\n",
    "    ratings = browser.find_elements_by_class_name('vivinoRating__averageValue--3Navj')\n",
    "    reviews = browser.find_elements_by_class_name('vivinoRating__caption--3tZeS')\n",
    "    countries = browser.find_elements_by_xpath('//a[contains(@href, \"/explore?country_code\")]')\n",
    "#for price in prices:\n",
    "#    print('price:',price.text)\n",
    "    for title, price, rating, review, country in zip(titles, prices, ratings, reviews, countries):\n",
    "        with open('redwinedata.csv', 'a', encoding='UTF8') as f:\n",
    "            writer = csv.writer(f)\n",
    "            date = 9999\n",
    "            line = re.findall(r'\\d+', title.text)\n",
    "        \n",
    "            if(len(line)>0):\n",
    "                for l in line:\n",
    "                    if(len(str(l)) == 4):\n",
    "                        date = l\n",
    "                    \n",
    "            data = [title.text, date, price.text.split(\"\\n\", 1)[0], rating.text, review.text.split(\" \", 1)[0], country.text]\n",
    "            writer.writerow(data)"
   ]
  },
  {
   "cell_type": "code",
   "execution_count": 10,
   "metadata": {},
   "outputs": [],
   "source": [
    "def scrape_white():\n",
    "    url = 'https://www.vivino.com/explore?e=eJzLLbI11jNVy83MszVQy02ssDUyNjBQS660dfFWSwYS3moFtoZq6Wm2ZYlFmakliTlq-Um2avm2auUl0bG2RgBUlhMw'\n",
    "    product_names = []\n",
    "    profile = webdriver.FirefoxProfile()\n",
    "    profile.set_preference(\"general.useragent.override\", \"Mozilla/5.0 (X11; Ubuntu; Linux x86_64; rv:81.0) Gecko/20100101 Firefox/81.0\")\n",
    "    options = Options()\n",
    "    options.headless = True\n",
    "    browser = webdriver.Firefox(options=options)\n",
    "    options.add_argument(\"start-maximized\")\n",
    "    options.add_argument('disable-infobars')\n",
    "    browser.get(url)\n",
    "\n",
    "    loops = 2\n",
    "    timeout = 5\n",
    "    scroll(browser, timeout, loops)\n",
    "\n",
    "    titles = browser.find_elements_by_class_name('vintageTitle__wine--U7t9G')\n",
    "    prices = browser.find_elements_by_xpath(\"(//*[contains(@class, 'addToCartButton__price')])\")\n",
    "    ratings = browser.find_elements_by_class_name('vivinoRating__averageValue--3Navj')\n",
    "    reviews = browser.find_elements_by_class_name('vivinoRating__caption--3tZeS')\n",
    "    countries = browser.find_elements_by_xpath('//a[contains(@href, \"/explore?country_code\")]')\n",
    "#for price in prices:\n",
    "#    print('price:',price.text)\n",
    "    for title, price, rating, review, country in zip(titles, prices, ratings, reviews, countries):\n",
    "        with open('whitewinedata.csv', 'a', encoding='UTF8') as f:\n",
    "            writer = csv.writer(f)\n",
    "            date = 9999\n",
    "            line = re.findall(r'\\d+', title.text)\n",
    "        \n",
    "            if(len(line)>0):\n",
    "                for l in line:\n",
    "                    if(len(str(l)) == 4):\n",
    "                        date = l\n",
    "                    \n",
    "            data = [title.text, date, price.text.split(\"\\n\", 1)[0], rating.text, review.text.split(\" \", 1)[0], country.text]\n",
    "            writer.writerow(data)"
   ]
  },
  {
   "cell_type": "code",
   "execution_count": 9,
   "metadata": {},
   "outputs": [],
   "source": [
    "def scrape_sparkling():\n",
    "    url = 'https://www.vivino.com/explore?e=eJzLLbI11jNVy83MszVQy02ssDUyNjBQS660dfFWSwYS3moFtoZq6Wm2ZYlFmakliTlq-Um2avm2auUl0bG2xgBUlxMx'\n",
    "    product_names = []\n",
    "    profile = webdriver.FirefoxProfile()\n",
    "    profile.set_preference(\"general.useragent.override\", \"Mozilla/5.0 (X11; Ubuntu; Linux x86_64; rv:81.0) Gecko/20100101 Firefox/81.0\")\n",
    "    options = Options()\n",
    "    options.headless = True\n",
    "    browser = webdriver.Firefox(options=options)\n",
    "    options.add_argument(\"start-maximized\")\n",
    "    options.add_argument('disable-infobars')\n",
    "    browser.get(url)\n",
    "\n",
    "    loops = 2\n",
    "    timeout = 5\n",
    "    scroll(browser, timeout, loops)\n",
    "\n",
    "    titles = browser.find_elements_by_class_name('vintageTitle__wine--U7t9G')\n",
    "    prices = browser.find_elements_by_xpath(\"(//*[contains(@class, 'addToCartButton__price')])\")\n",
    "    ratings = browser.find_elements_by_class_name('vivinoRating__averageValue--3Navj')\n",
    "    reviews = browser.find_elements_by_class_name('vivinoRating__caption--3tZeS')\n",
    "    countries = browser.find_elements_by_xpath('//a[contains(@href, \"/explore?country_code\")]')\n",
    "#for price in prices:\n",
    "#    print('price:',price.text)\n",
    "    for title, price, rating, review, country in zip(titles, prices, ratings, reviews, countries):\n",
    "        with open('sparklingwinedata.csv', 'a', encoding='UTF8') as f:\n",
    "            writer = csv.writer(f)\n",
    "            date = 9999\n",
    "            line = re.findall(r'\\d+', title.text)\n",
    "        \n",
    "            if(len(line)>0):\n",
    "                for l in line:\n",
    "                    if(len(str(l)) == 4):\n",
    "                        date = l\n",
    "                    \n",
    "            data = [title.text, date, price.text.split(\"\\n\", 1)[0], rating.text, review.text.split(\" \", 1)[0], country.text]\n",
    "            writer.writerow(data)"
   ]
  },
  {
   "cell_type": "code",
   "execution_count": 105,
   "metadata": {},
   "outputs": [
    {
     "data": {
      "text/html": [
       "<div>\n",
       "<style scoped>\n",
       "    .dataframe tbody tr th:only-of-type {\n",
       "        vertical-align: middle;\n",
       "    }\n",
       "\n",
       "    .dataframe tbody tr th {\n",
       "        vertical-align: top;\n",
       "    }\n",
       "\n",
       "    .dataframe thead th {\n",
       "        text-align: right;\n",
       "    }\n",
       "</style>\n",
       "<table border=\"1\" class=\"dataframe\">\n",
       "  <thead>\n",
       "    <tr style=\"text-align: right;\">\n",
       "      <th></th>\n",
       "      <th>Year</th>\n",
       "      <th>Price</th>\n",
       "      <th>Rating</th>\n",
       "      <th>Review</th>\n",
       "    </tr>\n",
       "  </thead>\n",
       "  <tbody>\n",
       "    <tr>\n",
       "      <th>count</th>\n",
       "      <td>75.000000</td>\n",
       "      <td>75.000000</td>\n",
       "      <td>75.000000</td>\n",
       "      <td>75.000000</td>\n",
       "    </tr>\n",
       "    <tr>\n",
       "      <th>mean</th>\n",
       "      <td>2013.253333</td>\n",
       "      <td>1243.586000</td>\n",
       "      <td>4.634667</td>\n",
       "      <td>778.040000</td>\n",
       "    </tr>\n",
       "    <tr>\n",
       "      <th>std</th>\n",
       "      <td>5.314675</td>\n",
       "      <td>590.062996</td>\n",
       "      <td>0.055734</td>\n",
       "      <td>1816.935528</td>\n",
       "    </tr>\n",
       "    <tr>\n",
       "      <th>min</th>\n",
       "      <td>1982.000000</td>\n",
       "      <td>299.000000</td>\n",
       "      <td>4.600000</td>\n",
       "      <td>26.000000</td>\n",
       "    </tr>\n",
       "    <tr>\n",
       "      <th>25%</th>\n",
       "      <td>2012.500000</td>\n",
       "      <td>672.000000</td>\n",
       "      <td>4.600000</td>\n",
       "      <td>112.500000</td>\n",
       "    </tr>\n",
       "    <tr>\n",
       "      <th>50%</th>\n",
       "      <td>2015.000000</td>\n",
       "      <td>1199.950000</td>\n",
       "      <td>4.600000</td>\n",
       "      <td>258.000000</td>\n",
       "    </tr>\n",
       "    <tr>\n",
       "      <th>75%</th>\n",
       "      <td>2016.000000</td>\n",
       "      <td>1734.975000</td>\n",
       "      <td>4.700000</td>\n",
       "      <td>552.500000</td>\n",
       "    </tr>\n",
       "    <tr>\n",
       "      <th>max</th>\n",
       "      <td>2018.000000</td>\n",
       "      <td>2299.950000</td>\n",
       "      <td>4.800000</td>\n",
       "      <td>13942.000000</td>\n",
       "    </tr>\n",
       "  </tbody>\n",
       "</table>\n",
       "</div>"
      ],
      "text/plain": [
       "              Year        Price     Rating        Review\n",
       "count    75.000000    75.000000  75.000000     75.000000\n",
       "mean   2013.253333  1243.586000   4.634667    778.040000\n",
       "std       5.314675   590.062996   0.055734   1816.935528\n",
       "min    1982.000000   299.000000   4.600000     26.000000\n",
       "25%    2012.500000   672.000000   4.600000    112.500000\n",
       "50%    2015.000000  1199.950000   4.600000    258.000000\n",
       "75%    2016.000000  1734.975000   4.700000    552.500000\n",
       "max    2018.000000  2299.950000   4.800000  13942.000000"
      ]
     },
     "execution_count": 105,
     "metadata": {},
     "output_type": "execute_result"
    }
   ],
   "source": [
    "red_df = pd.read_csv('redwinedata.csv', names=[\"Name\", \"Year\", \"Price\", \"Rating\", \"Review\", \"Country\"])\n",
    "#red_df.drop(red_df[red_df.Review < 112].index, inplace=False)\n",
    "red_df.describe()"
   ]
  },
  {
   "cell_type": "code",
   "execution_count": 106,
   "metadata": {},
   "outputs": [
    {
     "data": {
      "text/html": [
       "<div>\n",
       "<style scoped>\n",
       "    .dataframe tbody tr th:only-of-type {\n",
       "        vertical-align: middle;\n",
       "    }\n",
       "\n",
       "    .dataframe tbody tr th {\n",
       "        vertical-align: top;\n",
       "    }\n",
       "\n",
       "    .dataframe thead th {\n",
       "        text-align: right;\n",
       "    }\n",
       "</style>\n",
       "<table border=\"1\" class=\"dataframe\">\n",
       "  <thead>\n",
       "    <tr style=\"text-align: right;\">\n",
       "      <th></th>\n",
       "      <th>Year</th>\n",
       "      <th>Price</th>\n",
       "      <th>Rating</th>\n",
       "      <th>Review</th>\n",
       "    </tr>\n",
       "  </thead>\n",
       "  <tbody>\n",
       "    <tr>\n",
       "      <th>count</th>\n",
       "      <td>75.000000</td>\n",
       "      <td>75.000000</td>\n",
       "      <td>75.000000</td>\n",
       "      <td>75.000000</td>\n",
       "    </tr>\n",
       "    <tr>\n",
       "      <th>mean</th>\n",
       "      <td>2015.813333</td>\n",
       "      <td>792.245333</td>\n",
       "      <td>4.458667</td>\n",
       "      <td>151.253333</td>\n",
       "    </tr>\n",
       "    <tr>\n",
       "      <th>std</th>\n",
       "      <td>2.507790</td>\n",
       "      <td>486.647653</td>\n",
       "      <td>0.071836</td>\n",
       "      <td>164.153035</td>\n",
       "    </tr>\n",
       "    <tr>\n",
       "      <th>min</th>\n",
       "      <td>2005.000000</td>\n",
       "      <td>109.000000</td>\n",
       "      <td>4.400000</td>\n",
       "      <td>27.000000</td>\n",
       "    </tr>\n",
       "    <tr>\n",
       "      <th>25%</th>\n",
       "      <td>2015.000000</td>\n",
       "      <td>452.475000</td>\n",
       "      <td>4.400000</td>\n",
       "      <td>65.000000</td>\n",
       "    </tr>\n",
       "    <tr>\n",
       "      <th>50%</th>\n",
       "      <td>2016.000000</td>\n",
       "      <td>650.000000</td>\n",
       "      <td>4.400000</td>\n",
       "      <td>93.000000</td>\n",
       "    </tr>\n",
       "    <tr>\n",
       "      <th>75%</th>\n",
       "      <td>2018.000000</td>\n",
       "      <td>995.000000</td>\n",
       "      <td>4.500000</td>\n",
       "      <td>180.500000</td>\n",
       "    </tr>\n",
       "    <tr>\n",
       "      <th>max</th>\n",
       "      <td>2019.000000</td>\n",
       "      <td>2299.950000</td>\n",
       "      <td>4.700000</td>\n",
       "      <td>897.000000</td>\n",
       "    </tr>\n",
       "  </tbody>\n",
       "</table>\n",
       "</div>"
      ],
      "text/plain": [
       "              Year        Price     Rating      Review\n",
       "count    75.000000    75.000000  75.000000   75.000000\n",
       "mean   2015.813333   792.245333   4.458667  151.253333\n",
       "std       2.507790   486.647653   0.071836  164.153035\n",
       "min    2005.000000   109.000000   4.400000   27.000000\n",
       "25%    2015.000000   452.475000   4.400000   65.000000\n",
       "50%    2016.000000   650.000000   4.400000   93.000000\n",
       "75%    2018.000000   995.000000   4.500000  180.500000\n",
       "max    2019.000000  2299.950000   4.700000  897.000000"
      ]
     },
     "execution_count": 106,
     "metadata": {},
     "output_type": "execute_result"
    }
   ],
   "source": [
    "white_df = pd.read_csv('whitewinedata.csv', names=[\"Name\", \"Year\", \"Price\", \"Rating\", \"Review\", \"Country\"])\n",
    "#white_df.drop(white_df[white_df.Review < 65].index, inplace=False)\n",
    "white_df.describe()"
   ]
  },
  {
   "cell_type": "code",
   "execution_count": 107,
   "metadata": {
    "scrolled": true
   },
   "outputs": [
    {
     "data": {
      "text/html": [
       "<div>\n",
       "<style scoped>\n",
       "    .dataframe tbody tr th:only-of-type {\n",
       "        vertical-align: middle;\n",
       "    }\n",
       "\n",
       "    .dataframe tbody tr th {\n",
       "        vertical-align: top;\n",
       "    }\n",
       "\n",
       "    .dataframe thead th {\n",
       "        text-align: right;\n",
       "    }\n",
       "</style>\n",
       "<table border=\"1\" class=\"dataframe\">\n",
       "  <thead>\n",
       "    <tr style=\"text-align: right;\">\n",
       "      <th></th>\n",
       "      <th>Year</th>\n",
       "      <th>Price</th>\n",
       "      <th>Rating</th>\n",
       "      <th>Review</th>\n",
       "    </tr>\n",
       "  </thead>\n",
       "  <tbody>\n",
       "    <tr>\n",
       "      <th>count</th>\n",
       "      <td>75.000000</td>\n",
       "      <td>75.000000</td>\n",
       "      <td>75.000000</td>\n",
       "      <td>75.000000</td>\n",
       "    </tr>\n",
       "    <tr>\n",
       "      <th>mean</th>\n",
       "      <td>3712.413333</td>\n",
       "      <td>1054.647333</td>\n",
       "      <td>4.446667</td>\n",
       "      <td>3735.920000</td>\n",
       "    </tr>\n",
       "    <tr>\n",
       "      <th>std</th>\n",
       "      <td>3295.823041</td>\n",
       "      <td>543.189631</td>\n",
       "      <td>0.111904</td>\n",
       "      <td>12824.579678</td>\n",
       "    </tr>\n",
       "    <tr>\n",
       "      <th>min</th>\n",
       "      <td>1998.000000</td>\n",
       "      <td>89.000000</td>\n",
       "      <td>4.300000</td>\n",
       "      <td>27.000000</td>\n",
       "    </tr>\n",
       "    <tr>\n",
       "      <th>25%</th>\n",
       "      <td>2006.000000</td>\n",
       "      <td>572.000000</td>\n",
       "      <td>4.300000</td>\n",
       "      <td>95.500000</td>\n",
       "    </tr>\n",
       "    <tr>\n",
       "      <th>50%</th>\n",
       "      <td>2008.000000</td>\n",
       "      <td>995.000000</td>\n",
       "      <td>4.500000</td>\n",
       "      <td>572.000000</td>\n",
       "    </tr>\n",
       "    <tr>\n",
       "      <th>75%</th>\n",
       "      <td>2013.000000</td>\n",
       "      <td>1424.500000</td>\n",
       "      <td>4.500000</td>\n",
       "      <td>1745.500000</td>\n",
       "    </tr>\n",
       "    <tr>\n",
       "      <th>max</th>\n",
       "      <td>9999.000000</td>\n",
       "      <td>2299.000000</td>\n",
       "      <td>4.600000</td>\n",
       "      <td>103806.000000</td>\n",
       "    </tr>\n",
       "  </tbody>\n",
       "</table>\n",
       "</div>"
      ],
      "text/plain": [
       "              Year        Price     Rating         Review\n",
       "count    75.000000    75.000000  75.000000      75.000000\n",
       "mean   3712.413333  1054.647333   4.446667    3735.920000\n",
       "std    3295.823041   543.189631   0.111904   12824.579678\n",
       "min    1998.000000    89.000000   4.300000      27.000000\n",
       "25%    2006.000000   572.000000   4.300000      95.500000\n",
       "50%    2008.000000   995.000000   4.500000     572.000000\n",
       "75%    2013.000000  1424.500000   4.500000    1745.500000\n",
       "max    9999.000000  2299.000000   4.600000  103806.000000"
      ]
     },
     "execution_count": 107,
     "metadata": {},
     "output_type": "execute_result"
    }
   ],
   "source": [
    "sparkling_df = pd.read_csv('sparklingwinedata.csv', names=[\"Name\", \"Year\", \"Price\", \"Rating\", \"Review\", \"Country\"])\n",
    "#sparkling_df.drop(sparkling_df[sparkling_df.Review < 95].index, inplace=False)\n",
    "sparkling_df.describe()"
   ]
  },
  {
   "cell_type": "code",
   "execution_count": 99,
   "metadata": {},
   "outputs": [
    {
     "name": "stdout",
     "output_type": "stream",
     "text": [
      "Requirement already satisfied: ipynb in /opt/conda/lib/python3.7/site-packages (0.5.1)\r\n"
     ]
    }
   ],
   "source": [
    "!pip install ipynb\n",
    "from ipynb.fs.full.Plot_rating import plot_rating, describe"
   ]
  },
  {
   "cell_type": "code",
   "execution_count": 100,
   "metadata": {},
   "outputs": [
    {
     "name": "stdout",
     "output_type": "stream",
     "text": [
      "Lowest rated Country    Argentina\n",
      "Rating           4.6\n",
      "dtype: object \n",
      "\n",
      "Median rated Rating    4.657143\n",
      "dtype: float64 \n",
      "\n",
      "Highest rated  Country    United States\n",
      "Rating               4.7\n",
      "dtype: object \n",
      "\n"
     ]
    },
    {
     "data": {
      "image/png": "[encoded data removed]",
      "text/plain": [
       "<Figure size 1080x720 with 1 Axes>"
      ]
     },
     "metadata": {
      "needs_background": "light"
     },
     "output_type": "display_data"
    }
   ],
   "source": [
    "red_df = pd.read_csv('redwinedata.csv', names=[\"Name\", \"Year\", \"Price\", \"Rating\", \"Review\", \"Country\"])\n",
    "red_df.drop(red_df[red_df.Review < 112].index, inplace=False)\n",
    "plot_rating(red_df)"
   ]
  },
  {
   "cell_type": "code",
   "execution_count": 101,
   "metadata": {
    "scrolled": true
   },
   "outputs": [
    {
     "name": "stdout",
     "output_type": "stream",
     "text": [
      "Lowest rated Country   NaN\n",
      "Rating    NaN\n",
      "dtype: float64 \n",
      "\n",
      "Median rated Country   NaN\n",
      "Rating    NaN\n",
      "dtype: float64 \n",
      "\n",
      "Highest rated  Country   NaN\n",
      "Rating    NaN\n",
      "dtype: float64 \n",
      "\n"
     ]
    },
    {
     "ename": "IndexError",
     "evalue": "index 0 is out of bounds for axis 0 with size 0",
     "output_type": "error",
     "traceback": [
      "\u001b[0;31m---------------------------------------------------------------------------\u001b[0m",
      "\u001b[0;31mIndexError\u001b[0m                                Traceback (most recent call last)",
      "\u001b[0;32m<ipython-input-101-9fa2d047bc93>\u001b[0m in \u001b[0;36m<module>\u001b[0;34m\u001b[0m\n\u001b[1;32m      1\u001b[0m \u001b[0mwhite\u001b[0m \u001b[0;34m=\u001b[0m \u001b[0mwhite_df\u001b[0m\u001b[0;34m.\u001b[0m\u001b[0mcopy\u001b[0m\u001b[0;34m(\u001b[0m\u001b[0;34m)\u001b[0m\u001b[0;34m\u001b[0m\u001b[0;34m\u001b[0m\u001b[0m\n\u001b[1;32m      2\u001b[0m \u001b[0;31m#white\u001b[0m\u001b[0;34m\u001b[0m\u001b[0;34m\u001b[0m\u001b[0;34m\u001b[0m\u001b[0m\n\u001b[0;32m----> 3\u001b[0;31m \u001b[0mplot_rating\u001b[0m\u001b[0;34m(\u001b[0m\u001b[0mwhite\u001b[0m\u001b[0;34m)\u001b[0m\u001b[0;34m\u001b[0m\u001b[0;34m\u001b[0m\u001b[0m\n\u001b[0m",
      "\u001b[0;32m~/pythonEksamen2/Plot_rating.ipynb\u001b[0m in \u001b[0;36mplot_rating\u001b[0;34m(df)\u001b[0m\n\u001b[1;32m    103\u001b[0m    \"outputs\": [\n\u001b[1;32m    104\u001b[0m     {\n\u001b[0;32m--> 105\u001b[0;31m      \"data\": {\n\u001b[0m\u001b[1;32m    106\u001b[0m       \"text/html\": [\n\u001b[1;32m    107\u001b[0m        \u001b[0;34m\"<div>\\n\"\u001b[0m\u001b[0;34m,\u001b[0m\u001b[0;34m\u001b[0m\u001b[0;34m\u001b[0m\u001b[0m\n",
      "\u001b[0;32m/opt/conda/lib/python3.7/site-packages/pandas/plotting/_core.py\u001b[0m in \u001b[0;36m__call__\u001b[0;34m(self, *args, **kwargs)\u001b[0m\n\u001b[1;32m    845\u001b[0m                     \u001b[0mdata\u001b[0m\u001b[0;34m.\u001b[0m\u001b[0mcolumns\u001b[0m \u001b[0;34m=\u001b[0m \u001b[0mlabel_name\u001b[0m\u001b[0;34m\u001b[0m\u001b[0;34m\u001b[0m\u001b[0m\n\u001b[1;32m    846\u001b[0m \u001b[0;34m\u001b[0m\u001b[0m\n\u001b[0;32m--> 847\u001b[0;31m         \u001b[0;32mreturn\u001b[0m \u001b[0mplot_backend\u001b[0m\u001b[0;34m.\u001b[0m\u001b[0mplot\u001b[0m\u001b[0;34m(\u001b[0m\u001b[0mdata\u001b[0m\u001b[0;34m,\u001b[0m \u001b[0mkind\u001b[0m\u001b[0;34m=\u001b[0m\u001b[0mkind\u001b[0m\u001b[0;34m,\u001b[0m \u001b[0;34m**\u001b[0m\u001b[0mkwargs\u001b[0m\u001b[0;34m)\u001b[0m\u001b[0;34m\u001b[0m\u001b[0;34m\u001b[0m\u001b[0m\n\u001b[0m\u001b[1;32m    848\u001b[0m \u001b[0;34m\u001b[0m\u001b[0m\n\u001b[1;32m    849\u001b[0m     \u001b[0m__call__\u001b[0m\u001b[0;34m.\u001b[0m\u001b[0m__doc__\u001b[0m \u001b[0;34m=\u001b[0m \u001b[0m__doc__\u001b[0m\u001b[0;34m\u001b[0m\u001b[0;34m\u001b[0m\u001b[0m\n",
      "\u001b[0;32m/opt/conda/lib/python3.7/site-packages/pandas/plotting/_matplotlib/__init__.py\u001b[0m in \u001b[0;36mplot\u001b[0;34m(data, kind, **kwargs)\u001b[0m\n\u001b[1;32m     59\u001b[0m             \u001b[0mkwargs\u001b[0m\u001b[0;34m[\u001b[0m\u001b[0;34m\"ax\"\u001b[0m\u001b[0;34m]\u001b[0m \u001b[0;34m=\u001b[0m \u001b[0mgetattr\u001b[0m\u001b[0;34m(\u001b[0m\u001b[0max\u001b[0m\u001b[0;34m,\u001b[0m \u001b[0;34m\"left_ax\"\u001b[0m\u001b[0;34m,\u001b[0m \u001b[0max\u001b[0m\u001b[0;34m)\u001b[0m\u001b[0;34m\u001b[0m\u001b[0;34m\u001b[0m\u001b[0m\n\u001b[1;32m     60\u001b[0m     \u001b[0mplot_obj\u001b[0m \u001b[0;34m=\u001b[0m \u001b[0mPLOT_CLASSES\u001b[0m\u001b[0;34m[\u001b[0m\u001b[0mkind\u001b[0m\u001b[0;34m]\u001b[0m\u001b[0;34m(\u001b[0m\u001b[0mdata\u001b[0m\u001b[0;34m,\u001b[0m \u001b[0;34m**\u001b[0m\u001b[0mkwargs\u001b[0m\u001b[0;34m)\u001b[0m\u001b[0;34m\u001b[0m\u001b[0;34m\u001b[0m\u001b[0m\n\u001b[0;32m---> 61\u001b[0;31m     \u001b[0mplot_obj\u001b[0m\u001b[0;34m.\u001b[0m\u001b[0mgenerate\u001b[0m\u001b[0;34m(\u001b[0m\u001b[0;34m)\u001b[0m\u001b[0;34m\u001b[0m\u001b[0;34m\u001b[0m\u001b[0m\n\u001b[0m\u001b[1;32m     62\u001b[0m     \u001b[0mplot_obj\u001b[0m\u001b[0;34m.\u001b[0m\u001b[0mdraw\u001b[0m\u001b[0;34m(\u001b[0m\u001b[0;34m)\u001b[0m\u001b[0;34m\u001b[0m\u001b[0;34m\u001b[0m\u001b[0m\n\u001b[1;32m     63\u001b[0m     \u001b[0;32mreturn\u001b[0m \u001b[0mplot_obj\u001b[0m\u001b[0;34m.\u001b[0m\u001b[0mresult\u001b[0m\u001b[0;34m\u001b[0m\u001b[0;34m\u001b[0m\u001b[0m\n",
      "\u001b[0;32m/opt/conda/lib/python3.7/site-packages/pandas/plotting/_matplotlib/core.py\u001b[0m in \u001b[0;36mgenerate\u001b[0;34m(self)\u001b[0m\n\u001b[1;32m    268\u001b[0m         \u001b[0;32mfor\u001b[0m \u001b[0max\u001b[0m \u001b[0;32min\u001b[0m \u001b[0mself\u001b[0m\u001b[0;34m.\u001b[0m\u001b[0maxes\u001b[0m\u001b[0;34m:\u001b[0m\u001b[0;34m\u001b[0m\u001b[0;34m\u001b[0m\u001b[0m\n\u001b[1;32m    269\u001b[0m             \u001b[0mself\u001b[0m\u001b[0;34m.\u001b[0m\u001b[0m_post_plot_logic_common\u001b[0m\u001b[0;34m(\u001b[0m\u001b[0max\u001b[0m\u001b[0;34m,\u001b[0m \u001b[0mself\u001b[0m\u001b[0;34m.\u001b[0m\u001b[0mdata\u001b[0m\u001b[0;34m)\u001b[0m\u001b[0;34m\u001b[0m\u001b[0;34m\u001b[0m\u001b[0m\n\u001b[0;32m--> 270\u001b[0;31m             \u001b[0mself\u001b[0m\u001b[0;34m.\u001b[0m\u001b[0m_post_plot_logic\u001b[0m\u001b[0;34m(\u001b[0m\u001b[0max\u001b[0m\u001b[0;34m,\u001b[0m \u001b[0mself\u001b[0m\u001b[0;34m.\u001b[0m\u001b[0mdata\u001b[0m\u001b[0;34m)\u001b[0m\u001b[0;34m\u001b[0m\u001b[0;34m\u001b[0m\u001b[0m\n\u001b[0m\u001b[1;32m    271\u001b[0m \u001b[0;34m\u001b[0m\u001b[0m\n\u001b[1;32m    272\u001b[0m     \u001b[0;32mdef\u001b[0m \u001b[0m_args_adjust\u001b[0m\u001b[0;34m(\u001b[0m\u001b[0mself\u001b[0m\u001b[0;34m)\u001b[0m\u001b[0;34m:\u001b[0m\u001b[0;34m\u001b[0m\u001b[0;34m\u001b[0m\u001b[0m\n",
      "\u001b[0;32m/opt/conda/lib/python3.7/site-packages/pandas/plotting/_matplotlib/core.py\u001b[0m in \u001b[0;36m_post_plot_logic\u001b[0;34m(self, ax, data)\u001b[0m\n\u001b[1;32m   1414\u001b[0m         \u001b[0mname\u001b[0m \u001b[0;34m=\u001b[0m \u001b[0mself\u001b[0m\u001b[0;34m.\u001b[0m\u001b[0m_get_index_name\u001b[0m\u001b[0;34m(\u001b[0m\u001b[0;34m)\u001b[0m\u001b[0;34m\u001b[0m\u001b[0;34m\u001b[0m\u001b[0m\n\u001b[1;32m   1415\u001b[0m \u001b[0;34m\u001b[0m\u001b[0m\n\u001b[0;32m-> 1416\u001b[0;31m         \u001b[0ms_edge\u001b[0m \u001b[0;34m=\u001b[0m \u001b[0mself\u001b[0m\u001b[0;34m.\u001b[0m\u001b[0max_pos\u001b[0m\u001b[0;34m[\u001b[0m\u001b[0;36m0\u001b[0m\u001b[0;34m]\u001b[0m \u001b[0;34m-\u001b[0m \u001b[0;36m0.25\u001b[0m \u001b[0;34m+\u001b[0m \u001b[0mself\u001b[0m\u001b[0;34m.\u001b[0m\u001b[0mlim_offset\u001b[0m\u001b[0;34m\u001b[0m\u001b[0;34m\u001b[0m\u001b[0m\n\u001b[0m\u001b[1;32m   1417\u001b[0m         \u001b[0me_edge\u001b[0m \u001b[0;34m=\u001b[0m \u001b[0mself\u001b[0m\u001b[0;34m.\u001b[0m\u001b[0max_pos\u001b[0m\u001b[0;34m[\u001b[0m\u001b[0;34m-\u001b[0m\u001b[0;36m1\u001b[0m\u001b[0;34m]\u001b[0m \u001b[0;34m+\u001b[0m \u001b[0;36m0.25\u001b[0m \u001b[0;34m+\u001b[0m \u001b[0mself\u001b[0m\u001b[0;34m.\u001b[0m\u001b[0mbar_width\u001b[0m \u001b[0;34m+\u001b[0m \u001b[0mself\u001b[0m\u001b[0;34m.\u001b[0m\u001b[0mlim_offset\u001b[0m\u001b[0;34m\u001b[0m\u001b[0;34m\u001b[0m\u001b[0m\n\u001b[1;32m   1418\u001b[0m \u001b[0;34m\u001b[0m\u001b[0m\n",
      "\u001b[0;31mIndexError\u001b[0m: index 0 is out of bounds for axis 0 with size 0"
     ]
    },
    {
     "data": {
      "image/png": "[encoded data removed]",
      "text/plain": [
       "<Figure size 1080x720 with 1 Axes>"
      ]
     },
     "metadata": {
      "needs_background": "light"
     },
     "output_type": "display_data"
    }
   ],
   "source": [
    "white = white_df.copy()\n",
    "#white\n",
    "plot_rating(white)"
   ]
  },
  {
   "cell_type": "code",
   "execution_count": 102,
   "metadata": {},
   "outputs": [
    {
     "name": "stdout",
     "output_type": "stream",
     "text": [
      "Lowest rated Country    France\n",
      "Rating        4.3\n",
      "dtype: object \n",
      "\n",
      "Median rated Rating    4.431818\n",
      "dtype: float64 \n",
      "\n",
      "Highest rated  Country    Italy\n",
      "Rating       4.6\n",
      "dtype: object \n",
      "\n"
     ]
    },
    {
     "data": {
      "image/png": "[encoded data removed]",
      "text/plain": [
       "<Figure size 1080x720 with 1 Axes>"
      ]
     },
     "metadata": {
      "needs_background": "light"
     },
     "output_type": "display_data"
    }
   ],
   "source": [
    "sparkling = sparkling_df.copy()\n",
    "sparkling\n",
    "plot_rating(sparkling)"
   ]
  }
 ],
 "metadata": {
  "kernelspec": {
   "display_name": "Python 3",
   "language": "python",
   "name": "python3"
  },
  "language_info": {
   "codemirror_mode": {
    "name": "ipython",
    "version": 3
   },
   "file_extension": ".py",
   "mimetype": "text/x-python",
   "name": "python",
   "nbconvert_exporter": "python",
   "pygments_lexer": "ipython3",
   "version": "3.7.6"
  }
 },
 "nbformat": 4,
 "nbformat_minor": 4
}
